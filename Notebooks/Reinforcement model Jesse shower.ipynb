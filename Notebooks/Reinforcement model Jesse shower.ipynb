{
 "cells": [
  {
   "cell_type": "markdown",
   "id": "176ff664",
   "metadata": {},
   "source": [
    "# Importeer librarys"
   ]
  },
  {
   "cell_type": "code",
   "execution_count": 1,
   "id": "94ded020",
   "metadata": {},
   "outputs": [
    {
     "name": "stdout",
     "output_type": "stream",
     "text": [
      "using gpu 4\n"
     ]
    }
   ],
   "source": [
    "# Importeer gym dingen\n",
    "import gym\n",
    "from gym import Env\n",
    "from gym.spaces import Discrete, Box, Tuple, Dict, MultiBinary, MultiDiscrete\n",
    "\n",
    "# Import helpers\n",
    "import numpy as np\n",
    "import random \n",
    "import os\n",
    "\n",
    "# Import stable baselines dingen\n",
    "from stable_baselines3 import PPO\n",
    "from stable_baselines3.common.vec_env import DummyVecEnv\n",
    "from stable_baselines3.common.evaluation import evaluate_policy"
   ]
  },
  {
   "cell_type": "markdown",
   "id": "be4cc7d8",
   "metadata": {},
   "source": [
    "# Types van spaces"
   ]
  },
  {
   "cell_type": "code",
   "execution_count": 2,
   "id": "dffc22f5",
   "metadata": {},
   "outputs": [
    {
     "data": {
      "text/plain": [
       "0"
      ]
     },
     "execution_count": 2,
     "metadata": {},
     "output_type": "execute_result"
    }
   ],
   "source": [
    "Discrete(3).sample()"
   ]
  },
  {
   "cell_type": "code",
   "execution_count": 3,
   "id": "ddebef53",
   "metadata": {},
   "outputs": [
    {
     "data": {
      "text/plain": [
       "array([[0.19966625, 0.44591472, 0.6499098 ],\n",
       "       [0.91634494, 0.02350375, 0.8505323 ],\n",
       "       [0.11668705, 0.95533556, 0.7488635 ]], dtype=float32)"
      ]
     },
     "execution_count": 3,
     "metadata": {},
     "output_type": "execute_result"
    }
   ],
   "source": [
    "Box(0,1, shape = (3,3)).sample()"
   ]
  },
  {
   "cell_type": "code",
   "execution_count": 4,
   "id": "74661a8c",
   "metadata": {},
   "outputs": [
    {
     "data": {
      "text/plain": [
       "(1, array([0.65927815, 0.67812926, 0.54394984], dtype=float32))"
      ]
     },
     "execution_count": 4,
     "metadata": {},
     "output_type": "execute_result"
    }
   ],
   "source": [
    "Tuple((Discrete(3), Box(0,1, shape = (3,)))).sample()"
   ]
  },
  {
   "cell_type": "code",
   "execution_count": 5,
   "id": "51de6e43",
   "metadata": {},
   "outputs": [
    {
     "data": {
      "text/plain": [
       "OrderedDict([('height', 0), ('speed', array([83.02796], dtype=float32))])"
      ]
     },
     "execution_count": 5,
     "metadata": {},
     "output_type": "execute_result"
    }
   ],
   "source": [
    "Dict({'height':Discrete(2), 'speed':Box(0,100, shape = (1,))}).sample()"
   ]
  },
  {
   "cell_type": "code",
   "execution_count": 6,
   "id": "0b450323",
   "metadata": {},
   "outputs": [
    {
     "data": {
      "text/plain": [
       "array([0, 1, 0, 1], dtype=int8)"
      ]
     },
     "execution_count": 6,
     "metadata": {},
     "output_type": "execute_result"
    }
   ],
   "source": [
    "MultiBinary(4).sample()"
   ]
  },
  {
   "cell_type": "code",
   "execution_count": 7,
   "id": "112d6eaa",
   "metadata": {},
   "outputs": [
    {
     "data": {
      "text/plain": [
       "array([1, 0, 1])"
      ]
     },
     "execution_count": 7,
     "metadata": {},
     "output_type": "execute_result"
    }
   ],
   "source": [
    "MultiDiscrete([5,2,2]).sample()"
   ]
  },
  {
   "cell_type": "markdown",
   "id": "eca1aa7c",
   "metadata": {},
   "source": [
    "# Envorinment maken\n",
    "- Build an agent to give us the best shower possible\n",
    "- Randomly temparature\n",
    "- 37 tot 39 degrees"
   ]
  },
  {
   "cell_type": "code",
   "execution_count": 8,
   "id": "a53933d2",
   "metadata": {},
   "outputs": [],
   "source": [
    "class ShowerEnv(Env):\n",
    "    \n",
    "    def __init__(self):\n",
    "        self.action_space = Discrete(3)\n",
    "        self.observation_space = Box(low = 0, high = 100, shape = (1,))\n",
    "        self.state = 38 + random.randint(-3,3)\n",
    "        self.shower_length = 60\n",
    "        \n",
    "    def step(self, action):\n",
    "        # Verander de temperatuur\n",
    "        self.state += action-1\n",
    "        \n",
    "        # Update de resterende douchesessie duur\n",
    "        self.shower_length -= 1\n",
    "        \n",
    "        # Bereken de reward van de actie\n",
    "        if self.state >=37 and self.state <=39:\n",
    "            reward = 1\n",
    "        else:\n",
    "            reward = -1\n",
    "        \n",
    "        # Controleer of de douchesessie is afgelopen\n",
    "        if self.shower_length <= 0:\n",
    "            done = True\n",
    "        else:\n",
    "            done = False\n",
    "        \n",
    "        info = {}\n",
    "        \n",
    "        return self.state, reward, done, info\n",
    "        \n",
    "    def render(self):\n",
    "        # Implement viz\n",
    "        pass\n",
    "    \n",
    "    def reset(self):\n",
    "        self.state = np.array([38+random.randint(-3,3)]).astype(float)\n",
    "        self.shower_length = 60\n",
    "        return self.state\n",
    "    "
   ]
  },
  {
   "cell_type": "code",
   "execution_count": 9,
   "id": "15edc277",
   "metadata": {},
   "outputs": [],
   "source": [
    "env = ShowerEnv()"
   ]
  },
  {
   "cell_type": "code",
   "execution_count": 10,
   "id": "cc8f962a",
   "metadata": {},
   "outputs": [
    {
     "data": {
      "text/plain": [
       "array([82.17465], dtype=float32)"
      ]
     },
     "execution_count": 10,
     "metadata": {},
     "output_type": "execute_result"
    }
   ],
   "source": [
    "env.observation_space.sample()"
   ]
  },
  {
   "cell_type": "code",
   "execution_count": 11,
   "id": "73ee5aa6",
   "metadata": {},
   "outputs": [
    {
     "data": {
      "text/plain": [
       "1"
      ]
     },
     "execution_count": 11,
     "metadata": {},
     "output_type": "execute_result"
    }
   ],
   "source": [
    "env.action_space.sample()"
   ]
  },
  {
   "cell_type": "markdown",
   "id": "94841f66",
   "metadata": {},
   "source": [
    "# Test enviroment"
   ]
  },
  {
   "cell_type": "code",
   "execution_count": 12,
   "id": "111e7bf2",
   "metadata": {},
   "outputs": [
    {
     "name": "stdout",
     "output_type": "stream",
     "text": [
      "Episode:1, Score:16\n",
      "Episode:2, Score:-38\n",
      "Episode:3, Score:-10\n",
      "Episode:4, Score:-8\n",
      "Episode:5, Score:-10\n",
      "Episode:6, Score:-50\n",
      "Episode:7, Score:20\n",
      "Episode:8, Score:-60\n",
      "Episode:9, Score:-52\n",
      "Episode:10, Score:-12\n",
      "Episode:11, Score:10\n",
      "Episode:12, Score:-54\n",
      "Episode:13, Score:4\n",
      "Episode:14, Score:-46\n",
      "Episode:15, Score:-36\n",
      "Episode:16, Score:-4\n",
      "Episode:17, Score:-60\n",
      "Episode:18, Score:-34\n",
      "Episode:19, Score:-22\n",
      "Episode:20, Score:-60\n"
     ]
    }
   ],
   "source": [
    "episodes = 20\n",
    "for episode in range(1, episodes+1):\n",
    "    obs = env.reset()\n",
    "    done = False\n",
    "    score = 0\n",
    "    \n",
    "    while not done:\n",
    "        env.render()\n",
    "        action = env.action_space.sample()\n",
    "        obs, reward, done, info = env.step(action)\n",
    "        score+=reward\n",
    "    print('Episode:{}, Score:{}'.format(episode, score))\n",
    "env.close()"
   ]
  },
  {
   "cell_type": "markdown",
   "id": "b58df0f9",
   "metadata": {},
   "source": [
    "# Model trainen"
   ]
  },
  {
   "cell_type": "code",
   "execution_count": 13,
   "id": "ee0c1380",
   "metadata": {},
   "outputs": [
    {
     "name": "stdout",
     "output_type": "stream",
     "text": [
      "Using cuda device\n",
      "Wrapping the env with a `Monitor` wrapper\n",
      "Wrapping the env in a DummyVecEnv.\n"
     ]
    }
   ],
   "source": [
    "log_path = os.path.join('Training', 'Logs')\n",
    "model = PPO('MlpPolicy', env, verbose = 1)"
   ]
  },
  {
   "cell_type": "code",
   "execution_count": 14,
   "id": "321023e0",
   "metadata": {},
   "outputs": [
    {
     "name": "stdout",
     "output_type": "stream",
     "text": [
      "---------------------------------\n",
      "| rollout/           |          |\n",
      "|    ep_len_mean     | 60       |\n",
      "|    ep_rew_mean     | -29      |\n",
      "| time/              |          |\n",
      "|    fps             | 683      |\n",
      "|    iterations      | 1        |\n",
      "|    time_elapsed    | 2        |\n",
      "|    total_timesteps | 2048     |\n",
      "---------------------------------\n",
      "-----------------------------------------\n",
      "| rollout/                |             |\n",
      "|    ep_len_mean          | 60          |\n",
      "|    ep_rew_mean          | -32.9       |\n",
      "| time/                   |             |\n",
      "|    fps                  | 545         |\n",
      "|    iterations           | 2           |\n",
      "|    time_elapsed         | 7           |\n",
      "|    total_timesteps      | 4096        |\n",
      "| train/                  |             |\n",
      "|    approx_kl            | 0.009915985 |\n",
      "|    clip_fraction        | 0.00811     |\n",
      "|    clip_range           | 0.2         |\n",
      "|    entropy_loss         | -1.09       |\n",
      "|    explained_variance   | -0.000152   |\n",
      "|    learning_rate        | 0.0003      |\n",
      "|    loss                 | 26.2        |\n",
      "|    n_updates            | 10          |\n",
      "|    policy_gradient_loss | -0.000318   |\n",
      "|    value_loss           | 50.4        |\n",
      "-----------------------------------------\n"
     ]
    },
    {
     "data": {
      "text/plain": [
       "<stable_baselines3.ppo.ppo.PPO at 0x7f8d78666a30>"
      ]
     },
     "execution_count": 14,
     "metadata": {},
     "output_type": "execute_result"
    }
   ],
   "source": [
    "model.learn(total_timesteps=4000)"
   ]
  },
  {
   "cell_type": "code",
   "execution_count": null,
   "id": "339fb935",
   "metadata": {},
   "outputs": [],
   "source": []
  },
  {
   "cell_type": "code",
   "execution_count": null,
   "id": "d00be731",
   "metadata": {},
   "outputs": [],
   "source": []
  },
  {
   "cell_type": "code",
   "execution_count": null,
   "id": "eae3b507",
   "metadata": {},
   "outputs": [],
   "source": []
  },
  {
   "cell_type": "code",
   "execution_count": null,
   "id": "1ef3244e",
   "metadata": {},
   "outputs": [],
   "source": []
  },
  {
   "cell_type": "code",
   "execution_count": null,
   "id": "09c96deb",
   "metadata": {},
   "outputs": [],
   "source": []
  },
  {
   "cell_type": "code",
   "execution_count": null,
   "id": "f22379c1",
   "metadata": {},
   "outputs": [],
   "source": []
  }
 ],
 "metadata": {
  "kernelspec": {
   "display_name": "Python 3 (ipykernel)",
   "language": "python",
   "name": "python3"
  },
  "language_info": {
   "codemirror_mode": {
    "name": "ipython",
    "version": 3
   },
   "file_extension": ".py",
   "mimetype": "text/x-python",
   "name": "python",
   "nbconvert_exporter": "python",
   "pygments_lexer": "ipython3",
   "version": "3.9.13"
  }
 },
 "nbformat": 4,
 "nbformat_minor": 5
}
