{
 "cells": [
  {
   "cell_type": "markdown",
   "id": "16b90fe5",
   "metadata": {},
   "source": [
    "# Filteren op noten\n",
    "variabelen aanmaken"
   ]
  },
  {
   "cell_type": "code",
   "execution_count": 3,
   "id": "9c01a775",
   "metadata": {},
   "outputs": [],
   "source": [
    "import pandas as pd\n",
    "import numpy as np\n",
    "\n",
    "#Import dataset to df\n",
    "df = pd.read_csv('Datasets Foodboost/ingredients.csv')\n",
    "\n",
    "#Create empty dictionary\n",
    "notenDict = {}\n",
    "\n",
    "#Create empty lists\n",
    "safeList = []\n",
    "unsafeList = []"
   ]
  },
  {
   "cell_type": "markdown",
   "id": "fecd0c95",
   "metadata": {},
   "source": [
    "Define filter function (This is where we define whether a string contains nuts or not)"
   ]
  },
  {
   "cell_type": "code",
   "execution_count": 4,
   "id": "a2f192e6",
   "metadata": {},
   "outputs": [],
   "source": [
    "def filterFunc(inputString):\n",
    "    notenLijst = [\"noot\",\"pinda\",\"eikel\",\"amandel\",\"cashew\",\"hazelno\",\"hican\",\"hickory\",\"kemirie\",\"macadamia\",\"nangaino\",\"parano\",\"pecan\",\"pistache\",\"kastanje\",\"walnoot\",\"betelno\",\"beukenno\"]\n",
    "    falsePositives = [\"muskaat\"]\n",
    "    for i in falsePositives:\n",
    "        if i in inputString:\n",
    "            return False\n",
    "    for o in notenLijst:\n",
    "        if o in inputString:\n",
    "            return True\n",
    "    return False"
   ]
  },
  {
   "cell_type": "code",
   "execution_count": 5,
   "id": "234ef8c6",
   "metadata": {},
   "outputs": [
    {
     "name": "stdout",
     "output_type": "stream",
     "text": [
      "                                        0\n",
      "Kruidnoten met choco-discodip       False\n",
      "Kruidnoten in marsepein             False\n",
      "Kruidnoten met chocodips            False\n",
      "Pepernotentaart met marsepeinstrik  False\n",
      "Perencake                           False\n"
     ]
    }
   ],
   "source": [
    "#Iterate over every row in the dataset\n",
    "for i in df.itertuples():\n",
    "    #If the recipe is not in the ductionary, add it.\n",
    "    if not i[2] in notenDict.keys():\n",
    "        notenDict[i[2]] = False\n",
    "    \n",
    "    #If the current row has an ingredient that contains nuts, set the ingredient in the dictionary to True\n",
    "    if filterFunc(i[3]):\n",
    "        notenDict[i[2]] = True\n",
    "\n",
    "#Append recipes to corresponding lists.\n",
    "for i in notenDict:\n",
    "    \n",
    "    if notenDict[i]:\n",
    "        unsafeList.append(i)\n",
    "    else:\n",
    "        safeList.append(i)\n",
    "        \n",
    "#Convert Dictionary to DataFrame\n",
    "outputDF = pd.DataFrame.from_dict(notenDict,orient='index')\n",
    "print(outputDF.head())"
   ]
  },
  {
   "cell_type": "code",
   "execution_count": 6,
   "id": "af85812e",
   "metadata": {},
   "outputs": [
    {
     "data": {
      "text/html": [
       "<div>\n",
       "<style scoped>\n",
       "    .dataframe tbody tr th:only-of-type {\n",
       "        vertical-align: middle;\n",
       "    }\n",
       "\n",
       "    .dataframe tbody tr th {\n",
       "        vertical-align: top;\n",
       "    }\n",
       "\n",
       "    .dataframe thead th {\n",
       "        text-align: right;\n",
       "    }\n",
       "</style>\n",
       "<table border=\"1\" class=\"dataframe\">\n",
       "  <thead>\n",
       "    <tr style=\"text-align: right;\">\n",
       "      <th></th>\n",
       "      <th>noten</th>\n",
       "    </tr>\n",
       "  </thead>\n",
       "  <tbody>\n",
       "    <tr>\n",
       "      <th>Kruidnoten met choco-discodip</th>\n",
       "      <td>False</td>\n",
       "    </tr>\n",
       "    <tr>\n",
       "      <th>Kruidnoten in marsepein</th>\n",
       "      <td>False</td>\n",
       "    </tr>\n",
       "    <tr>\n",
       "      <th>Kruidnoten met chocodips</th>\n",
       "      <td>False</td>\n",
       "    </tr>\n",
       "    <tr>\n",
       "      <th>Pepernotentaart met marsepeinstrik</th>\n",
       "      <td>False</td>\n",
       "    </tr>\n",
       "    <tr>\n",
       "      <th>Perencake</th>\n",
       "      <td>False</td>\n",
       "    </tr>\n",
       "    <tr>\n",
       "      <th>...</th>\n",
       "      <td>...</td>\n",
       "    </tr>\n",
       "    <tr>\n",
       "      <th>Paddenstoelen en courgettegratin</th>\n",
       "      <td>False</td>\n",
       "    </tr>\n",
       "    <tr>\n",
       "      <th>Peren-amandelcoupe</th>\n",
       "      <td>True</td>\n",
       "    </tr>\n",
       "    <tr>\n",
       "      <th>Ceviche met sint-jakobsschelpen</th>\n",
       "      <td>False</td>\n",
       "    </tr>\n",
       "    <tr>\n",
       "      <th>Pittige truffels</th>\n",
       "      <td>False</td>\n",
       "    </tr>\n",
       "    <tr>\n",
       "      <th>Biefstuk met rodewijnsaus en ham</th>\n",
       "      <td>False</td>\n",
       "    </tr>\n",
       "  </tbody>\n",
       "</table>\n",
       "<p>8706 rows × 1 columns</p>\n",
       "</div>"
      ],
      "text/plain": [
       "                                    noten\n",
       "Kruidnoten met choco-discodip       False\n",
       "Kruidnoten in marsepein             False\n",
       "Kruidnoten met chocodips            False\n",
       "Pepernotentaart met marsepeinstrik  False\n",
       "Perencake                           False\n",
       "...                                   ...\n",
       "Paddenstoelen en courgettegratin    False\n",
       "Peren-amandelcoupe                   True\n",
       "Ceviche met sint-jakobsschelpen     False\n",
       "Pittige truffels                    False\n",
       "Biefstuk met rodewijnsaus en ham    False\n",
       "\n",
       "[8706 rows x 1 columns]"
      ]
     },
     "execution_count": 6,
     "metadata": {},
     "output_type": "execute_result"
    }
   ],
   "source": [
    "outputDF.rename(columns={0: \"noten\"},inplace=True)\n",
    "outputDF"
   ]
  },
  {
   "cell_type": "markdown",
   "id": "7b06983d",
   "metadata": {},
   "source": [
    "# Filteren naar soort maaltijd"
   ]
  },
  {
   "cell_type": "code",
   "execution_count": 7,
   "id": "91872bc2",
   "metadata": {},
   "outputs": [],
   "source": [
    "tags = pd.read_csv('/data/foodboost/tags.csv')"
   ]
  },
  {
   "cell_type": "code",
   "execution_count": 8,
   "id": "5a646ee0",
   "metadata": {},
   "outputs": [
    {
     "data": {
      "text/html": [
       "<div>\n",
       "<style scoped>\n",
       "    .dataframe tbody tr th:only-of-type {\n",
       "        vertical-align: middle;\n",
       "    }\n",
       "\n",
       "    .dataframe tbody tr th {\n",
       "        vertical-align: top;\n",
       "    }\n",
       "\n",
       "    .dataframe thead th {\n",
       "        text-align: right;\n",
       "    }\n",
       "</style>\n",
       "<table border=\"1\" class=\"dataframe\">\n",
       "  <thead>\n",
       "    <tr style=\"text-align: right;\">\n",
       "      <th></th>\n",
       "      <th>noten</th>\n",
       "      <th>tag</th>\n",
       "    </tr>\n",
       "  </thead>\n",
       "  <tbody>\n",
       "    <tr>\n",
       "      <th>Tartiflette</th>\n",
       "      <td>False</td>\n",
       "      <td>hoofdgerecht</td>\n",
       "    </tr>\n",
       "    <tr>\n",
       "      <th>Ajam pangang</th>\n",
       "      <td>False</td>\n",
       "      <td>hoofdgerecht</td>\n",
       "    </tr>\n",
       "    <tr>\n",
       "      <th>Bloemkoolschotel</th>\n",
       "      <td>False</td>\n",
       "      <td>hoofdgerecht</td>\n",
       "    </tr>\n",
       "    <tr>\n",
       "      <th>Koe loe kai</th>\n",
       "      <td>False</td>\n",
       "      <td>hoofdgerecht</td>\n",
       "    </tr>\n",
       "    <tr>\n",
       "      <th>Pasta pesto met kipstuckjes en tomatensalade</th>\n",
       "      <td>False</td>\n",
       "      <td>hoofdgerecht</td>\n",
       "    </tr>\n",
       "    <tr>\n",
       "      <th>...</th>\n",
       "      <td>...</td>\n",
       "      <td>...</td>\n",
       "    </tr>\n",
       "    <tr>\n",
       "      <th>Romige spaghetti met zalmreepjes</th>\n",
       "      <td>False</td>\n",
       "      <td>hoofdgerecht</td>\n",
       "    </tr>\n",
       "    <tr>\n",
       "      <th>Tijmballetjes met puree</th>\n",
       "      <td>False</td>\n",
       "      <td>hoofdgerecht</td>\n",
       "    </tr>\n",
       "    <tr>\n",
       "      <th>Romige mosselen met dille</th>\n",
       "      <td>False</td>\n",
       "      <td>hoofdgerecht</td>\n",
       "    </tr>\n",
       "    <tr>\n",
       "      <th>Mosselen op z'n Thais</th>\n",
       "      <td>False</td>\n",
       "      <td>hoofdgerecht</td>\n",
       "    </tr>\n",
       "    <tr>\n",
       "      <th>Biefstuk met rodewijnsaus en ham</th>\n",
       "      <td>False</td>\n",
       "      <td>hoofdgerecht</td>\n",
       "    </tr>\n",
       "  </tbody>\n",
       "</table>\n",
       "<p>4593 rows × 2 columns</p>\n",
       "</div>"
      ],
      "text/plain": [
       "                                              noten           tag\n",
       "Tartiflette                                   False  hoofdgerecht\n",
       "Ajam pangang                                  False  hoofdgerecht\n",
       "Bloemkoolschotel                              False  hoofdgerecht\n",
       "Koe loe kai                                   False  hoofdgerecht\n",
       "Pasta pesto met kipstuckjes en tomatensalade  False  hoofdgerecht\n",
       "...                                             ...           ...\n",
       "Romige spaghetti met zalmreepjes              False  hoofdgerecht\n",
       "Tijmballetjes met puree                       False  hoofdgerecht\n",
       "Romige mosselen met dille                     False  hoofdgerecht\n",
       "Mosselen op z'n Thais                         False  hoofdgerecht\n",
       "Biefstuk met rodewijnsaus en ham              False  hoofdgerecht\n",
       "\n",
       "[4593 rows x 2 columns]"
      ]
     },
     "execution_count": 8,
     "metadata": {},
     "output_type": "execute_result"
    }
   ],
   "source": [
    "tagsmaal= ['lunch','diner','hoofdgerecht']\n",
    "maaltijd_alles = tags[tags['tag'].str.contains('|'.join(tagsmaal))]\n",
    "maaltijd_alles=maaltijd_alles.drop_duplicates(subset=['recipe'], keep= 'first')\n",
    "maaltijd_alles = maaltijd_alles.set_index('recipe')\n",
    "\n",
    "zonder_noten= outputDF[outputDF[\"noten\"]==False]\n",
    "DF_noten_maaltijd =pd.merge(zonder_noten, maaltijd_alles, left_index=True, right_index=True)\n",
    "DF_noten_maaltijd= DF_noten_maaltijd[[\"noten\",\"tag\"]]\n",
    "DF_noten_maaltijd"
   ]
  },
  {
   "cell_type": "code",
   "execution_count": null,
   "id": "a7dbb23b",
   "metadata": {},
   "outputs": [],
   "source": []
  }
 ],
 "metadata": {
  "kernelspec": {
   "display_name": "Python 3 (ipykernel)",
   "language": "python",
   "name": "python3"
  },
  "language_info": {
   "codemirror_mode": {
    "name": "ipython",
    "version": 3
   },
   "file_extension": ".py",
   "mimetype": "text/x-python",
   "name": "python",
   "nbconvert_exporter": "python",
   "pygments_lexer": "ipython3",
   "version": "3.9.15"
  }
 },
 "nbformat": 4,
 "nbformat_minor": 5
}
