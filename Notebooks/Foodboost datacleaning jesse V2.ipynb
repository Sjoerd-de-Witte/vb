{
 "cells": [
  {
   "cell_type": "markdown",
   "id": "450f1b6f",
   "metadata": {},
   "source": [
    "# Import libraries and dataset  "
   ]
  },
  {
   "cell_type": "code",
   "execution_count": 59,
   "id": "59ddc260",
   "metadata": {},
   "outputs": [],
   "source": [
    "import pandas as pd\n",
    "import matplotlib.pyplot as plt\n",
    "import numpy as np\n",
    "import math\n",
    "from scipy.stats import lognorm\n",
    "import statsmodels.api as sma\n",
    "from scipy import stats\n",
    "from sklearn import preprocessing\n",
    "from sklearn.model_selection import train_test_split, cross_val_score\n",
    "from sklearn.linear_model import LinearRegression, Ridge\n",
    "from sklearn.metrics import mean_squared_error as mse\n",
    "from sklearn.metrics import r2_score\n",
    "import warnings\n",
    "warnings.filterwarnings('ignore')"
   ]
  },
  {
   "cell_type": "code",
   "execution_count": 60,
   "id": "54f7d4c1",
   "metadata": {},
   "outputs": [],
   "source": [
    "ingr = pd.read_csv('/data/foodboost/ingredients.csv')\n",
    "nutr = pd.read_csv('/data/foodboost/nutritions.csv')\n",
    "recp = pd.read_csv('/data/foodboost/recipes.csv')\n",
    "tags = pd.read_csv('/data/foodboost/tags.csv')"
   ]
  },
  {
   "cell_type": "code",
   "execution_count": 61,
   "id": "8af25fad",
   "metadata": {},
   "outputs": [
    {
     "data": {
      "text/html": [
       "<div>\n",
       "<style scoped>\n",
       "    .dataframe tbody tr th:only-of-type {\n",
       "        vertical-align: middle;\n",
       "    }\n",
       "\n",
       "    .dataframe tbody tr th {\n",
       "        vertical-align: top;\n",
       "    }\n",
       "\n",
       "    .dataframe thead th {\n",
       "        text-align: right;\n",
       "    }\n",
       "</style>\n",
       "<table border=\"1\" class=\"dataframe\">\n",
       "  <thead>\n",
       "    <tr style=\"text-align: right;\">\n",
       "      <th></th>\n",
       "      <th>Unnamed: 0</th>\n",
       "      <th>recipe</th>\n",
       "      <th>nutrition</th>\n",
       "      <th>value</th>\n",
       "    </tr>\n",
       "  </thead>\n",
       "  <tbody>\n",
       "    <tr>\n",
       "      <th>0</th>\n",
       "      <td>0</td>\n",
       "      <td>Kruidnoten met choco-discodip</td>\n",
       "      <td>energie</td>\n",
       "      <td>260 kcal</td>\n",
       "    </tr>\n",
       "    <tr>\n",
       "      <th>1</th>\n",
       "      <td>1</td>\n",
       "      <td>Kruidnoten met choco-discodip</td>\n",
       "      <td>koolhydraten</td>\n",
       "      <td>34 g</td>\n",
       "    </tr>\n",
       "    <tr>\n",
       "      <th>2</th>\n",
       "      <td>2</td>\n",
       "      <td>Kruidnoten met choco-discodip</td>\n",
       "      <td>waarvan suikers</td>\n",
       "      <td>22 g</td>\n",
       "    </tr>\n",
       "    <tr>\n",
       "      <th>3</th>\n",
       "      <td>3</td>\n",
       "      <td>Kruidnoten met choco-discodip</td>\n",
       "      <td>natrium</td>\n",
       "      <td>200 mg</td>\n",
       "    </tr>\n",
       "    <tr>\n",
       "      <th>4</th>\n",
       "      <td>4</td>\n",
       "      <td>Kruidnoten met choco-discodip</td>\n",
       "      <td>eiwit</td>\n",
       "      <td>3 g</td>\n",
       "    </tr>\n",
       "    <tr>\n",
       "      <th>...</th>\n",
       "      <td>...</td>\n",
       "      <td>...</td>\n",
       "      <td>...</td>\n",
       "      <td>...</td>\n",
       "    </tr>\n",
       "    <tr>\n",
       "      <th>58760</th>\n",
       "      <td>58760</td>\n",
       "      <td>Pittige truffels</td>\n",
       "      <td>waarvan verzadigd</td>\n",
       "      <td>0 g</td>\n",
       "    </tr>\n",
       "    <tr>\n",
       "      <th>58761</th>\n",
       "      <td>58761</td>\n",
       "      <td>Biefstuk met rodewijnsaus en ham</td>\n",
       "      <td>energie</td>\n",
       "      <td>360 kcal</td>\n",
       "    </tr>\n",
       "    <tr>\n",
       "      <th>58762</th>\n",
       "      <td>58762</td>\n",
       "      <td>Biefstuk met rodewijnsaus en ham</td>\n",
       "      <td>koolhydraten</td>\n",
       "      <td>2 g</td>\n",
       "    </tr>\n",
       "    <tr>\n",
       "      <th>58763</th>\n",
       "      <td>58763</td>\n",
       "      <td>Biefstuk met rodewijnsaus en ham</td>\n",
       "      <td>eiwit</td>\n",
       "      <td>28 g</td>\n",
       "    </tr>\n",
       "    <tr>\n",
       "      <th>58764</th>\n",
       "      <td>58764</td>\n",
       "      <td>Biefstuk met rodewijnsaus en ham</td>\n",
       "      <td>vet</td>\n",
       "      <td>23 g</td>\n",
       "    </tr>\n",
       "  </tbody>\n",
       "</table>\n",
       "<p>58765 rows × 4 columns</p>\n",
       "</div>"
      ],
      "text/plain": [
       "       Unnamed: 0                            recipe          nutrition  \\\n",
       "0               0     Kruidnoten met choco-discodip            energie   \n",
       "1               1     Kruidnoten met choco-discodip       koolhydraten   \n",
       "2               2     Kruidnoten met choco-discodip    waarvan suikers   \n",
       "3               3     Kruidnoten met choco-discodip            natrium   \n",
       "4               4     Kruidnoten met choco-discodip              eiwit   \n",
       "...           ...                               ...                ...   \n",
       "58760       58760                  Pittige truffels  waarvan verzadigd   \n",
       "58761       58761  Biefstuk met rodewijnsaus en ham            energie   \n",
       "58762       58762  Biefstuk met rodewijnsaus en ham       koolhydraten   \n",
       "58763       58763  Biefstuk met rodewijnsaus en ham              eiwit   \n",
       "58764       58764  Biefstuk met rodewijnsaus en ham                vet   \n",
       "\n",
       "          value  \n",
       "0      260 kcal  \n",
       "1          34 g  \n",
       "2          22 g  \n",
       "3        200 mg  \n",
       "4           3 g  \n",
       "...         ...  \n",
       "58760       0 g  \n",
       "58761  360 kcal  \n",
       "58762       2 g  \n",
       "58763      28 g  \n",
       "58764      23 g  \n",
       "\n",
       "[58765 rows x 4 columns]"
      ]
     },
     "execution_count": 61,
     "metadata": {},
     "output_type": "execute_result"
    }
   ],
   "source": [
    "nutr"
   ]
  },
  {
   "cell_type": "code",
   "execution_count": 62,
   "id": "04ab158f",
   "metadata": {},
   "outputs": [
    {
     "data": {
      "text/html": [
       "<div>\n",
       "<style scoped>\n",
       "    .dataframe tbody tr th:only-of-type {\n",
       "        vertical-align: middle;\n",
       "    }\n",
       "\n",
       "    .dataframe tbody tr th {\n",
       "        vertical-align: top;\n",
       "    }\n",
       "\n",
       "    .dataframe thead th {\n",
       "        text-align: right;\n",
       "    }\n",
       "</style>\n",
       "<table border=\"1\" class=\"dataframe\">\n",
       "  <thead>\n",
       "    <tr style=\"text-align: right;\">\n",
       "      <th></th>\n",
       "      <th>Unnamed: 0</th>\n",
       "      <th>recipe</th>\n",
       "      <th>nutrition</th>\n",
       "      <th>value</th>\n",
       "    </tr>\n",
       "  </thead>\n",
       "  <tbody>\n",
       "    <tr>\n",
       "      <th>0</th>\n",
       "      <td>0</td>\n",
       "      <td>Kruidnoten met choco-discodip</td>\n",
       "      <td>energie</td>\n",
       "      <td>260</td>\n",
       "    </tr>\n",
       "    <tr>\n",
       "      <th>1</th>\n",
       "      <td>1</td>\n",
       "      <td>Kruidnoten met choco-discodip</td>\n",
       "      <td>koolhydraten</td>\n",
       "      <td>34</td>\n",
       "    </tr>\n",
       "    <tr>\n",
       "      <th>2</th>\n",
       "      <td>2</td>\n",
       "      <td>Kruidnoten met choco-discodip</td>\n",
       "      <td>waarvan suikers</td>\n",
       "      <td>22</td>\n",
       "    </tr>\n",
       "    <tr>\n",
       "      <th>3</th>\n",
       "      <td>3</td>\n",
       "      <td>Kruidnoten met choco-discodip</td>\n",
       "      <td>natrium</td>\n",
       "      <td>200</td>\n",
       "    </tr>\n",
       "    <tr>\n",
       "      <th>4</th>\n",
       "      <td>4</td>\n",
       "      <td>Kruidnoten met choco-discodip</td>\n",
       "      <td>eiwit</td>\n",
       "      <td>3</td>\n",
       "    </tr>\n",
       "    <tr>\n",
       "      <th>...</th>\n",
       "      <td>...</td>\n",
       "      <td>...</td>\n",
       "      <td>...</td>\n",
       "      <td>...</td>\n",
       "    </tr>\n",
       "    <tr>\n",
       "      <th>58760</th>\n",
       "      <td>58760</td>\n",
       "      <td>Pittige truffels</td>\n",
       "      <td>waarvan verzadigd</td>\n",
       "      <td>0</td>\n",
       "    </tr>\n",
       "    <tr>\n",
       "      <th>58761</th>\n",
       "      <td>58761</td>\n",
       "      <td>Biefstuk met rodewijnsaus en ham</td>\n",
       "      <td>energie</td>\n",
       "      <td>360</td>\n",
       "    </tr>\n",
       "    <tr>\n",
       "      <th>58762</th>\n",
       "      <td>58762</td>\n",
       "      <td>Biefstuk met rodewijnsaus en ham</td>\n",
       "      <td>koolhydraten</td>\n",
       "      <td>2</td>\n",
       "    </tr>\n",
       "    <tr>\n",
       "      <th>58763</th>\n",
       "      <td>58763</td>\n",
       "      <td>Biefstuk met rodewijnsaus en ham</td>\n",
       "      <td>eiwit</td>\n",
       "      <td>28</td>\n",
       "    </tr>\n",
       "    <tr>\n",
       "      <th>58764</th>\n",
       "      <td>58764</td>\n",
       "      <td>Biefstuk met rodewijnsaus en ham</td>\n",
       "      <td>vet</td>\n",
       "      <td>23</td>\n",
       "    </tr>\n",
       "  </tbody>\n",
       "</table>\n",
       "<p>58765 rows × 4 columns</p>\n",
       "</div>"
      ],
      "text/plain": [
       "       Unnamed: 0                            recipe          nutrition value\n",
       "0               0     Kruidnoten met choco-discodip            energie   260\n",
       "1               1     Kruidnoten met choco-discodip       koolhydraten    34\n",
       "2               2     Kruidnoten met choco-discodip    waarvan suikers    22\n",
       "3               3     Kruidnoten met choco-discodip            natrium   200\n",
       "4               4     Kruidnoten met choco-discodip              eiwit     3\n",
       "...           ...                               ...                ...   ...\n",
       "58760       58760                  Pittige truffels  waarvan verzadigd     0\n",
       "58761       58761  Biefstuk met rodewijnsaus en ham            energie   360\n",
       "58762       58762  Biefstuk met rodewijnsaus en ham       koolhydraten     2\n",
       "58763       58763  Biefstuk met rodewijnsaus en ham              eiwit    28\n",
       "58764       58764  Biefstuk met rodewijnsaus en ham                vet    23\n",
       "\n",
       "[58765 rows x 4 columns]"
      ]
     },
     "execution_count": 62,
     "metadata": {},
     "output_type": "execute_result"
    }
   ],
   "source": [
    "valuelist = []\n",
    "\n",
    "for value in nutr.value:\n",
    "    if 'kcal' in value:\n",
    "        valuelist.append(str(value[:-5]))\n",
    "    elif 'mg' in value:\n",
    "        valuelist.append(str(value[:-3]))\n",
    "    elif 'g' in value:\n",
    "        valuelist.append(str(value[:-2]))\n",
    "        \n",
    "nutr['value'] = valuelist\n",
    "nutr"
   ]
  },
  {
   "cell_type": "markdown",
   "id": "e92ca3d6",
   "metadata": {},
   "source": [
    "# Make df with columns of all nutritions"
   ]
  },
  {
   "cell_type": "code",
   "execution_count": 63,
   "id": "7819b1b1",
   "metadata": {},
   "outputs": [
    {
     "data": {
      "text/html": [
       "<div>\n",
       "<style scoped>\n",
       "    .dataframe tbody tr th:only-of-type {\n",
       "        vertical-align: middle;\n",
       "    }\n",
       "\n",
       "    .dataframe tbody tr th {\n",
       "        vertical-align: top;\n",
       "    }\n",
       "\n",
       "    .dataframe thead th {\n",
       "        text-align: right;\n",
       "    }\n",
       "</style>\n",
       "<table border=\"1\" class=\"dataframe\">\n",
       "  <thead>\n",
       "    <tr style=\"text-align: right;\">\n",
       "      <th>nutrition</th>\n",
       "      <th>eiwit</th>\n",
       "      <th>energie</th>\n",
       "      <th>koolhydraten</th>\n",
       "      <th>natrium</th>\n",
       "      <th>vet</th>\n",
       "      <th>vezels</th>\n",
       "      <th>waarvan suikers</th>\n",
       "      <th>waarvan verzadigd</th>\n",
       "    </tr>\n",
       "    <tr>\n",
       "      <th>recipe</th>\n",
       "      <th></th>\n",
       "      <th></th>\n",
       "      <th></th>\n",
       "      <th></th>\n",
       "      <th></th>\n",
       "      <th></th>\n",
       "      <th></th>\n",
       "      <th></th>\n",
       "    </tr>\n",
       "  </thead>\n",
       "  <tbody>\n",
       "    <tr>\n",
       "      <th>Andijviestamppot met gebakken salami</th>\n",
       "      <td>25</td>\n",
       "      <td>630</td>\n",
       "      <td>36</td>\n",
       "      <td>1875</td>\n",
       "      <td>41</td>\n",
       "      <td>7</td>\n",
       "      <td>NaN</td>\n",
       "      <td>17</td>\n",
       "    </tr>\n",
       "    <tr>\n",
       "      <th>Bietensoep met selderijroom</th>\n",
       "      <td>3</td>\n",
       "      <td>160</td>\n",
       "      <td>11</td>\n",
       "      <td>1160</td>\n",
       "      <td>11</td>\n",
       "      <td>5</td>\n",
       "      <td>NaN</td>\n",
       "      <td>5</td>\n",
       "    </tr>\n",
       "    <tr>\n",
       "      <th>Libanese wraps met appel-koolsalade</th>\n",
       "      <td>21</td>\n",
       "      <td>440</td>\n",
       "      <td>45</td>\n",
       "      <td>440</td>\n",
       "      <td>18</td>\n",
       "      <td>9</td>\n",
       "      <td>NaN</td>\n",
       "      <td>3</td>\n",
       "    </tr>\n",
       "    <tr>\n",
       "      <th>Plaattaart met gegrilde groenten en witte kaas</th>\n",
       "      <td>16</td>\n",
       "      <td>550</td>\n",
       "      <td>38</td>\n",
       "      <td>760</td>\n",
       "      <td>35</td>\n",
       "      <td>8</td>\n",
       "      <td>11</td>\n",
       "      <td>16</td>\n",
       "    </tr>\n",
       "    <tr>\n",
       "      <th>Sticky cauliflower (gegrilde bloemkoolroosjes) van Jord Althuizen</th>\n",
       "      <td>8</td>\n",
       "      <td>235</td>\n",
       "      <td>16</td>\n",
       "      <td>800</td>\n",
       "      <td>14</td>\n",
       "      <td>6</td>\n",
       "      <td>NaN</td>\n",
       "      <td>2</td>\n",
       "    </tr>\n",
       "    <tr>\n",
       "      <th>...</th>\n",
       "      <td>...</td>\n",
       "      <td>...</td>\n",
       "      <td>...</td>\n",
       "      <td>...</td>\n",
       "      <td>...</td>\n",
       "      <td>...</td>\n",
       "      <td>...</td>\n",
       "      <td>...</td>\n",
       "    </tr>\n",
       "    <tr>\n",
       "      <th>Zweedse gehaktballetjes met room</th>\n",
       "      <td>33</td>\n",
       "      <td>640</td>\n",
       "      <td>26</td>\n",
       "      <td>520</td>\n",
       "      <td>45</td>\n",
       "      <td>2</td>\n",
       "      <td>NaN</td>\n",
       "      <td>22</td>\n",
       "    </tr>\n",
       "    <tr>\n",
       "      <th>Zweedse vegaballetjes met aardappel &amp;amp; broccoli</th>\n",
       "      <td>38</td>\n",
       "      <td>770</td>\n",
       "      <td>76</td>\n",
       "      <td>1320</td>\n",
       "      <td>31</td>\n",
       "      <td>17</td>\n",
       "      <td>NaN</td>\n",
       "      <td>10</td>\n",
       "    </tr>\n",
       "    <tr>\n",
       "      <th>Zwitserse kaasfondue</th>\n",
       "      <td>56</td>\n",
       "      <td>850</td>\n",
       "      <td>7</td>\n",
       "      <td>920</td>\n",
       "      <td>63</td>\n",
       "      <td>0</td>\n",
       "      <td>5</td>\n",
       "      <td>38</td>\n",
       "    </tr>\n",
       "    <tr>\n",
       "      <th>Îles flottantes</th>\n",
       "      <td>10</td>\n",
       "      <td>290</td>\n",
       "      <td>49</td>\n",
       "      <td>125</td>\n",
       "      <td>6</td>\n",
       "      <td>NaN</td>\n",
       "      <td>NaN</td>\n",
       "      <td>3</td>\n",
       "    </tr>\n",
       "    <tr>\n",
       "      <th>‘Nasi’ met Hollandse soepgroente</th>\n",
       "      <td>18</td>\n",
       "      <td>500</td>\n",
       "      <td>71</td>\n",
       "      <td>200</td>\n",
       "      <td>14</td>\n",
       "      <td>7</td>\n",
       "      <td>8</td>\n",
       "      <td>3</td>\n",
       "    </tr>\n",
       "  </tbody>\n",
       "</table>\n",
       "<p>8706 rows × 8 columns</p>\n",
       "</div>"
      ],
      "text/plain": [
       "nutrition                                          eiwit energie koolhydraten  \\\n",
       "recipe                                                                          \n",
       " Andijviestamppot met gebakken salami                 25     630           36   \n",
       " Bietensoep met selderijroom                           3     160           11   \n",
       " Libanese wraps met appel-koolsalade                  21     440           45   \n",
       " Plaattaart met gegrilde groenten en witte kaas       16     550           38   \n",
       " Sticky cauliflower (gegrilde bloemkoolroosjes)...     8     235           16   \n",
       "...                                                  ...     ...          ...   \n",
       "Zweedse gehaktballetjes met room                      33     640           26   \n",
       "Zweedse vegaballetjes met aardappel &amp; broccoli    38     770           76   \n",
       "Zwitserse kaasfondue                                  56     850            7   \n",
       "Îles flottantes                                       10     290           49   \n",
       "‘Nasi’ met Hollandse soepgroente                      18     500           71   \n",
       "\n",
       "nutrition                                          natrium vet vezels  \\\n",
       "recipe                                                                  \n",
       " Andijviestamppot met gebakken salami                 1875  41      7   \n",
       " Bietensoep met selderijroom                          1160  11      5   \n",
       " Libanese wraps met appel-koolsalade                   440  18      9   \n",
       " Plaattaart met gegrilde groenten en witte kaas        760  35      8   \n",
       " Sticky cauliflower (gegrilde bloemkoolroosjes)...     800  14      6   \n",
       "...                                                    ...  ..    ...   \n",
       "Zweedse gehaktballetjes met room                       520  45      2   \n",
       "Zweedse vegaballetjes met aardappel &amp; broccoli    1320  31     17   \n",
       "Zwitserse kaasfondue                                   920  63      0   \n",
       "Îles flottantes                                        125   6    NaN   \n",
       "‘Nasi’ met Hollandse soepgroente                       200  14      7   \n",
       "\n",
       "nutrition                                          waarvan suikers  \\\n",
       "recipe                                                               \n",
       " Andijviestamppot met gebakken salami                          NaN   \n",
       " Bietensoep met selderijroom                                   NaN   \n",
       " Libanese wraps met appel-koolsalade                           NaN   \n",
       " Plaattaart met gegrilde groenten en witte kaas                 11   \n",
       " Sticky cauliflower (gegrilde bloemkoolroosjes)...             NaN   \n",
       "...                                                            ...   \n",
       "Zweedse gehaktballetjes met room                               NaN   \n",
       "Zweedse vegaballetjes met aardappel &amp; broccoli             NaN   \n",
       "Zwitserse kaasfondue                                             5   \n",
       "Îles flottantes                                                NaN   \n",
       "‘Nasi’ met Hollandse soepgroente                                 8   \n",
       "\n",
       "nutrition                                          waarvan verzadigd  \n",
       "recipe                                                                \n",
       " Andijviestamppot met gebakken salami                             17  \n",
       " Bietensoep met selderijroom                                       5  \n",
       " Libanese wraps met appel-koolsalade                               3  \n",
       " Plaattaart met gegrilde groenten en witte kaas                   16  \n",
       " Sticky cauliflower (gegrilde bloemkoolroosjes)...                 2  \n",
       "...                                                              ...  \n",
       "Zweedse gehaktballetjes met room                                  22  \n",
       "Zweedse vegaballetjes met aardappel &amp; broccoli                10  \n",
       "Zwitserse kaasfondue                                              38  \n",
       "Îles flottantes                                                    3  \n",
       "‘Nasi’ met Hollandse soepgroente                                   3  \n",
       "\n",
       "[8706 rows x 8 columns]"
      ]
     },
     "execution_count": 63,
     "metadata": {},
     "output_type": "execute_result"
    }
   ],
   "source": [
    "df = nutr.pivot(index = 'recipe', columns = 'nutrition', values = 'value')\n",
    "df"
   ]
  },
  {
   "cell_type": "code",
   "execution_count": 64,
   "id": "041e4afa",
   "metadata": {},
   "outputs": [
    {
     "data": {
      "text/html": [
       "<div>\n",
       "<style scoped>\n",
       "    .dataframe tbody tr th:only-of-type {\n",
       "        vertical-align: middle;\n",
       "    }\n",
       "\n",
       "    .dataframe tbody tr th {\n",
       "        vertical-align: top;\n",
       "    }\n",
       "\n",
       "    .dataframe thead th {\n",
       "        text-align: right;\n",
       "    }\n",
       "</style>\n",
       "<table border=\"1\" class=\"dataframe\">\n",
       "  <thead>\n",
       "    <tr style=\"text-align: right;\">\n",
       "      <th>nutrition</th>\n",
       "      <th>eiwit</th>\n",
       "      <th>energie</th>\n",
       "      <th>koolhydraten</th>\n",
       "      <th>natrium</th>\n",
       "      <th>vet</th>\n",
       "      <th>vezels</th>\n",
       "      <th>waarvan suikers</th>\n",
       "      <th>waarvan verzadigd</th>\n",
       "    </tr>\n",
       "    <tr>\n",
       "      <th>recipe</th>\n",
       "      <th></th>\n",
       "      <th></th>\n",
       "      <th></th>\n",
       "      <th></th>\n",
       "      <th></th>\n",
       "      <th></th>\n",
       "      <th></th>\n",
       "      <th></th>\n",
       "    </tr>\n",
       "  </thead>\n",
       "  <tbody>\n",
       "    <tr>\n",
       "      <th>Andijviestamppot met gebakken salami</th>\n",
       "      <td>25</td>\n",
       "      <td>630</td>\n",
       "      <td>36</td>\n",
       "      <td>1875</td>\n",
       "      <td>41</td>\n",
       "      <td>7</td>\n",
       "      <td>0</td>\n",
       "      <td>17</td>\n",
       "    </tr>\n",
       "    <tr>\n",
       "      <th>Bietensoep met selderijroom</th>\n",
       "      <td>3</td>\n",
       "      <td>160</td>\n",
       "      <td>11</td>\n",
       "      <td>1160</td>\n",
       "      <td>11</td>\n",
       "      <td>5</td>\n",
       "      <td>0</td>\n",
       "      <td>5</td>\n",
       "    </tr>\n",
       "    <tr>\n",
       "      <th>Libanese wraps met appel-koolsalade</th>\n",
       "      <td>21</td>\n",
       "      <td>440</td>\n",
       "      <td>45</td>\n",
       "      <td>440</td>\n",
       "      <td>18</td>\n",
       "      <td>9</td>\n",
       "      <td>0</td>\n",
       "      <td>3</td>\n",
       "    </tr>\n",
       "    <tr>\n",
       "      <th>Plaattaart met gegrilde groenten en witte kaas</th>\n",
       "      <td>16</td>\n",
       "      <td>550</td>\n",
       "      <td>38</td>\n",
       "      <td>760</td>\n",
       "      <td>35</td>\n",
       "      <td>8</td>\n",
       "      <td>11</td>\n",
       "      <td>16</td>\n",
       "    </tr>\n",
       "    <tr>\n",
       "      <th>Sticky cauliflower (gegrilde bloemkoolroosjes) van Jord Althuizen</th>\n",
       "      <td>8</td>\n",
       "      <td>235</td>\n",
       "      <td>16</td>\n",
       "      <td>800</td>\n",
       "      <td>14</td>\n",
       "      <td>6</td>\n",
       "      <td>0</td>\n",
       "      <td>2</td>\n",
       "    </tr>\n",
       "    <tr>\n",
       "      <th>...</th>\n",
       "      <td>...</td>\n",
       "      <td>...</td>\n",
       "      <td>...</td>\n",
       "      <td>...</td>\n",
       "      <td>...</td>\n",
       "      <td>...</td>\n",
       "      <td>...</td>\n",
       "      <td>...</td>\n",
       "    </tr>\n",
       "    <tr>\n",
       "      <th>Zweedse gehaktballetjes met room</th>\n",
       "      <td>33</td>\n",
       "      <td>640</td>\n",
       "      <td>26</td>\n",
       "      <td>520</td>\n",
       "      <td>45</td>\n",
       "      <td>2</td>\n",
       "      <td>0</td>\n",
       "      <td>22</td>\n",
       "    </tr>\n",
       "    <tr>\n",
       "      <th>Zweedse vegaballetjes met aardappel &amp;amp; broccoli</th>\n",
       "      <td>38</td>\n",
       "      <td>770</td>\n",
       "      <td>76</td>\n",
       "      <td>1320</td>\n",
       "      <td>31</td>\n",
       "      <td>17</td>\n",
       "      <td>0</td>\n",
       "      <td>10</td>\n",
       "    </tr>\n",
       "    <tr>\n",
       "      <th>Zwitserse kaasfondue</th>\n",
       "      <td>56</td>\n",
       "      <td>850</td>\n",
       "      <td>7</td>\n",
       "      <td>920</td>\n",
       "      <td>63</td>\n",
       "      <td>0</td>\n",
       "      <td>5</td>\n",
       "      <td>38</td>\n",
       "    </tr>\n",
       "    <tr>\n",
       "      <th>Îles flottantes</th>\n",
       "      <td>10</td>\n",
       "      <td>290</td>\n",
       "      <td>49</td>\n",
       "      <td>125</td>\n",
       "      <td>6</td>\n",
       "      <td>0</td>\n",
       "      <td>0</td>\n",
       "      <td>3</td>\n",
       "    </tr>\n",
       "    <tr>\n",
       "      <th>‘Nasi’ met Hollandse soepgroente</th>\n",
       "      <td>18</td>\n",
       "      <td>500</td>\n",
       "      <td>71</td>\n",
       "      <td>200</td>\n",
       "      <td>14</td>\n",
       "      <td>7</td>\n",
       "      <td>8</td>\n",
       "      <td>3</td>\n",
       "    </tr>\n",
       "  </tbody>\n",
       "</table>\n",
       "<p>8706 rows × 8 columns</p>\n",
       "</div>"
      ],
      "text/plain": [
       "nutrition                                          eiwit energie koolhydraten  \\\n",
       "recipe                                                                          \n",
       " Andijviestamppot met gebakken salami                 25     630           36   \n",
       " Bietensoep met selderijroom                           3     160           11   \n",
       " Libanese wraps met appel-koolsalade                  21     440           45   \n",
       " Plaattaart met gegrilde groenten en witte kaas       16     550           38   \n",
       " Sticky cauliflower (gegrilde bloemkoolroosjes)...     8     235           16   \n",
       "...                                                  ...     ...          ...   \n",
       "Zweedse gehaktballetjes met room                      33     640           26   \n",
       "Zweedse vegaballetjes met aardappel &amp; broccoli    38     770           76   \n",
       "Zwitserse kaasfondue                                  56     850            7   \n",
       "Îles flottantes                                       10     290           49   \n",
       "‘Nasi’ met Hollandse soepgroente                      18     500           71   \n",
       "\n",
       "nutrition                                          natrium vet vezels  \\\n",
       "recipe                                                                  \n",
       " Andijviestamppot met gebakken salami                 1875  41      7   \n",
       " Bietensoep met selderijroom                          1160  11      5   \n",
       " Libanese wraps met appel-koolsalade                   440  18      9   \n",
       " Plaattaart met gegrilde groenten en witte kaas        760  35      8   \n",
       " Sticky cauliflower (gegrilde bloemkoolroosjes)...     800  14      6   \n",
       "...                                                    ...  ..    ...   \n",
       "Zweedse gehaktballetjes met room                       520  45      2   \n",
       "Zweedse vegaballetjes met aardappel &amp; broccoli    1320  31     17   \n",
       "Zwitserse kaasfondue                                   920  63      0   \n",
       "Îles flottantes                                        125   6      0   \n",
       "‘Nasi’ met Hollandse soepgroente                       200  14      7   \n",
       "\n",
       "nutrition                                          waarvan suikers  \\\n",
       "recipe                                                               \n",
       " Andijviestamppot met gebakken salami                            0   \n",
       " Bietensoep met selderijroom                                     0   \n",
       " Libanese wraps met appel-koolsalade                             0   \n",
       " Plaattaart met gegrilde groenten en witte kaas                 11   \n",
       " Sticky cauliflower (gegrilde bloemkoolroosjes)...               0   \n",
       "...                                                            ...   \n",
       "Zweedse gehaktballetjes met room                                 0   \n",
       "Zweedse vegaballetjes met aardappel &amp; broccoli               0   \n",
       "Zwitserse kaasfondue                                             5   \n",
       "Îles flottantes                                                  0   \n",
       "‘Nasi’ met Hollandse soepgroente                                 8   \n",
       "\n",
       "nutrition                                          waarvan verzadigd  \n",
       "recipe                                                                \n",
       " Andijviestamppot met gebakken salami                             17  \n",
       " Bietensoep met selderijroom                                       5  \n",
       " Libanese wraps met appel-koolsalade                               3  \n",
       " Plaattaart met gegrilde groenten en witte kaas                   16  \n",
       " Sticky cauliflower (gegrilde bloemkoolroosjes)...                 2  \n",
       "...                                                              ...  \n",
       "Zweedse gehaktballetjes met room                                  22  \n",
       "Zweedse vegaballetjes met aardappel &amp; broccoli                10  \n",
       "Zwitserse kaasfondue                                              38  \n",
       "Îles flottantes                                                    3  \n",
       "‘Nasi’ met Hollandse soepgroente                                   3  \n",
       "\n",
       "[8706 rows x 8 columns]"
      ]
     },
     "execution_count": 64,
     "metadata": {},
     "output_type": "execute_result"
    }
   ],
   "source": [
    "nutritions = ['eiwit','koolhydraten','vet','vezels','waarvan suikers','waarvan verzadigd']\n",
    "\n",
    "for kolommen in nutritions:\n",
    "    df[kolommen] = df[kolommen].fillna('0')\n",
    "df"
   ]
  },
  {
   "cell_type": "code",
   "execution_count": 65,
   "id": "f5e9447c",
   "metadata": {},
   "outputs": [
    {
     "data": {
      "text/plain": [
       "nutrition\n",
       "eiwit                   0\n",
       "energie                 0\n",
       "koolhydraten            0\n",
       "natrium              1404\n",
       "vet                     0\n",
       "vezels                  0\n",
       "waarvan suikers         0\n",
       "waarvan verzadigd       0\n",
       "dtype: int64"
      ]
     },
     "execution_count": 65,
     "metadata": {},
     "output_type": "execute_result"
    }
   ],
   "source": [
    "df.isnull().sum()"
   ]
  },
  {
   "cell_type": "code",
   "execution_count": 66,
   "id": "4ed682d6",
   "metadata": {},
   "outputs": [
    {
     "data": {
      "text/html": [
       "<div>\n",
       "<style scoped>\n",
       "    .dataframe tbody tr th:only-of-type {\n",
       "        vertical-align: middle;\n",
       "    }\n",
       "\n",
       "    .dataframe tbody tr th {\n",
       "        vertical-align: top;\n",
       "    }\n",
       "\n",
       "    .dataframe thead th {\n",
       "        text-align: right;\n",
       "    }\n",
       "</style>\n",
       "<table border=\"1\" class=\"dataframe\">\n",
       "  <thead>\n",
       "    <tr style=\"text-align: right;\">\n",
       "      <th>nutrition</th>\n",
       "      <th>eiwit</th>\n",
       "      <th>energie</th>\n",
       "      <th>koolhydraten</th>\n",
       "      <th>natrium</th>\n",
       "      <th>vet</th>\n",
       "      <th>vezels</th>\n",
       "      <th>waarvan suikers</th>\n",
       "      <th>waarvan verzadigd</th>\n",
       "    </tr>\n",
       "    <tr>\n",
       "      <th>recipe</th>\n",
       "      <th></th>\n",
       "      <th></th>\n",
       "      <th></th>\n",
       "      <th></th>\n",
       "      <th></th>\n",
       "      <th></th>\n",
       "      <th></th>\n",
       "      <th></th>\n",
       "    </tr>\n",
       "  </thead>\n",
       "  <tbody>\n",
       "    <tr>\n",
       "      <th>Andijviestamppot met gebakken salami</th>\n",
       "      <td>25.0</td>\n",
       "      <td>630.0</td>\n",
       "      <td>36.0</td>\n",
       "      <td>1875.0</td>\n",
       "      <td>41.0</td>\n",
       "      <td>7.0</td>\n",
       "      <td>0.0</td>\n",
       "      <td>17.0</td>\n",
       "    </tr>\n",
       "    <tr>\n",
       "      <th>Bietensoep met selderijroom</th>\n",
       "      <td>3.0</td>\n",
       "      <td>160.0</td>\n",
       "      <td>11.0</td>\n",
       "      <td>1160.0</td>\n",
       "      <td>11.0</td>\n",
       "      <td>5.0</td>\n",
       "      <td>0.0</td>\n",
       "      <td>5.0</td>\n",
       "    </tr>\n",
       "    <tr>\n",
       "      <th>Libanese wraps met appel-koolsalade</th>\n",
       "      <td>21.0</td>\n",
       "      <td>440.0</td>\n",
       "      <td>45.0</td>\n",
       "      <td>440.0</td>\n",
       "      <td>18.0</td>\n",
       "      <td>9.0</td>\n",
       "      <td>0.0</td>\n",
       "      <td>3.0</td>\n",
       "    </tr>\n",
       "    <tr>\n",
       "      <th>Plaattaart met gegrilde groenten en witte kaas</th>\n",
       "      <td>16.0</td>\n",
       "      <td>550.0</td>\n",
       "      <td>38.0</td>\n",
       "      <td>760.0</td>\n",
       "      <td>35.0</td>\n",
       "      <td>8.0</td>\n",
       "      <td>11.0</td>\n",
       "      <td>16.0</td>\n",
       "    </tr>\n",
       "    <tr>\n",
       "      <th>Sticky cauliflower (gegrilde bloemkoolroosjes) van Jord Althuizen</th>\n",
       "      <td>8.0</td>\n",
       "      <td>235.0</td>\n",
       "      <td>16.0</td>\n",
       "      <td>800.0</td>\n",
       "      <td>14.0</td>\n",
       "      <td>6.0</td>\n",
       "      <td>0.0</td>\n",
       "      <td>2.0</td>\n",
       "    </tr>\n",
       "    <tr>\n",
       "      <th>...</th>\n",
       "      <td>...</td>\n",
       "      <td>...</td>\n",
       "      <td>...</td>\n",
       "      <td>...</td>\n",
       "      <td>...</td>\n",
       "      <td>...</td>\n",
       "      <td>...</td>\n",
       "      <td>...</td>\n",
       "    </tr>\n",
       "    <tr>\n",
       "      <th>Zweedse gehaktballetjes met room</th>\n",
       "      <td>33.0</td>\n",
       "      <td>640.0</td>\n",
       "      <td>26.0</td>\n",
       "      <td>520.0</td>\n",
       "      <td>45.0</td>\n",
       "      <td>2.0</td>\n",
       "      <td>0.0</td>\n",
       "      <td>22.0</td>\n",
       "    </tr>\n",
       "    <tr>\n",
       "      <th>Zweedse vegaballetjes met aardappel &amp;amp; broccoli</th>\n",
       "      <td>38.0</td>\n",
       "      <td>770.0</td>\n",
       "      <td>76.0</td>\n",
       "      <td>1320.0</td>\n",
       "      <td>31.0</td>\n",
       "      <td>17.0</td>\n",
       "      <td>0.0</td>\n",
       "      <td>10.0</td>\n",
       "    </tr>\n",
       "    <tr>\n",
       "      <th>Zwitserse kaasfondue</th>\n",
       "      <td>56.0</td>\n",
       "      <td>850.0</td>\n",
       "      <td>7.0</td>\n",
       "      <td>920.0</td>\n",
       "      <td>63.0</td>\n",
       "      <td>0.0</td>\n",
       "      <td>5.0</td>\n",
       "      <td>38.0</td>\n",
       "    </tr>\n",
       "    <tr>\n",
       "      <th>Îles flottantes</th>\n",
       "      <td>10.0</td>\n",
       "      <td>290.0</td>\n",
       "      <td>49.0</td>\n",
       "      <td>125.0</td>\n",
       "      <td>6.0</td>\n",
       "      <td>0.0</td>\n",
       "      <td>0.0</td>\n",
       "      <td>3.0</td>\n",
       "    </tr>\n",
       "    <tr>\n",
       "      <th>‘Nasi’ met Hollandse soepgroente</th>\n",
       "      <td>18.0</td>\n",
       "      <td>500.0</td>\n",
       "      <td>71.0</td>\n",
       "      <td>200.0</td>\n",
       "      <td>14.0</td>\n",
       "      <td>7.0</td>\n",
       "      <td>8.0</td>\n",
       "      <td>3.0</td>\n",
       "    </tr>\n",
       "  </tbody>\n",
       "</table>\n",
       "<p>8706 rows × 8 columns</p>\n",
       "</div>"
      ],
      "text/plain": [
       "nutrition                                           eiwit  energie  \\\n",
       "recipe                                                               \n",
       " Andijviestamppot met gebakken salami                25.0    630.0   \n",
       " Bietensoep met selderijroom                          3.0    160.0   \n",
       " Libanese wraps met appel-koolsalade                 21.0    440.0   \n",
       " Plaattaart met gegrilde groenten en witte kaas      16.0    550.0   \n",
       " Sticky cauliflower (gegrilde bloemkoolroosjes)...    8.0    235.0   \n",
       "...                                                   ...      ...   \n",
       "Zweedse gehaktballetjes met room                     33.0    640.0   \n",
       "Zweedse vegaballetjes met aardappel &amp; broccoli   38.0    770.0   \n",
       "Zwitserse kaasfondue                                 56.0    850.0   \n",
       "Îles flottantes                                      10.0    290.0   \n",
       "‘Nasi’ met Hollandse soepgroente                     18.0    500.0   \n",
       "\n",
       "nutrition                                           koolhydraten  natrium  \\\n",
       "recipe                                                                      \n",
       " Andijviestamppot met gebakken salami                       36.0   1875.0   \n",
       " Bietensoep met selderijroom                                11.0   1160.0   \n",
       " Libanese wraps met appel-koolsalade                        45.0    440.0   \n",
       " Plaattaart met gegrilde groenten en witte kaas             38.0    760.0   \n",
       " Sticky cauliflower (gegrilde bloemkoolroosjes)...          16.0    800.0   \n",
       "...                                                          ...      ...   \n",
       "Zweedse gehaktballetjes met room                            26.0    520.0   \n",
       "Zweedse vegaballetjes met aardappel &amp; broccoli          76.0   1320.0   \n",
       "Zwitserse kaasfondue                                         7.0    920.0   \n",
       "Îles flottantes                                             49.0    125.0   \n",
       "‘Nasi’ met Hollandse soepgroente                            71.0    200.0   \n",
       "\n",
       "nutrition                                            vet  vezels  \\\n",
       "recipe                                                             \n",
       " Andijviestamppot met gebakken salami               41.0     7.0   \n",
       " Bietensoep met selderijroom                        11.0     5.0   \n",
       " Libanese wraps met appel-koolsalade                18.0     9.0   \n",
       " Plaattaart met gegrilde groenten en witte kaas     35.0     8.0   \n",
       " Sticky cauliflower (gegrilde bloemkoolroosjes)...  14.0     6.0   \n",
       "...                                                  ...     ...   \n",
       "Zweedse gehaktballetjes met room                    45.0     2.0   \n",
       "Zweedse vegaballetjes met aardappel &amp; broccoli  31.0    17.0   \n",
       "Zwitserse kaasfondue                                63.0     0.0   \n",
       "Îles flottantes                                      6.0     0.0   \n",
       "‘Nasi’ met Hollandse soepgroente                    14.0     7.0   \n",
       "\n",
       "nutrition                                           waarvan suikers  \\\n",
       "recipe                                                                \n",
       " Andijviestamppot met gebakken salami                           0.0   \n",
       " Bietensoep met selderijroom                                    0.0   \n",
       " Libanese wraps met appel-koolsalade                            0.0   \n",
       " Plaattaart met gegrilde groenten en witte kaas                11.0   \n",
       " Sticky cauliflower (gegrilde bloemkoolroosjes)...              0.0   \n",
       "...                                                             ...   \n",
       "Zweedse gehaktballetjes met room                                0.0   \n",
       "Zweedse vegaballetjes met aardappel &amp; broccoli              0.0   \n",
       "Zwitserse kaasfondue                                            5.0   \n",
       "Îles flottantes                                                 0.0   \n",
       "‘Nasi’ met Hollandse soepgroente                                8.0   \n",
       "\n",
       "nutrition                                           waarvan verzadigd  \n",
       "recipe                                                                 \n",
       " Andijviestamppot met gebakken salami                            17.0  \n",
       " Bietensoep met selderijroom                                      5.0  \n",
       " Libanese wraps met appel-koolsalade                              3.0  \n",
       " Plaattaart met gegrilde groenten en witte kaas                  16.0  \n",
       " Sticky cauliflower (gegrilde bloemkoolroosjes)...                2.0  \n",
       "...                                                               ...  \n",
       "Zweedse gehaktballetjes met room                                 22.0  \n",
       "Zweedse vegaballetjes met aardappel &amp; broccoli               10.0  \n",
       "Zwitserse kaasfondue                                             38.0  \n",
       "Îles flottantes                                                   3.0  \n",
       "‘Nasi’ met Hollandse soepgroente                                  3.0  \n",
       "\n",
       "[8706 rows x 8 columns]"
      ]
     },
     "execution_count": 66,
     "metadata": {},
     "output_type": "execute_result"
    }
   ],
   "source": [
    "df = df.astype(np.float64)\n",
    "df"
   ]
  },
  {
   "cell_type": "markdown",
   "id": "efe31720",
   "metadata": {},
   "source": [
    "# Create test and train dataset"
   ]
  },
  {
   "cell_type": "code",
   "execution_count": 67,
   "id": "e4e13252",
   "metadata": {},
   "outputs": [],
   "source": [
    "df_train = df[:8000]\n",
    "df_test = df[-706:]"
   ]
  },
  {
   "cell_type": "code",
   "execution_count": 68,
   "id": "2ed886d0",
   "metadata": {},
   "outputs": [
    {
     "data": {
      "text/html": [
       "<div>\n",
       "<style scoped>\n",
       "    .dataframe tbody tr th:only-of-type {\n",
       "        vertical-align: middle;\n",
       "    }\n",
       "\n",
       "    .dataframe tbody tr th {\n",
       "        vertical-align: top;\n",
       "    }\n",
       "\n",
       "    .dataframe thead th {\n",
       "        text-align: right;\n",
       "    }\n",
       "</style>\n",
       "<table border=\"1\" class=\"dataframe\">\n",
       "  <thead>\n",
       "    <tr style=\"text-align: right;\">\n",
       "      <th>nutrition</th>\n",
       "      <th>eiwit</th>\n",
       "      <th>energie</th>\n",
       "      <th>koolhydraten</th>\n",
       "      <th>natrium</th>\n",
       "      <th>vet</th>\n",
       "      <th>vezels</th>\n",
       "      <th>waarvan suikers</th>\n",
       "      <th>waarvan verzadigd</th>\n",
       "    </tr>\n",
       "    <tr>\n",
       "      <th>recipe</th>\n",
       "      <th></th>\n",
       "      <th></th>\n",
       "      <th></th>\n",
       "      <th></th>\n",
       "      <th></th>\n",
       "      <th></th>\n",
       "      <th></th>\n",
       "      <th></th>\n",
       "    </tr>\n",
       "  </thead>\n",
       "  <tbody>\n",
       "    <tr>\n",
       "      <th>Andijviestamppot met gebakken salami</th>\n",
       "      <td>25.0</td>\n",
       "      <td>630.0</td>\n",
       "      <td>36.0</td>\n",
       "      <td>1875.0</td>\n",
       "      <td>41.0</td>\n",
       "      <td>7.0</td>\n",
       "      <td>0.0</td>\n",
       "      <td>17.0</td>\n",
       "    </tr>\n",
       "    <tr>\n",
       "      <th>Bietensoep met selderijroom</th>\n",
       "      <td>3.0</td>\n",
       "      <td>160.0</td>\n",
       "      <td>11.0</td>\n",
       "      <td>1160.0</td>\n",
       "      <td>11.0</td>\n",
       "      <td>5.0</td>\n",
       "      <td>0.0</td>\n",
       "      <td>5.0</td>\n",
       "    </tr>\n",
       "    <tr>\n",
       "      <th>Libanese wraps met appel-koolsalade</th>\n",
       "      <td>21.0</td>\n",
       "      <td>440.0</td>\n",
       "      <td>45.0</td>\n",
       "      <td>440.0</td>\n",
       "      <td>18.0</td>\n",
       "      <td>9.0</td>\n",
       "      <td>0.0</td>\n",
       "      <td>3.0</td>\n",
       "    </tr>\n",
       "    <tr>\n",
       "      <th>Plaattaart met gegrilde groenten en witte kaas</th>\n",
       "      <td>16.0</td>\n",
       "      <td>550.0</td>\n",
       "      <td>38.0</td>\n",
       "      <td>760.0</td>\n",
       "      <td>35.0</td>\n",
       "      <td>8.0</td>\n",
       "      <td>11.0</td>\n",
       "      <td>16.0</td>\n",
       "    </tr>\n",
       "    <tr>\n",
       "      <th>Sticky cauliflower (gegrilde bloemkoolroosjes) van Jord Althuizen</th>\n",
       "      <td>8.0</td>\n",
       "      <td>235.0</td>\n",
       "      <td>16.0</td>\n",
       "      <td>800.0</td>\n",
       "      <td>14.0</td>\n",
       "      <td>6.0</td>\n",
       "      <td>0.0</td>\n",
       "      <td>2.0</td>\n",
       "    </tr>\n",
       "    <tr>\n",
       "      <th>...</th>\n",
       "      <td>...</td>\n",
       "      <td>...</td>\n",
       "      <td>...</td>\n",
       "      <td>...</td>\n",
       "      <td>...</td>\n",
       "      <td>...</td>\n",
       "      <td>...</td>\n",
       "      <td>...</td>\n",
       "    </tr>\n",
       "    <tr>\n",
       "      <th>Verse worst met knolselderijsalade</th>\n",
       "      <td>30.0</td>\n",
       "      <td>500.0</td>\n",
       "      <td>14.0</td>\n",
       "      <td>800.0</td>\n",
       "      <td>34.0</td>\n",
       "      <td>10.0</td>\n",
       "      <td>4.0</td>\n",
       "      <td>10.0</td>\n",
       "    </tr>\n",
       "    <tr>\n",
       "      <th>Verse-kabeljauw-couscousverrassing uit de oven</th>\n",
       "      <td>31.0</td>\n",
       "      <td>345.0</td>\n",
       "      <td>48.0</td>\n",
       "      <td>120.0</td>\n",
       "      <td>31.0</td>\n",
       "      <td>7.0</td>\n",
       "      <td>0.0</td>\n",
       "      <td>2.0</td>\n",
       "    </tr>\n",
       "    <tr>\n",
       "      <th>Vesper</th>\n",
       "      <td>0.0</td>\n",
       "      <td>280.0</td>\n",
       "      <td>2.0</td>\n",
       "      <td>NaN</td>\n",
       "      <td>0.0</td>\n",
       "      <td>0.0</td>\n",
       "      <td>0.0</td>\n",
       "      <td>0.0</td>\n",
       "    </tr>\n",
       "    <tr>\n",
       "      <th>Vezelrijk knäckebröd met avocado en mango</th>\n",
       "      <td>4.0</td>\n",
       "      <td>360.0</td>\n",
       "      <td>26.0</td>\n",
       "      <td>200.0</td>\n",
       "      <td>25.0</td>\n",
       "      <td>7.0</td>\n",
       "      <td>12.0</td>\n",
       "      <td>3.0</td>\n",
       "    </tr>\n",
       "    <tr>\n",
       "      <th>Vietnamese beefburger</th>\n",
       "      <td>35.0</td>\n",
       "      <td>725.0</td>\n",
       "      <td>43.0</td>\n",
       "      <td>985.0</td>\n",
       "      <td>45.0</td>\n",
       "      <td>4.0</td>\n",
       "      <td>0.0</td>\n",
       "      <td>13.0</td>\n",
       "    </tr>\n",
       "  </tbody>\n",
       "</table>\n",
       "<p>8000 rows × 8 columns</p>\n",
       "</div>"
      ],
      "text/plain": [
       "nutrition                                           eiwit  energie  \\\n",
       "recipe                                                               \n",
       " Andijviestamppot met gebakken salami                25.0    630.0   \n",
       " Bietensoep met selderijroom                          3.0    160.0   \n",
       " Libanese wraps met appel-koolsalade                 21.0    440.0   \n",
       " Plaattaart met gegrilde groenten en witte kaas      16.0    550.0   \n",
       " Sticky cauliflower (gegrilde bloemkoolroosjes)...    8.0    235.0   \n",
       "...                                                   ...      ...   \n",
       "Verse worst met knolselderijsalade                   30.0    500.0   \n",
       "Verse-kabeljauw-couscousverrassing uit de oven       31.0    345.0   \n",
       "Vesper                                                0.0    280.0   \n",
       "Vezelrijk knäckebröd met avocado en mango             4.0    360.0   \n",
       "Vietnamese beefburger                                35.0    725.0   \n",
       "\n",
       "nutrition                                           koolhydraten  natrium  \\\n",
       "recipe                                                                      \n",
       " Andijviestamppot met gebakken salami                       36.0   1875.0   \n",
       " Bietensoep met selderijroom                                11.0   1160.0   \n",
       " Libanese wraps met appel-koolsalade                        45.0    440.0   \n",
       " Plaattaart met gegrilde groenten en witte kaas             38.0    760.0   \n",
       " Sticky cauliflower (gegrilde bloemkoolroosjes)...          16.0    800.0   \n",
       "...                                                          ...      ...   \n",
       "Verse worst met knolselderijsalade                          14.0    800.0   \n",
       "Verse-kabeljauw-couscousverrassing uit de oven              48.0    120.0   \n",
       "Vesper                                                       2.0      NaN   \n",
       "Vezelrijk knäckebröd met avocado en mango                   26.0    200.0   \n",
       "Vietnamese beefburger                                       43.0    985.0   \n",
       "\n",
       "nutrition                                            vet  vezels  \\\n",
       "recipe                                                             \n",
       " Andijviestamppot met gebakken salami               41.0     7.0   \n",
       " Bietensoep met selderijroom                        11.0     5.0   \n",
       " Libanese wraps met appel-koolsalade                18.0     9.0   \n",
       " Plaattaart met gegrilde groenten en witte kaas     35.0     8.0   \n",
       " Sticky cauliflower (gegrilde bloemkoolroosjes)...  14.0     6.0   \n",
       "...                                                  ...     ...   \n",
       "Verse worst met knolselderijsalade                  34.0    10.0   \n",
       "Verse-kabeljauw-couscousverrassing uit de oven      31.0     7.0   \n",
       "Vesper                                               0.0     0.0   \n",
       "Vezelrijk knäckebröd met avocado en mango           25.0     7.0   \n",
       "Vietnamese beefburger                               45.0     4.0   \n",
       "\n",
       "nutrition                                           waarvan suikers  \\\n",
       "recipe                                                                \n",
       " Andijviestamppot met gebakken salami                           0.0   \n",
       " Bietensoep met selderijroom                                    0.0   \n",
       " Libanese wraps met appel-koolsalade                            0.0   \n",
       " Plaattaart met gegrilde groenten en witte kaas                11.0   \n",
       " Sticky cauliflower (gegrilde bloemkoolroosjes)...              0.0   \n",
       "...                                                             ...   \n",
       "Verse worst met knolselderijsalade                              4.0   \n",
       "Verse-kabeljauw-couscousverrassing uit de oven                  0.0   \n",
       "Vesper                                                          0.0   \n",
       "Vezelrijk knäckebröd met avocado en mango                      12.0   \n",
       "Vietnamese beefburger                                           0.0   \n",
       "\n",
       "nutrition                                           waarvan verzadigd  \n",
       "recipe                                                                 \n",
       " Andijviestamppot met gebakken salami                            17.0  \n",
       " Bietensoep met selderijroom                                      5.0  \n",
       " Libanese wraps met appel-koolsalade                              3.0  \n",
       " Plaattaart met gegrilde groenten en witte kaas                  16.0  \n",
       " Sticky cauliflower (gegrilde bloemkoolroosjes)...                2.0  \n",
       "...                                                               ...  \n",
       "Verse worst met knolselderijsalade                               10.0  \n",
       "Verse-kabeljauw-couscousverrassing uit de oven                    2.0  \n",
       "Vesper                                                            0.0  \n",
       "Vezelrijk knäckebröd met avocado en mango                         3.0  \n",
       "Vietnamese beefburger                                            13.0  \n",
       "\n",
       "[8000 rows x 8 columns]"
      ]
     },
     "execution_count": 68,
     "metadata": {},
     "output_type": "execute_result"
    }
   ],
   "source": [
    "df_train"
   ]
  },
  {
   "cell_type": "code",
   "execution_count": 69,
   "id": "11be19d1",
   "metadata": {},
   "outputs": [
    {
     "data": {
      "text/plain": [
       "nutrition\n",
       "eiwit                   0\n",
       "energie                 0\n",
       "koolhydraten            0\n",
       "natrium              1291\n",
       "vet                     0\n",
       "vezels                  0\n",
       "waarvan suikers         0\n",
       "waarvan verzadigd       0\n",
       "dtype: int64"
      ]
     },
     "execution_count": 69,
     "metadata": {},
     "output_type": "execute_result"
    }
   ],
   "source": [
    "df_train.isnull().sum()"
   ]
  },
  {
   "cell_type": "code",
   "execution_count": 70,
   "id": "751d4d2f",
   "metadata": {},
   "outputs": [
    {
     "data": {
      "text/html": [
       "<div>\n",
       "<style scoped>\n",
       "    .dataframe tbody tr th:only-of-type {\n",
       "        vertical-align: middle;\n",
       "    }\n",
       "\n",
       "    .dataframe tbody tr th {\n",
       "        vertical-align: top;\n",
       "    }\n",
       "\n",
       "    .dataframe thead th {\n",
       "        text-align: right;\n",
       "    }\n",
       "</style>\n",
       "<table border=\"1\" class=\"dataframe\">\n",
       "  <thead>\n",
       "    <tr style=\"text-align: right;\">\n",
       "      <th>nutrition</th>\n",
       "      <th>eiwit</th>\n",
       "      <th>energie</th>\n",
       "      <th>koolhydraten</th>\n",
       "      <th>natrium</th>\n",
       "      <th>vet</th>\n",
       "      <th>vezels</th>\n",
       "      <th>waarvan suikers</th>\n",
       "      <th>waarvan verzadigd</th>\n",
       "      <th>y_pred</th>\n",
       "    </tr>\n",
       "    <tr>\n",
       "      <th>recipe</th>\n",
       "      <th></th>\n",
       "      <th></th>\n",
       "      <th></th>\n",
       "      <th></th>\n",
       "      <th></th>\n",
       "      <th></th>\n",
       "      <th></th>\n",
       "      <th></th>\n",
       "      <th></th>\n",
       "    </tr>\n",
       "  </thead>\n",
       "  <tbody>\n",
       "    <tr>\n",
       "      <th>Vietnamese karamelzalm van Donal Skehan</th>\n",
       "      <td>34.0</td>\n",
       "      <td>490.0</td>\n",
       "      <td>24.0</td>\n",
       "      <td>680.0</td>\n",
       "      <td>28.0</td>\n",
       "      <td>3.0</td>\n",
       "      <td>0.0</td>\n",
       "      <td>4.0</td>\n",
       "      <td>NaN</td>\n",
       "    </tr>\n",
       "    <tr>\n",
       "      <th>Vietnamese komkommer</th>\n",
       "      <td>17.0</td>\n",
       "      <td>335.0</td>\n",
       "      <td>62.0</td>\n",
       "      <td>NaN</td>\n",
       "      <td>1.0</td>\n",
       "      <td>0.0</td>\n",
       "      <td>0.0</td>\n",
       "      <td>0.0</td>\n",
       "      <td>NaN</td>\n",
       "    </tr>\n",
       "    <tr>\n",
       "      <th>Vietnamese loempia's</th>\n",
       "      <td>6.0</td>\n",
       "      <td>160.0</td>\n",
       "      <td>15.0</td>\n",
       "      <td>320.0</td>\n",
       "      <td>8.0</td>\n",
       "      <td>1.0</td>\n",
       "      <td>3.0</td>\n",
       "      <td>2.0</td>\n",
       "      <td>NaN</td>\n",
       "    </tr>\n",
       "    <tr>\n",
       "      <th>Vietnamese loempia's met groente</th>\n",
       "      <td>10.0</td>\n",
       "      <td>500.0</td>\n",
       "      <td>38.0</td>\n",
       "      <td>NaN</td>\n",
       "      <td>33.0</td>\n",
       "      <td>0.0</td>\n",
       "      <td>0.0</td>\n",
       "      <td>0.0</td>\n",
       "      <td>NaN</td>\n",
       "    </tr>\n",
       "    <tr>\n",
       "      <th>Vietnamese noedelsalade met gemarineerde garnalen</th>\n",
       "      <td>22.0</td>\n",
       "      <td>475.0</td>\n",
       "      <td>33.0</td>\n",
       "      <td>580.0</td>\n",
       "      <td>27.0</td>\n",
       "      <td>6.0</td>\n",
       "      <td>0.0</td>\n",
       "      <td>4.0</td>\n",
       "      <td>NaN</td>\n",
       "    </tr>\n",
       "    <tr>\n",
       "      <th>...</th>\n",
       "      <td>...</td>\n",
       "      <td>...</td>\n",
       "      <td>...</td>\n",
       "      <td>...</td>\n",
       "      <td>...</td>\n",
       "      <td>...</td>\n",
       "      <td>...</td>\n",
       "      <td>...</td>\n",
       "      <td>...</td>\n",
       "    </tr>\n",
       "    <tr>\n",
       "      <th>Zweedse gehaktballetjes met room</th>\n",
       "      <td>33.0</td>\n",
       "      <td>640.0</td>\n",
       "      <td>26.0</td>\n",
       "      <td>520.0</td>\n",
       "      <td>45.0</td>\n",
       "      <td>2.0</td>\n",
       "      <td>0.0</td>\n",
       "      <td>22.0</td>\n",
       "      <td>NaN</td>\n",
       "    </tr>\n",
       "    <tr>\n",
       "      <th>Zweedse vegaballetjes met aardappel &amp;amp; broccoli</th>\n",
       "      <td>38.0</td>\n",
       "      <td>770.0</td>\n",
       "      <td>76.0</td>\n",
       "      <td>1320.0</td>\n",
       "      <td>31.0</td>\n",
       "      <td>17.0</td>\n",
       "      <td>0.0</td>\n",
       "      <td>10.0</td>\n",
       "      <td>NaN</td>\n",
       "    </tr>\n",
       "    <tr>\n",
       "      <th>Zwitserse kaasfondue</th>\n",
       "      <td>56.0</td>\n",
       "      <td>850.0</td>\n",
       "      <td>7.0</td>\n",
       "      <td>920.0</td>\n",
       "      <td>63.0</td>\n",
       "      <td>0.0</td>\n",
       "      <td>5.0</td>\n",
       "      <td>38.0</td>\n",
       "      <td>NaN</td>\n",
       "    </tr>\n",
       "    <tr>\n",
       "      <th>Îles flottantes</th>\n",
       "      <td>10.0</td>\n",
       "      <td>290.0</td>\n",
       "      <td>49.0</td>\n",
       "      <td>125.0</td>\n",
       "      <td>6.0</td>\n",
       "      <td>0.0</td>\n",
       "      <td>0.0</td>\n",
       "      <td>3.0</td>\n",
       "      <td>NaN</td>\n",
       "    </tr>\n",
       "    <tr>\n",
       "      <th>‘Nasi’ met Hollandse soepgroente</th>\n",
       "      <td>18.0</td>\n",
       "      <td>500.0</td>\n",
       "      <td>71.0</td>\n",
       "      <td>200.0</td>\n",
       "      <td>14.0</td>\n",
       "      <td>7.0</td>\n",
       "      <td>8.0</td>\n",
       "      <td>3.0</td>\n",
       "      <td>NaN</td>\n",
       "    </tr>\n",
       "  </tbody>\n",
       "</table>\n",
       "<p>706 rows × 9 columns</p>\n",
       "</div>"
      ],
      "text/plain": [
       "nutrition                                           eiwit  energie  \\\n",
       "recipe                                                               \n",
       "Vietnamese karamelzalm van Donal Skehan              34.0    490.0   \n",
       "Vietnamese komkommer                                 17.0    335.0   \n",
       "Vietnamese loempia's                                  6.0    160.0   \n",
       "Vietnamese loempia's met groente                     10.0    500.0   \n",
       "Vietnamese noedelsalade met gemarineerde garnalen    22.0    475.0   \n",
       "...                                                   ...      ...   \n",
       "Zweedse gehaktballetjes met room                     33.0    640.0   \n",
       "Zweedse vegaballetjes met aardappel &amp; broccoli   38.0    770.0   \n",
       "Zwitserse kaasfondue                                 56.0    850.0   \n",
       "Îles flottantes                                      10.0    290.0   \n",
       "‘Nasi’ met Hollandse soepgroente                     18.0    500.0   \n",
       "\n",
       "nutrition                                           koolhydraten  natrium  \\\n",
       "recipe                                                                      \n",
       "Vietnamese karamelzalm van Donal Skehan                     24.0    680.0   \n",
       "Vietnamese komkommer                                        62.0      NaN   \n",
       "Vietnamese loempia's                                        15.0    320.0   \n",
       "Vietnamese loempia's met groente                            38.0      NaN   \n",
       "Vietnamese noedelsalade met gemarineerde garnalen           33.0    580.0   \n",
       "...                                                          ...      ...   \n",
       "Zweedse gehaktballetjes met room                            26.0    520.0   \n",
       "Zweedse vegaballetjes met aardappel &amp; broccoli          76.0   1320.0   \n",
       "Zwitserse kaasfondue                                         7.0    920.0   \n",
       "Îles flottantes                                             49.0    125.0   \n",
       "‘Nasi’ met Hollandse soepgroente                            71.0    200.0   \n",
       "\n",
       "nutrition                                            vet  vezels  \\\n",
       "recipe                                                             \n",
       "Vietnamese karamelzalm van Donal Skehan             28.0     3.0   \n",
       "Vietnamese komkommer                                 1.0     0.0   \n",
       "Vietnamese loempia's                                 8.0     1.0   \n",
       "Vietnamese loempia's met groente                    33.0     0.0   \n",
       "Vietnamese noedelsalade met gemarineerde garnalen   27.0     6.0   \n",
       "...                                                  ...     ...   \n",
       "Zweedse gehaktballetjes met room                    45.0     2.0   \n",
       "Zweedse vegaballetjes met aardappel &amp; broccoli  31.0    17.0   \n",
       "Zwitserse kaasfondue                                63.0     0.0   \n",
       "Îles flottantes                                      6.0     0.0   \n",
       "‘Nasi’ met Hollandse soepgroente                    14.0     7.0   \n",
       "\n",
       "nutrition                                           waarvan suikers  \\\n",
       "recipe                                                                \n",
       "Vietnamese karamelzalm van Donal Skehan                         0.0   \n",
       "Vietnamese komkommer                                            0.0   \n",
       "Vietnamese loempia's                                            3.0   \n",
       "Vietnamese loempia's met groente                                0.0   \n",
       "Vietnamese noedelsalade met gemarineerde garnalen               0.0   \n",
       "...                                                             ...   \n",
       "Zweedse gehaktballetjes met room                                0.0   \n",
       "Zweedse vegaballetjes met aardappel &amp; broccoli              0.0   \n",
       "Zwitserse kaasfondue                                            5.0   \n",
       "Îles flottantes                                                 0.0   \n",
       "‘Nasi’ met Hollandse soepgroente                                8.0   \n",
       "\n",
       "nutrition                                           waarvan verzadigd  y_pred  \n",
       "recipe                                                                         \n",
       "Vietnamese karamelzalm van Donal Skehan                           4.0     NaN  \n",
       "Vietnamese komkommer                                              0.0     NaN  \n",
       "Vietnamese loempia's                                              2.0     NaN  \n",
       "Vietnamese loempia's met groente                                  0.0     NaN  \n",
       "Vietnamese noedelsalade met gemarineerde garnalen                 4.0     NaN  \n",
       "...                                                               ...     ...  \n",
       "Zweedse gehaktballetjes met room                                 22.0     NaN  \n",
       "Zweedse vegaballetjes met aardappel &amp; broccoli               10.0     NaN  \n",
       "Zwitserse kaasfondue                                             38.0     NaN  \n",
       "Îles flottantes                                                   3.0     NaN  \n",
       "‘Nasi’ met Hollandse soepgroente                                  3.0     NaN  \n",
       "\n",
       "[706 rows x 9 columns]"
      ]
     },
     "execution_count": 70,
     "metadata": {},
     "output_type": "execute_result"
    }
   ],
   "source": [
    "df_test['y_pred'] = np.nan\n",
    "df_test"
   ]
  },
  {
   "cell_type": "markdown",
   "id": "a830def0",
   "metadata": {},
   "source": [
    "# Show all correlations on kcal"
   ]
  },
  {
   "cell_type": "markdown",
   "id": "b1ae7f79",
   "metadata": {},
   "source": [
    "## Corrolation on energie\n",
    "Based on the correlation, use: vet, eiwit, koolhydraten"
   ]
  },
  {
   "cell_type": "code",
   "execution_count": 71,
   "id": "3997c302",
   "metadata": {},
   "outputs": [
    {
     "data": {
      "text/plain": [
       "nutrition\n",
       "energie              1.000000\n",
       "vet                  0.822935\n",
       "eiwit                0.751385\n",
       "koolhydraten         0.741164\n",
       "waarvan verzadigd    0.519127\n",
       "natrium              0.465432\n",
       "vezels               0.143125\n",
       "waarvan suikers      0.045882\n",
       "Name: energie, dtype: float64"
      ]
     },
     "execution_count": 71,
     "metadata": {},
     "output_type": "execute_result"
    }
   ],
   "source": [
    "dfcorr = df.corr().energie\n",
    "dfcorr = dfcorr.sort_values(ascending = False)\n",
    "dfcorr"
   ]
  },
  {
   "cell_type": "markdown",
   "id": "51ca0617",
   "metadata": {},
   "source": [
    "## Corrolation on vet\n",
    "Eiwit is 0.55 and koolhydraten is 0.30, this is acceptable"
   ]
  },
  {
   "cell_type": "code",
   "execution_count": 72,
   "id": "9f7275b1",
   "metadata": {},
   "outputs": [
    {
     "data": {
      "text/plain": [
       "nutrition\n",
       "vet                  1.000000\n",
       "energie              0.822935\n",
       "waarvan verzadigd    0.644781\n",
       "eiwit                0.559769\n",
       "natrium              0.327347\n",
       "koolhydraten         0.303026\n",
       "vezels               0.092160\n",
       "waarvan suikers     -0.018006\n",
       "Name: vet, dtype: float64"
      ]
     },
     "execution_count": 72,
     "metadata": {},
     "output_type": "execute_result"
    }
   ],
   "source": [
    "dfcorr = df.corr().vet\n",
    "dfcorr = dfcorr.sort_values(ascending = False)\n",
    "dfcorr"
   ]
  },
  {
   "cell_type": "markdown",
   "id": "0ec72c21",
   "metadata": {},
   "source": [
    "## Corrolation on eiwit\n",
    "Also all chosen variables are acceptable"
   ]
  },
  {
   "cell_type": "code",
   "execution_count": 73,
   "id": "4c288344",
   "metadata": {},
   "outputs": [
    {
     "data": {
      "text/plain": [
       "nutrition\n",
       "eiwit                1.000000\n",
       "energie              0.751385\n",
       "vet                  0.559769\n",
       "natrium              0.496325\n",
       "koolhydraten         0.433293\n",
       "waarvan verzadigd    0.321100\n",
       "vezels               0.118787\n",
       "waarvan suikers     -0.079747\n",
       "Name: eiwit, dtype: float64"
      ]
     },
     "execution_count": 73,
     "metadata": {},
     "output_type": "execute_result"
    }
   ],
   "source": [
    "dfcorr = df.corr().eiwit\n",
    "dfcorr = dfcorr.sort_values(ascending = False)\n",
    "dfcorr"
   ]
  },
  {
   "cell_type": "markdown",
   "id": "63f2dde0",
   "metadata": {},
   "source": [
    "## Corrolation on koolhydraten\n",
    "Here too"
   ]
  },
  {
   "cell_type": "code",
   "execution_count": 74,
   "id": "f09dda59",
   "metadata": {},
   "outputs": [
    {
     "data": {
      "text/plain": [
       "nutrition\n",
       "koolhydraten         1.000000\n",
       "energie              0.741164\n",
       "eiwit                0.433293\n",
       "natrium              0.341172\n",
       "vet                  0.303026\n",
       "waarvan verzadigd    0.188976\n",
       "waarvan suikers      0.143648\n",
       "vezels               0.119329\n",
       "Name: koolhydraten, dtype: float64"
      ]
     },
     "execution_count": 74,
     "metadata": {},
     "output_type": "execute_result"
    }
   ],
   "source": [
    "dfcorr = df.corr().koolhydraten \n",
    "dfcorr = dfcorr.sort_values(ascending = False)\n",
    "dfcorr"
   ]
  },
  {
   "cell_type": "markdown",
   "id": "ea1bb3f8",
   "metadata": {},
   "source": [
    "# Make boxplots and analyse data"
   ]
  },
  {
   "cell_type": "code",
   "execution_count": 75,
   "id": "7d92f35e",
   "metadata": {},
   "outputs": [
    {
     "data": {
      "image/png": "[encoded data removed]",
      "text/plain": [
       "<Figure size 640x480 with 1 Axes>"
      ]
     },
     "metadata": {},
     "output_type": "display_data"
    }
   ],
   "source": [
    "_ = plt.boxplot(df_train.energie)\n",
    "_ = plt.title(\"Verdeling van de energie over de dataset\")\n",
    "_ = plt.ylabel(\"De energie van een recept\")\n",
    "_ = plt.xticks(color = 'w')"
   ]
  },
  {
   "cell_type": "markdown",
   "id": "5a4d57bf",
   "metadata": {},
   "source": [
    "# Analyzing outliers\n",
    "\n",
    "'Roggebrood met noten en bessen' could be divided by 10, becuase this sees a whole bread as 1 portion while the picture shows 10 slices of bread (aka 10 real life protions) could be obtained by the bread.\n",
    "\n",
    "'Aardbeienjam maken' also calculates a whole batch. So I looked up how many grams a portion of it was, and that would be 30 grams according to https://www.voedingswaardetabel.nl/voedingswaarde/voedingsmiddel/?id=554&pp=1#prodgramsanchor. So I calculated with 30 grams. I also did this with the 'Ananas-gemberjam'"
   ]
  },
  {
   "cell_type": "code",
   "execution_count": 76,
   "id": "40f821f9",
   "metadata": {},
   "outputs": [
    {
     "data": {
      "text/html": [
       "<div>\n",
       "<style scoped>\n",
       "    .dataframe tbody tr th:only-of-type {\n",
       "        vertical-align: middle;\n",
       "    }\n",
       "\n",
       "    .dataframe tbody tr th {\n",
       "        vertical-align: top;\n",
       "    }\n",
       "\n",
       "    .dataframe thead th {\n",
       "        text-align: right;\n",
       "    }\n",
       "</style>\n",
       "<table border=\"1\" class=\"dataframe\">\n",
       "  <thead>\n",
       "    <tr style=\"text-align: right;\">\n",
       "      <th>nutrition</th>\n",
       "      <th>eiwit</th>\n",
       "      <th>energie</th>\n",
       "      <th>koolhydraten</th>\n",
       "      <th>natrium</th>\n",
       "      <th>vet</th>\n",
       "      <th>vezels</th>\n",
       "      <th>waarvan suikers</th>\n",
       "      <th>waarvan verzadigd</th>\n",
       "    </tr>\n",
       "    <tr>\n",
       "      <th>recipe</th>\n",
       "      <th></th>\n",
       "      <th></th>\n",
       "      <th></th>\n",
       "      <th></th>\n",
       "      <th></th>\n",
       "      <th></th>\n",
       "      <th></th>\n",
       "      <th></th>\n",
       "    </tr>\n",
       "  </thead>\n",
       "  <tbody>\n",
       "    <tr>\n",
       "      <th>Aardbeienjam maken</th>\n",
       "      <td>4.0</td>\n",
       "      <td>1935.0</td>\n",
       "      <td>477.0</td>\n",
       "      <td>15.0</td>\n",
       "      <td>0.0</td>\n",
       "      <td>6.0</td>\n",
       "      <td>0.0</td>\n",
       "      <td>0.0</td>\n",
       "    </tr>\n",
       "    <tr>\n",
       "      <th>Ananas-gemberjam</th>\n",
       "      <td>2.0</td>\n",
       "      <td>1980.0</td>\n",
       "      <td>480.0</td>\n",
       "      <td>NaN</td>\n",
       "      <td>1.0</td>\n",
       "      <td>0.0</td>\n",
       "      <td>0.0</td>\n",
       "      <td>0.0</td>\n",
       "    </tr>\n",
       "    <tr>\n",
       "      <th>Roggebrood met noten en bessen</th>\n",
       "      <td>104.0</td>\n",
       "      <td>3320.0</td>\n",
       "      <td>430.0</td>\n",
       "      <td>2805.0</td>\n",
       "      <td>112.0</td>\n",
       "      <td>85.0</td>\n",
       "      <td>0.0</td>\n",
       "      <td>11.0</td>\n",
       "    </tr>\n",
       "  </tbody>\n",
       "</table>\n",
       "</div>"
      ],
      "text/plain": [
       "nutrition                       eiwit  energie  koolhydraten  natrium    vet  \\\n",
       "recipe                                                                         \n",
       "Aardbeienjam maken                4.0   1935.0         477.0     15.0    0.0   \n",
       "Ananas-gemberjam                  2.0   1980.0         480.0      NaN    1.0   \n",
       "Roggebrood met noten en bessen  104.0   3320.0         430.0   2805.0  112.0   \n",
       "\n",
       "nutrition                       vezels  waarvan suikers  waarvan verzadigd  \n",
       "recipe                                                                      \n",
       "Aardbeienjam maken                 6.0              0.0                0.0  \n",
       "Ananas-gemberjam                   0.0              0.0                0.0  \n",
       "Roggebrood met noten en bessen    85.0              0.0               11.0  "
      ]
     },
     "execution_count": 76,
     "metadata": {},
     "output_type": "execute_result"
    }
   ],
   "source": [
    "df_train[df_train['energie']>1500]"
   ]
  },
  {
   "cell_type": "code",
   "execution_count": 77,
   "id": "e18fa570",
   "metadata": {},
   "outputs": [
    {
     "data": {
      "text/plain": [
       "nutrition\n",
       "eiwit                 10.4\n",
       "energie              332.0\n",
       "koolhydraten          43.0\n",
       "natrium              280.5\n",
       "vet                   11.2\n",
       "vezels                 8.5\n",
       "waarvan suikers        0.0\n",
       "waarvan verzadigd      1.1\n",
       "Name: Roggebrood met noten en bessen, dtype: float64"
      ]
     },
     "execution_count": 77,
     "metadata": {},
     "output_type": "execute_result"
    }
   ],
   "source": [
    "df_train.loc['Roggebrood met noten en bessen'] = df_train.loc['Roggebrood met noten en bessen']/10\n",
    "df_train.loc['Roggebrood met noten en bessen']"
   ]
  },
  {
   "cell_type": "code",
   "execution_count": 78,
   "id": "b713cf70",
   "metadata": {},
   "outputs": [
    {
     "data": {
      "text/plain": [
       "nutrition\n",
       "eiwit                  0.12\n",
       "energie              118.80\n",
       "koolhydraten          28.80\n",
       "natrium                 NaN\n",
       "vet                    0.06\n",
       "vezels                 0.00\n",
       "waarvan suikers        0.00\n",
       "waarvan verzadigd      0.00\n",
       "Name: Ananas-gemberjam, dtype: float64"
      ]
     },
     "execution_count": 78,
     "metadata": {},
     "output_type": "execute_result"
    }
   ],
   "source": [
    "df_train.loc['Ananas-gemberjam'] = df_train.loc['Ananas-gemberjam']/(500/30)\n",
    "df_train.loc['Ananas-gemberjam']"
   ]
  },
  {
   "cell_type": "code",
   "execution_count": 79,
   "id": "f6092564",
   "metadata": {},
   "outputs": [
    {
     "data": {
      "text/plain": [
       "nutrition\n",
       "eiwit                  0.24\n",
       "energie              116.10\n",
       "koolhydraten          28.62\n",
       "natrium                0.90\n",
       "vet                    0.00\n",
       "vezels                 0.36\n",
       "waarvan suikers        0.00\n",
       "waarvan verzadigd      0.00\n",
       "Name: Aardbeienjam maken, dtype: float64"
      ]
     },
     "execution_count": 79,
     "metadata": {},
     "output_type": "execute_result"
    }
   ],
   "source": [
    "df_train.loc['Aardbeienjam maken'] = df_train.loc['Aardbeienjam maken']/(500/30)\n",
    "df_train.loc['Aardbeienjam maken']"
   ]
  },
  {
   "cell_type": "markdown",
   "id": "85895a42",
   "metadata": {},
   "source": [
    "# Again make boxplots"
   ]
  },
  {
   "cell_type": "code",
   "execution_count": 80,
   "id": "8e9b92a2",
   "metadata": {},
   "outputs": [
    {
     "data": {
      "image/png": "[encoded data removed]",
      "text/plain": [
       "<Figure size 640x480 with 1 Axes>"
      ]
     },
     "metadata": {},
     "output_type": "display_data"
    }
   ],
   "source": [
    "_ = plt.boxplot(df_train.energie)\n",
    "_ = plt.title(\"Verdeling van de energie over de dataset\")\n",
    "_ = plt.ylabel(\"De energie van een recept\")\n",
    "_ = plt.xticks(color = 'w')"
   ]
  },
  {
   "cell_type": "markdown",
   "id": "5b62874f",
   "metadata": {},
   "source": [
    "# See if all data is normally distributed"
   ]
  },
  {
   "cell_type": "markdown",
   "id": "6a3f8c1f",
   "metadata": {},
   "source": [
    "## Energie distribution"
   ]
  },
  {
   "cell_type": "code",
   "execution_count": 81,
   "id": "cc382a49",
   "metadata": {
    "scrolled": false
   },
   "outputs": [
    {
     "data": {
      "image/png": "[encoded data removed]",
      "text/plain": [
       "<Figure size 640x480 with 1 Axes>"
      ]
     },
     "metadata": {},
     "output_type": "display_data"
    }
   ],
   "source": [
    "_ = plt.hist(df_train.energie)\n",
    "_ = plt.title(\"Verdeling van de energie kcal per klasse\")\n",
    "_ = plt.ylabel(\"Totaal aantal voorkomende klasse van energie\")\n",
    "_ = plt.xlabel(\"Energie per klasse\")"
   ]
  },
  {
   "cell_type": "markdown",
   "id": "7855e96a",
   "metadata": {},
   "source": [
    "# QQ plots energie"
   ]
  },
  {
   "cell_type": "code",
   "execution_count": 82,
   "id": "c73b3e84",
   "metadata": {},
   "outputs": [
    {
     "data": {
      "image/png": "[encoded data removed]",
      "text/plain": [
       "<Figure size 640x480 with 1 Axes>"
      ]
     },
     "metadata": {},
     "output_type": "display_data"
    }
   ],
   "source": [
    "data = df_train.energie.values\n",
    "fig = sma.qqplot(data, line = 'r')\n",
    "fig = plt.title(\"Q-Q plot van energie verdeling\")\n",
    "plt.show()"
   ]
  },
  {
   "cell_type": "code",
   "execution_count": 83,
   "id": "b8392551",
   "metadata": {},
   "outputs": [
    {
     "data": {
      "image/png": "[encoded data removed]",
      "text/plain": [
       "<Figure size 640x480 with 1 Axes>"
      ]
     },
     "metadata": {},
     "output_type": "display_data"
    }
   ],
   "source": [
    "data = np.sqrt(df_train.energie.values)\n",
    "fig = sma.qqplot(data, line = 's')\n",
    "fig = plt.title(\"Q-Q plot van getransformeerde energie verdeling\")\n",
    "plt.show()"
   ]
  },
  {
   "cell_type": "code",
   "execution_count": 84,
   "id": "7232c5b7",
   "metadata": {},
   "outputs": [],
   "source": [
    "df_train.energie = np.sqrt(df_train.energie.values)"
   ]
  },
  {
   "cell_type": "code",
   "execution_count": 85,
   "id": "fb95ffd2",
   "metadata": {},
   "outputs": [
    {
     "data": {
      "image/png": "[encoded data removed]",
      "text/plain": [
       "<Figure size 640x480 with 1 Axes>"
      ]
     },
     "metadata": {},
     "output_type": "display_data"
    }
   ],
   "source": [
    "_ = plt.hist(df_train.energie)\n",
    "_ = plt.title(\"Verdeling van de getransformeerde energie kcal per klasse\")\n",
    "_ = plt.ylabel(\"Totaal aantal voorkomende klasse van energie\")\n",
    "_ = plt.xlabel(\"Energie per klasse\")"
   ]
  },
  {
   "cell_type": "markdown",
   "id": "ca093e2f",
   "metadata": {},
   "source": [
    "## Vet distribution"
   ]
  },
  {
   "cell_type": "code",
   "execution_count": 86,
   "id": "d92a1ccb",
   "metadata": {},
   "outputs": [
    {
     "data": {
      "image/png": "[encoded data removed]",
      "text/plain": [
       "<Figure size 640x480 with 1 Axes>"
      ]
     },
     "metadata": {},
     "output_type": "display_data"
    }
   ],
   "source": [
    "_ = plt.hist(df_train.vet)\n",
    "_ = plt.title(\"Verdeling van de vet waardes per klasse\")\n",
    "_ = plt.ylabel(\"Totaal aantal voorkomende klasse van vet\")\n",
    "_ = plt.xlabel(\"Vet per klasse\")"
   ]
  },
  {
   "cell_type": "code",
   "execution_count": 87,
   "id": "0143cb77",
   "metadata": {},
   "outputs": [
    {
     "data": {
      "image/png": "[encoded data removed]",
      "text/plain": [
       "<Figure size 640x480 with 1 Axes>"
      ]
     },
     "metadata": {},
     "output_type": "display_data"
    }
   ],
   "source": [
    "data = df_train.vet.values\n",
    "fig = sma.qqplot(data, line = 's')\n",
    "fig = plt.title(\"Q-Q plot van vet verdeling\")\n",
    "plt.show()"
   ]
  },
  {
   "cell_type": "code",
   "execution_count": 88,
   "id": "1da3aec4",
   "metadata": {},
   "outputs": [
    {
     "data": {
      "image/png": "[encoded data removed]",
      "text/plain": [
       "<Figure size 640x480 with 1 Axes>"
      ]
     },
     "metadata": {},
     "output_type": "display_data"
    }
   ],
   "source": [
    "data = np.sqrt(df_train.vet.values)\n",
    "fig = sma.qqplot(data, line = 's')\n",
    "fig = plt.title(\"Q-Q plot van getransformeerde vet verdeling\")\n",
    "plt.show()"
   ]
  },
  {
   "cell_type": "code",
   "execution_count": 89,
   "id": "f1ef3e99",
   "metadata": {},
   "outputs": [],
   "source": [
    "df_train.vet = np.sqrt(df_train.vet.values)"
   ]
  },
  {
   "cell_type": "code",
   "execution_count": 90,
   "id": "0f8b11e4",
   "metadata": {},
   "outputs": [
    {
     "data": {
      "image/png": "[encoded data removed]",
      "text/plain": [
       "<Figure size 640x480 with 1 Axes>"
      ]
     },
     "metadata": {},
     "output_type": "display_data"
    }
   ],
   "source": [
    "_ = plt.hist(df_train.energie)\n",
    "_ = plt.title(\"Verdeling van de getransformeerde verwaardes per klasse\")\n",
    "_ = plt.ylabel(\"Totaal aantal voorkomende klasse van vet\")\n",
    "_ = plt.xlabel(\"Vet per klasse\")"
   ]
  },
  {
   "cell_type": "markdown",
   "id": "69ffafdd",
   "metadata": {},
   "source": [
    "## Eiwit distribution"
   ]
  },
  {
   "cell_type": "code",
   "execution_count": 91,
   "id": "c0dafde6",
   "metadata": {},
   "outputs": [
    {
     "data": {
      "image/png": "[encoded data removed]",
      "text/plain": [
       "<Figure size 640x480 with 1 Axes>"
      ]
     },
     "metadata": {},
     "output_type": "display_data"
    }
   ],
   "source": [
    "_ = plt.hist(df_train.eiwit)\n",
    "_ = plt.title(\"Verdeling van het aantal eiwit per klasse\")\n",
    "_ = plt.ylabel(\"Totaal aantal voorkomende klasse van eiwit\")\n",
    "_ = plt.xlabel(\"Eiwit per klasse\")"
   ]
  },
  {
   "cell_type": "code",
   "execution_count": 92,
   "id": "3c0e6474",
   "metadata": {},
   "outputs": [],
   "source": [
    "df_train.eiwit = np.sqrt(df_train.eiwit.values)"
   ]
  },
  {
   "cell_type": "code",
   "execution_count": 93,
   "id": "b87f4d19",
   "metadata": {},
   "outputs": [
    {
     "data": {
      "image/png": "[encoded data removed]",
      "text/plain": [
       "<Figure size 640x480 with 1 Axes>"
      ]
     },
     "metadata": {},
     "output_type": "display_data"
    }
   ],
   "source": [
    "_ = plt.hist(df_train.eiwit)\n",
    "_ = plt.title(\"Verdeling van het getransformeerde eiwitwaardes per klasse\")\n",
    "_ = plt.ylabel(\"Totaal aantal voorkomende klasse van eiwit\")\n",
    "_ = plt.xlabel(\"Eiwit per klasse\")"
   ]
  },
  {
   "cell_type": "code",
   "execution_count": 94,
   "id": "18ea95ef",
   "metadata": {},
   "outputs": [
    {
     "data": {
      "text/plain": [
       "nutrition\n",
       "eiwit                   0\n",
       "energie                 0\n",
       "koolhydraten            0\n",
       "natrium              1291\n",
       "vet                     0\n",
       "vezels                  0\n",
       "waarvan suikers         0\n",
       "waarvan verzadigd       0\n",
       "dtype: int64"
      ]
     },
     "execution_count": 94,
     "metadata": {},
     "output_type": "execute_result"
    }
   ],
   "source": [
    "df_train.isnull().sum()"
   ]
  },
  {
   "cell_type": "markdown",
   "id": "dd12e404",
   "metadata": {},
   "source": [
    "## Koolhydraten distribution"
   ]
  },
  {
   "cell_type": "code",
   "execution_count": 95,
   "id": "3b137f58",
   "metadata": {},
   "outputs": [
    {
     "data": {
      "image/png": "[encoded data removed]",
      "text/plain": [
       "<Figure size 640x480 with 1 Axes>"
      ]
     },
     "metadata": {},
     "output_type": "display_data"
    }
   ],
   "source": [
    "_ = plt.hist(df_train.koolhydraten)\n",
    "_ = plt.title(\"Verdeling van het aantal koolhydraten per klasse\")\n",
    "_ = plt.ylabel(\"Totaal aantal voorkomende klasse van koolhydraten\")\n",
    "_ = plt.xlabel(\"Koolhydraten per klasse\")"
   ]
  },
  {
   "cell_type": "code",
   "execution_count": 96,
   "id": "6a845a18",
   "metadata": {},
   "outputs": [],
   "source": [
    "df_train.koolhydraten = np.log(df_train.koolhydraten[df_train.koolhydraten > 0])"
   ]
  },
  {
   "cell_type": "code",
   "execution_count": 97,
   "id": "316efe56",
   "metadata": {},
   "outputs": [
    {
     "data": {
      "text/plain": [
       "nutrition\n",
       "eiwit                   0\n",
       "energie                 0\n",
       "koolhydraten           54\n",
       "natrium              1291\n",
       "vet                     0\n",
       "vezels                  0\n",
       "waarvan suikers         0\n",
       "waarvan verzadigd       0\n",
       "dtype: int64"
      ]
     },
     "execution_count": 97,
     "metadata": {},
     "output_type": "execute_result"
    }
   ],
   "source": [
    "df_train.isnull().sum()"
   ]
  },
  {
   "cell_type": "code",
   "execution_count": 98,
   "id": "08023f1c",
   "metadata": {},
   "outputs": [],
   "source": [
    "df_train['koolhydraten'] = df_train['koolhydraten'].fillna(0)"
   ]
  },
  {
   "cell_type": "code",
   "execution_count": 99,
   "id": "5ac4741d",
   "metadata": {},
   "outputs": [
    {
     "data": {
      "text/plain": [
       "nutrition\n",
       "eiwit                   0\n",
       "energie                 0\n",
       "koolhydraten            0\n",
       "natrium              1291\n",
       "vet                     0\n",
       "vezels                  0\n",
       "waarvan suikers         0\n",
       "waarvan verzadigd       0\n",
       "dtype: int64"
      ]
     },
     "execution_count": 99,
     "metadata": {},
     "output_type": "execute_result"
    }
   ],
   "source": [
    "df_train.isnull().sum()"
   ]
  },
  {
   "cell_type": "code",
   "execution_count": 100,
   "id": "f1588039",
   "metadata": {},
   "outputs": [
    {
     "data": {
      "image/png": "[encoded data removed]",
      "text/plain": [
       "<Figure size 640x480 with 1 Axes>"
      ]
     },
     "metadata": {},
     "output_type": "display_data"
    }
   ],
   "source": [
    "_ = plt.hist(df_train.koolhydraten)\n",
    "_ = plt.title(\"Verdeling van het aantal koolhydraten per klasse\")\n",
    "_ = plt.ylabel(\"Totaal aantal voorkomende klasse van koolhydraten\")\n",
    "_ = plt.xlabel(\"Koolhydraten per klasse\")"
   ]
  },
  {
   "cell_type": "markdown",
   "id": "5c96fc8c",
   "metadata": {},
   "source": [
    "## Quick notice: \n",
    "I have to make sure that my data will later be transformed to its real values for evaluation!!"
   ]
  },
  {
   "cell_type": "code",
   "execution_count": 101,
   "id": "0fd35b62",
   "metadata": {},
   "outputs": [
    {
     "data": {
      "text/html": [
       "<div>\n",
       "<style scoped>\n",
       "    .dataframe tbody tr th:only-of-type {\n",
       "        vertical-align: middle;\n",
       "    }\n",
       "\n",
       "    .dataframe tbody tr th {\n",
       "        vertical-align: top;\n",
       "    }\n",
       "\n",
       "    .dataframe thead th {\n",
       "        text-align: right;\n",
       "    }\n",
       "</style>\n",
       "<table border=\"1\" class=\"dataframe\">\n",
       "  <thead>\n",
       "    <tr style=\"text-align: right;\">\n",
       "      <th>nutrition</th>\n",
       "      <th>eiwit</th>\n",
       "      <th>energie</th>\n",
       "      <th>koolhydraten</th>\n",
       "      <th>natrium</th>\n",
       "      <th>vet</th>\n",
       "      <th>vezels</th>\n",
       "      <th>waarvan suikers</th>\n",
       "      <th>waarvan verzadigd</th>\n",
       "    </tr>\n",
       "    <tr>\n",
       "      <th>recipe</th>\n",
       "      <th></th>\n",
       "      <th></th>\n",
       "      <th></th>\n",
       "      <th></th>\n",
       "      <th></th>\n",
       "      <th></th>\n",
       "      <th></th>\n",
       "      <th></th>\n",
       "    </tr>\n",
       "  </thead>\n",
       "  <tbody>\n",
       "    <tr>\n",
       "      <th>Andijviestamppot met gebakken salami</th>\n",
       "      <td>5.000000</td>\n",
       "      <td>25.099801</td>\n",
       "      <td>3.583519</td>\n",
       "      <td>1875.0</td>\n",
       "      <td>6.403124</td>\n",
       "      <td>7.0</td>\n",
       "      <td>0.0</td>\n",
       "      <td>17.0</td>\n",
       "    </tr>\n",
       "    <tr>\n",
       "      <th>Bietensoep met selderijroom</th>\n",
       "      <td>1.732051</td>\n",
       "      <td>12.649111</td>\n",
       "      <td>2.397895</td>\n",
       "      <td>1160.0</td>\n",
       "      <td>3.316625</td>\n",
       "      <td>5.0</td>\n",
       "      <td>0.0</td>\n",
       "      <td>5.0</td>\n",
       "    </tr>\n",
       "    <tr>\n",
       "      <th>Libanese wraps met appel-koolsalade</th>\n",
       "      <td>4.582576</td>\n",
       "      <td>20.976177</td>\n",
       "      <td>3.806662</td>\n",
       "      <td>440.0</td>\n",
       "      <td>4.242641</td>\n",
       "      <td>9.0</td>\n",
       "      <td>0.0</td>\n",
       "      <td>3.0</td>\n",
       "    </tr>\n",
       "    <tr>\n",
       "      <th>Plaattaart met gegrilde groenten en witte kaas</th>\n",
       "      <td>4.000000</td>\n",
       "      <td>23.452079</td>\n",
       "      <td>3.637586</td>\n",
       "      <td>760.0</td>\n",
       "      <td>5.916080</td>\n",
       "      <td>8.0</td>\n",
       "      <td>11.0</td>\n",
       "      <td>16.0</td>\n",
       "    </tr>\n",
       "    <tr>\n",
       "      <th>Sticky cauliflower (gegrilde bloemkoolroosjes) van Jord Althuizen</th>\n",
       "      <td>2.828427</td>\n",
       "      <td>15.329710</td>\n",
       "      <td>2.772589</td>\n",
       "      <td>800.0</td>\n",
       "      <td>3.741657</td>\n",
       "      <td>6.0</td>\n",
       "      <td>0.0</td>\n",
       "      <td>2.0</td>\n",
       "    </tr>\n",
       "    <tr>\n",
       "      <th>...</th>\n",
       "      <td>...</td>\n",
       "      <td>...</td>\n",
       "      <td>...</td>\n",
       "      <td>...</td>\n",
       "      <td>...</td>\n",
       "      <td>...</td>\n",
       "      <td>...</td>\n",
       "      <td>...</td>\n",
       "    </tr>\n",
       "    <tr>\n",
       "      <th>Verse worst met knolselderijsalade</th>\n",
       "      <td>5.477226</td>\n",
       "      <td>22.360680</td>\n",
       "      <td>2.639057</td>\n",
       "      <td>800.0</td>\n",
       "      <td>5.830952</td>\n",
       "      <td>10.0</td>\n",
       "      <td>4.0</td>\n",
       "      <td>10.0</td>\n",
       "    </tr>\n",
       "    <tr>\n",
       "      <th>Verse-kabeljauw-couscousverrassing uit de oven</th>\n",
       "      <td>5.567764</td>\n",
       "      <td>18.574176</td>\n",
       "      <td>3.871201</td>\n",
       "      <td>120.0</td>\n",
       "      <td>5.567764</td>\n",
       "      <td>7.0</td>\n",
       "      <td>0.0</td>\n",
       "      <td>2.0</td>\n",
       "    </tr>\n",
       "    <tr>\n",
       "      <th>Vesper</th>\n",
       "      <td>0.000000</td>\n",
       "      <td>16.733201</td>\n",
       "      <td>0.693147</td>\n",
       "      <td>NaN</td>\n",
       "      <td>0.000000</td>\n",
       "      <td>0.0</td>\n",
       "      <td>0.0</td>\n",
       "      <td>0.0</td>\n",
       "    </tr>\n",
       "    <tr>\n",
       "      <th>Vezelrijk knäckebröd met avocado en mango</th>\n",
       "      <td>2.000000</td>\n",
       "      <td>18.973666</td>\n",
       "      <td>3.258097</td>\n",
       "      <td>200.0</td>\n",
       "      <td>5.000000</td>\n",
       "      <td>7.0</td>\n",
       "      <td>12.0</td>\n",
       "      <td>3.0</td>\n",
       "    </tr>\n",
       "    <tr>\n",
       "      <th>Vietnamese beefburger</th>\n",
       "      <td>5.916080</td>\n",
       "      <td>26.925824</td>\n",
       "      <td>3.761200</td>\n",
       "      <td>985.0</td>\n",
       "      <td>6.708204</td>\n",
       "      <td>4.0</td>\n",
       "      <td>0.0</td>\n",
       "      <td>13.0</td>\n",
       "    </tr>\n",
       "  </tbody>\n",
       "</table>\n",
       "<p>8000 rows × 8 columns</p>\n",
       "</div>"
      ],
      "text/plain": [
       "nutrition                                              eiwit    energie  \\\n",
       "recipe                                                                    \n",
       " Andijviestamppot met gebakken salami               5.000000  25.099801   \n",
       " Bietensoep met selderijroom                        1.732051  12.649111   \n",
       " Libanese wraps met appel-koolsalade                4.582576  20.976177   \n",
       " Plaattaart met gegrilde groenten en witte kaas     4.000000  23.452079   \n",
       " Sticky cauliflower (gegrilde bloemkoolroosjes)...  2.828427  15.329710   \n",
       "...                                                      ...        ...   \n",
       "Verse worst met knolselderijsalade                  5.477226  22.360680   \n",
       "Verse-kabeljauw-couscousverrassing uit de oven      5.567764  18.574176   \n",
       "Vesper                                              0.000000  16.733201   \n",
       "Vezelrijk knäckebröd met avocado en mango           2.000000  18.973666   \n",
       "Vietnamese beefburger                               5.916080  26.925824   \n",
       "\n",
       "nutrition                                           koolhydraten  natrium  \\\n",
       "recipe                                                                      \n",
       " Andijviestamppot met gebakken salami                   3.583519   1875.0   \n",
       " Bietensoep met selderijroom                            2.397895   1160.0   \n",
       " Libanese wraps met appel-koolsalade                    3.806662    440.0   \n",
       " Plaattaart met gegrilde groenten en witte kaas         3.637586    760.0   \n",
       " Sticky cauliflower (gegrilde bloemkoolroosjes)...      2.772589    800.0   \n",
       "...                                                          ...      ...   \n",
       "Verse worst met knolselderijsalade                      2.639057    800.0   \n",
       "Verse-kabeljauw-couscousverrassing uit de oven          3.871201    120.0   \n",
       "Vesper                                                  0.693147      NaN   \n",
       "Vezelrijk knäckebröd met avocado en mango               3.258097    200.0   \n",
       "Vietnamese beefburger                                   3.761200    985.0   \n",
       "\n",
       "nutrition                                                vet  vezels  \\\n",
       "recipe                                                                 \n",
       " Andijviestamppot met gebakken salami               6.403124     7.0   \n",
       " Bietensoep met selderijroom                        3.316625     5.0   \n",
       " Libanese wraps met appel-koolsalade                4.242641     9.0   \n",
       " Plaattaart met gegrilde groenten en witte kaas     5.916080     8.0   \n",
       " Sticky cauliflower (gegrilde bloemkoolroosjes)...  3.741657     6.0   \n",
       "...                                                      ...     ...   \n",
       "Verse worst met knolselderijsalade                  5.830952    10.0   \n",
       "Verse-kabeljauw-couscousverrassing uit de oven      5.567764     7.0   \n",
       "Vesper                                              0.000000     0.0   \n",
       "Vezelrijk knäckebröd met avocado en mango           5.000000     7.0   \n",
       "Vietnamese beefburger                               6.708204     4.0   \n",
       "\n",
       "nutrition                                           waarvan suikers  \\\n",
       "recipe                                                                \n",
       " Andijviestamppot met gebakken salami                           0.0   \n",
       " Bietensoep met selderijroom                                    0.0   \n",
       " Libanese wraps met appel-koolsalade                            0.0   \n",
       " Plaattaart met gegrilde groenten en witte kaas                11.0   \n",
       " Sticky cauliflower (gegrilde bloemkoolroosjes)...              0.0   \n",
       "...                                                             ...   \n",
       "Verse worst met knolselderijsalade                              4.0   \n",
       "Verse-kabeljauw-couscousverrassing uit de oven                  0.0   \n",
       "Vesper                                                          0.0   \n",
       "Vezelrijk knäckebröd met avocado en mango                      12.0   \n",
       "Vietnamese beefburger                                           0.0   \n",
       "\n",
       "nutrition                                           waarvan verzadigd  \n",
       "recipe                                                                 \n",
       " Andijviestamppot met gebakken salami                            17.0  \n",
       " Bietensoep met selderijroom                                      5.0  \n",
       " Libanese wraps met appel-koolsalade                              3.0  \n",
       " Plaattaart met gegrilde groenten en witte kaas                  16.0  \n",
       " Sticky cauliflower (gegrilde bloemkoolroosjes)...                2.0  \n",
       "...                                                               ...  \n",
       "Verse worst met knolselderijsalade                               10.0  \n",
       "Verse-kabeljauw-couscousverrassing uit de oven                    2.0  \n",
       "Vesper                                                            0.0  \n",
       "Vezelrijk knäckebröd met avocado en mango                         3.0  \n",
       "Vietnamese beefburger                                            13.0  \n",
       "\n",
       "[8000 rows x 8 columns]"
      ]
     },
     "execution_count": 101,
     "metadata": {},
     "output_type": "execute_result"
    }
   ],
   "source": [
    "df_train"
   ]
  },
  {
   "cell_type": "markdown",
   "id": "ad92d6ed",
   "metadata": {},
   "source": [
    "# Model selection for predictive model"
   ]
  },
  {
   "cell_type": "code",
   "execution_count": 102,
   "id": "7b306457",
   "metadata": {},
   "outputs": [],
   "source": [
    "X = df_train[['eiwit', 'koolhydraten', 'vet']]\n",
    "y = df_train['energie']\n",
    "train_X, valid_X, train_y, valid_y = train_test_split(X,y, test_size=0.2)"
   ]
  },
  {
   "cell_type": "code",
   "execution_count": 103,
   "id": "ff2fe796",
   "metadata": {},
   "outputs": [],
   "source": [
    "def run_experiment(model, train_X, train_y, valid_X, valid_y):\n",
    "    model.fit(train_X, train_y)\n",
    "    y_pred = model.predict(valid_X)\n",
    "    MSE = mse(valid_y,y_pred)\n",
    "    RMSE = math.sqrt(mse(valid_y,y_pred))  \n",
    "    R2 = r2_score(valid_y,y_pred)\n",
    "    return model.__class__.__name__,MSE, RMSE, R2"
   ]
  },
  {
   "cell_type": "code",
   "execution_count": 104,
   "id": "3cce0268",
   "metadata": {},
   "outputs": [
    {
     "data": {
      "text/plain": [
       "nutrition\n",
       "eiwit           0\n",
       "koolhydraten    0\n",
       "vet             0\n",
       "dtype: int64"
      ]
     },
     "execution_count": 104,
     "metadata": {},
     "output_type": "execute_result"
    }
   ],
   "source": [
    "X.isnull().sum()"
   ]
  },
  {
   "cell_type": "code",
   "execution_count": 105,
   "id": "6e4e2d1d",
   "metadata": {},
   "outputs": [],
   "source": [
    "results = []\n",
    "for m in [LinearRegression(), Ridge()]:\n",
    "    r = run_experiment(m, train_X, train_y, valid_X, valid_y)\n",
    "    results.append(r)"
   ]
  },
  {
   "cell_type": "code",
   "execution_count": 106,
   "id": "f161299b",
   "metadata": {},
   "outputs": [
    {
     "data": {
      "text/html": [
       "<div>\n",
       "<style scoped>\n",
       "    .dataframe tbody tr th:only-of-type {\n",
       "        vertical-align: middle;\n",
       "    }\n",
       "\n",
       "    .dataframe tbody tr th {\n",
       "        vertical-align: top;\n",
       "    }\n",
       "\n",
       "    .dataframe thead th {\n",
       "        text-align: right;\n",
       "    }\n",
       "</style>\n",
       "<table border=\"1\" class=\"dataframe\">\n",
       "  <thead>\n",
       "    <tr style=\"text-align: right;\">\n",
       "      <th></th>\n",
       "      <th>model</th>\n",
       "      <th>MSE</th>\n",
       "      <th>RMSE</th>\n",
       "      <th>R2</th>\n",
       "    </tr>\n",
       "  </thead>\n",
       "  <tbody>\n",
       "    <tr>\n",
       "      <th>0</th>\n",
       "      <td>LinearRegression</td>\n",
       "      <td>2.236111</td>\n",
       "      <td>1.495363</td>\n",
       "      <td>0.935836</td>\n",
       "    </tr>\n",
       "    <tr>\n",
       "      <th>1</th>\n",
       "      <td>Ridge</td>\n",
       "      <td>2.236055</td>\n",
       "      <td>1.495344</td>\n",
       "      <td>0.935837</td>\n",
       "    </tr>\n",
       "  </tbody>\n",
       "</table>\n",
       "</div>"
      ],
      "text/plain": [
       "              model       MSE      RMSE        R2\n",
       "0  LinearRegression  2.236111  1.495363  0.935836\n",
       "1             Ridge  2.236055  1.495344  0.935837"
      ]
     },
     "execution_count": 106,
     "metadata": {},
     "output_type": "execute_result"
    }
   ],
   "source": [
    "pd.DataFrame(results, columns=['model','MSE','RMSE','R2'])"
   ]
  },
  {
   "cell_type": "markdown",
   "id": "21968823",
   "metadata": {},
   "source": [
    "### Model Choice\n",
    "Since I will use the R2 score metric, I will go with an Ridge for my predictive model. However this of course is not really that significantly worse or better than a Linear Regression"
   ]
  },
  {
   "cell_type": "markdown",
   "id": "3d140351",
   "metadata": {},
   "source": [
    "# Hyperparametertuning the model"
   ]
  },
  {
   "cell_type": "code",
   "execution_count": 107,
   "id": "eea586a2",
   "metadata": {},
   "outputs": [
    {
     "name": "stderr",
     "output_type": "stream",
     "text": [
      "\u001b[32m[I 2023-01-25 19:00:54,037]\u001b[0m A new study created in memory with name: no-name-881e1359-5991-487a-abb3-1c506980bad4\u001b[0m\n",
      "\u001b[32m[I 2023-01-25 19:00:54,107]\u001b[0m Trial 0 finished with value: 0.939331622453588 and parameters: {'alpha': 0.011214308080419724}. Best is trial 0 with value: 0.939331622453588.\u001b[0m\n",
      "\u001b[32m[I 2023-01-25 19:00:54,167]\u001b[0m Trial 1 finished with value: 0.9401271091689573 and parameters: {'alpha': 0.7389777189596193}. Best is trial 1 with value: 0.9401271091689573.\u001b[0m\n",
      "\u001b[32m[I 2023-01-25 19:00:54,224]\u001b[0m Trial 2 finished with value: 0.9444870013711478 and parameters: {'alpha': 0.17687040333247217}. Best is trial 2 with value: 0.9444870013711478.\u001b[0m\n",
      "\u001b[32m[I 2023-01-25 19:00:54,282]\u001b[0m Trial 3 finished with value: 0.9431921056765059 and parameters: {'alpha': 0.019983484196863275}. Best is trial 2 with value: 0.9444870013711478.\u001b[0m\n",
      "\u001b[32m[I 2023-01-25 19:00:54,338]\u001b[0m Trial 4 finished with value: 0.938782852326311 and parameters: {'alpha': 0.001606785190545273}. Best is trial 2 with value: 0.9444870013711478.\u001b[0m\n",
      "\u001b[32m[I 2023-01-25 19:00:54,397]\u001b[0m Trial 5 finished with value: 0.9425613180254476 and parameters: {'alpha': 0.009900451613257194}. Best is trial 2 with value: 0.9444870013711478.\u001b[0m\n",
      "\u001b[32m[I 2023-01-25 19:00:54,454]\u001b[0m Trial 6 finished with value: 0.9426089772666971 and parameters: {'alpha': 0.15054730837110905}. Best is trial 2 with value: 0.9444870013711478.\u001b[0m\n",
      "\u001b[32m[I 2023-01-25 19:00:54,524]\u001b[0m Trial 7 finished with value: 0.9444872456845683 and parameters: {'alpha': 0.003994443275254919}. Best is trial 7 with value: 0.9444872456845683.\u001b[0m\n",
      "\u001b[32m[I 2023-01-25 19:00:54,582]\u001b[0m Trial 8 finished with value: 0.9381851346921385 and parameters: {'alpha': 0.08620074772759474}. Best is trial 7 with value: 0.9444872456845683.\u001b[0m\n",
      "\u001b[32m[I 2023-01-25 19:00:54,639]\u001b[0m Trial 9 finished with value: 0.9396510024744748 and parameters: {'alpha': 0.001318067811780588}. Best is trial 7 with value: 0.9444872456845683.\u001b[0m\n",
      "\u001b[32m[I 2023-01-25 19:00:54,698]\u001b[0m Trial 10 finished with value: 0.9415173239629044 and parameters: {'alpha': 0.004218614956627269}. Best is trial 7 with value: 0.9444872456845683.\u001b[0m\n",
      "\u001b[32m[I 2023-01-25 19:00:54,757]\u001b[0m Trial 11 finished with value: 0.9407920849283677 and parameters: {'alpha': 0.11747326482250153}. Best is trial 7 with value: 0.9444872456845683.\u001b[0m\n",
      "\u001b[32m[I 2023-01-25 19:00:54,815]\u001b[0m Trial 12 finished with value: 0.9392314562005637 and parameters: {'alpha': 0.7800107617633179}. Best is trial 7 with value: 0.9444872456845683.\u001b[0m\n",
      "\u001b[32m[I 2023-01-25 19:00:54,876]\u001b[0m Trial 13 finished with value: 0.9424846451621864 and parameters: {'alpha': 0.04933545342746957}. Best is trial 7 with value: 0.9444872456845683.\u001b[0m\n",
      "\u001b[32m[I 2023-01-25 19:00:54,934]\u001b[0m Trial 14 finished with value: 0.9383088463494567 and parameters: {'alpha': 0.22567889358078222}. Best is trial 7 with value: 0.9444872456845683.\u001b[0m\n",
      "\u001b[32m[I 2023-01-25 19:00:54,992]\u001b[0m Trial 15 finished with value: 0.9439033822989351 and parameters: {'alpha': 0.0041417838258429596}. Best is trial 7 with value: 0.9444872456845683.\u001b[0m\n",
      "\u001b[32m[I 2023-01-25 19:00:55,052]\u001b[0m Trial 16 finished with value: 0.9420791927682197 and parameters: {'alpha': 0.30882097432150196}. Best is trial 7 with value: 0.9444872456845683.\u001b[0m\n",
      "\u001b[32m[I 2023-01-25 19:00:55,111]\u001b[0m Trial 17 finished with value: 0.940362288927983 and parameters: {'alpha': 0.037300691801146896}. Best is trial 7 with value: 0.9444872456845683.\u001b[0m\n",
      "\u001b[32m[I 2023-01-25 19:00:55,171]\u001b[0m Trial 18 finished with value: 0.9388668746472852 and parameters: {'alpha': 0.002441111131991035}. Best is trial 7 with value: 0.9444872456845683.\u001b[0m\n",
      "\u001b[32m[I 2023-01-25 19:00:55,231]\u001b[0m Trial 19 finished with value: 0.939177428999632 and parameters: {'alpha': 0.01410553871019028}. Best is trial 7 with value: 0.9444872456845683.\u001b[0m\n",
      "\u001b[32m[I 2023-01-25 19:00:55,290]\u001b[0m Trial 20 finished with value: 0.9405441657555633 and parameters: {'alpha': 0.39313870551760216}. Best is trial 7 with value: 0.9444872456845683.\u001b[0m\n",
      "\u001b[32m[I 2023-01-25 19:00:55,349]\u001b[0m Trial 21 finished with value: 0.9384288243405452 and parameters: {'alpha': 0.0053838956046114396}. Best is trial 7 with value: 0.9444872456845683.\u001b[0m\n",
      "\u001b[32m[I 2023-01-25 19:00:55,408]\u001b[0m Trial 22 finished with value: 0.9387204465887276 and parameters: {'alpha': 0.0039233778531786445}. Best is trial 7 with value: 0.9444872456845683.\u001b[0m\n",
      "\u001b[32m[I 2023-01-25 19:00:55,467]\u001b[0m Trial 23 finished with value: 0.9382523824911202 and parameters: {'alpha': 0.006748852594025922}. Best is trial 7 with value: 0.9444872456845683.\u001b[0m\n",
      "\u001b[32m[I 2023-01-25 19:00:55,527]\u001b[0m Trial 24 finished with value: 0.9431222047080858 and parameters: {'alpha': 0.02377600494034466}. Best is trial 7 with value: 0.9444872456845683.\u001b[0m\n",
      "\u001b[32m[I 2023-01-25 19:00:55,586]\u001b[0m Trial 25 finished with value: 0.9394622216669495 and parameters: {'alpha': 0.002446251107350479}. Best is trial 7 with value: 0.9444872456845683.\u001b[0m\n",
      "\u001b[32m[I 2023-01-25 19:00:55,644]\u001b[0m Trial 26 finished with value: 0.9411004346908814 and parameters: {'alpha': 0.06360554710915232}. Best is trial 7 with value: 0.9444872456845683.\u001b[0m\n",
      "\u001b[32m[I 2023-01-25 19:00:55,705]\u001b[0m Trial 27 finished with value: 0.9407277715571116 and parameters: {'alpha': 0.0025032306306135036}. Best is trial 7 with value: 0.9444872456845683.\u001b[0m\n",
      "\u001b[32m[I 2023-01-25 19:00:55,765]\u001b[0m Trial 28 finished with value: 0.94162709292491 and parameters: {'alpha': 0.007334876281156505}. Best is trial 7 with value: 0.9444872456845683.\u001b[0m\n",
      "\u001b[32m[I 2023-01-25 19:00:55,825]\u001b[0m Trial 29 finished with value: 0.941356832657249 and parameters: {'alpha': 0.0010658772036713365}. Best is trial 7 with value: 0.9444872456845683.\u001b[0m\n",
      "\u001b[32m[I 2023-01-25 19:00:55,884]\u001b[0m Trial 30 finished with value: 0.943692398067304 and parameters: {'alpha': 0.012530754733831861}. Best is trial 7 with value: 0.9444872456845683.\u001b[0m\n",
      "\u001b[32m[I 2023-01-25 19:00:55,943]\u001b[0m Trial 31 finished with value: 0.9417814739527272 and parameters: {'alpha': 0.012860901685702624}. Best is trial 7 with value: 0.9444872456845683.\u001b[0m\n",
      "\u001b[32m[I 2023-01-25 19:00:56,002]\u001b[0m Trial 32 finished with value: 0.9398649926590998 and parameters: {'alpha': 0.020497096207509554}. Best is trial 7 with value: 0.9444872456845683.\u001b[0m\n",
      "\u001b[32m[I 2023-01-25 19:00:56,060]\u001b[0m Trial 33 finished with value: 0.9397916942899778 and parameters: {'alpha': 0.009188498564913019}. Best is trial 7 with value: 0.9444872456845683.\u001b[0m\n",
      "\u001b[32m[I 2023-01-25 19:00:56,119]\u001b[0m Trial 34 finished with value: 0.9403973587881108 and parameters: {'alpha': 0.0033884340903290217}. Best is trial 7 with value: 0.9444872456845683.\u001b[0m\n",
      "\u001b[32m[I 2023-01-25 19:00:56,179]\u001b[0m Trial 35 finished with value: 0.9387155933242421 and parameters: {'alpha': 0.01623616037143622}. Best is trial 7 with value: 0.9444872456845683.\u001b[0m\n",
      "\u001b[32m[I 2023-01-25 19:00:56,240]\u001b[0m Trial 36 finished with value: 0.9415960317273205 and parameters: {'alpha': 0.5067473031810166}. Best is trial 7 with value: 0.9444872456845683.\u001b[0m\n",
      "\u001b[32m[I 2023-01-25 19:00:56,300]\u001b[0m Trial 37 finished with value: 0.9434759096187969 and parameters: {'alpha': 0.03178295933655254}. Best is trial 7 with value: 0.9444872456845683.\u001b[0m\n",
      "\u001b[32m[I 2023-01-25 19:00:56,360]\u001b[0m Trial 38 finished with value: 0.9455224779151777 and parameters: {'alpha': 0.0016273125667376725}. Best is trial 38 with value: 0.9455224779151777.\u001b[0m\n",
      "\u001b[32m[I 2023-01-25 19:00:56,422]\u001b[0m Trial 39 finished with value: 0.943241634402861 and parameters: {'alpha': 0.002139452323740364}. Best is trial 38 with value: 0.9455224779151777.\u001b[0m\n",
      "\u001b[32m[I 2023-01-25 19:00:56,482]\u001b[0m Trial 40 finished with value: 0.9433654364526689 and parameters: {'alpha': 0.0016589049734477646}. Best is trial 38 with value: 0.9455224779151777.\u001b[0m\n",
      "\u001b[32m[I 2023-01-25 19:00:56,551]\u001b[0m Trial 41 finished with value: 0.940079437942009 and parameters: {'alpha': 0.005832543599063986}. Best is trial 38 with value: 0.9455224779151777.\u001b[0m\n",
      "\u001b[32m[I 2023-01-25 19:00:56,613]\u001b[0m Trial 42 finished with value: 0.9395980933288408 and parameters: {'alpha': 0.0032903904832047976}. Best is trial 38 with value: 0.9455224779151777.\u001b[0m\n",
      "\u001b[32m[I 2023-01-25 19:00:56,673]\u001b[0m Trial 43 finished with value: 0.9401808049262688 and parameters: {'alpha': 0.009766641751319664}. Best is trial 38 with value: 0.9455224779151777.\u001b[0m\n",
      "\u001b[32m[I 2023-01-25 19:00:56,732]\u001b[0m Trial 44 finished with value: 0.9411479659854104 and parameters: {'alpha': 0.0015387909777884333}. Best is trial 38 with value: 0.9455224779151777.\u001b[0m\n",
      "\u001b[32m[I 2023-01-25 19:00:56,793]\u001b[0m Trial 45 finished with value: 0.937327086606448 and parameters: {'alpha': 0.004776211578229088}. Best is trial 38 with value: 0.9455224779151777.\u001b[0m\n",
      "\u001b[32m[I 2023-01-25 19:00:56,853]\u001b[0m Trial 46 finished with value: 0.9415091558867689 and parameters: {'alpha': 0.001122597761384242}. Best is trial 38 with value: 0.9455224779151777.\u001b[0m\n",
      "\u001b[32m[I 2023-01-25 19:00:56,913]\u001b[0m Trial 47 finished with value: 0.9422226001929946 and parameters: {'alpha': 0.20530330446428197}. Best is trial 38 with value: 0.9455224779151777.\u001b[0m\n",
      "\u001b[32m[I 2023-01-25 19:00:56,974]\u001b[0m Trial 48 finished with value: 0.9429358550504287 and parameters: {'alpha': 0.10388004635363689}. Best is trial 38 with value: 0.9455224779151777.\u001b[0m\n",
      "\u001b[32m[I 2023-01-25 19:00:57,036]\u001b[0m Trial 49 finished with value: 0.9403339708391218 and parameters: {'alpha': 0.007883114426910622}. Best is trial 38 with value: 0.9455224779151777.\u001b[0m\n",
      "\u001b[32m[I 2023-01-25 19:00:57,095]\u001b[0m Trial 50 finished with value: 0.9415590352115611 and parameters: {'alpha': 0.0019005964588820576}. Best is trial 38 with value: 0.9455224779151777.\u001b[0m\n",
      "\u001b[32m[I 2023-01-25 19:00:57,155]\u001b[0m Trial 51 finished with value: 0.9424001045314853 and parameters: {'alpha': 0.029411233519745537}. Best is trial 38 with value: 0.9455224779151777.\u001b[0m\n",
      "\u001b[32m[I 2023-01-25 19:00:57,215]\u001b[0m Trial 52 finished with value: 0.9412558254421789 and parameters: {'alpha': 0.05735577444885313}. Best is trial 38 with value: 0.9455224779151777.\u001b[0m\n",
      "\u001b[32m[I 2023-01-25 19:00:57,277]\u001b[0m Trial 53 finished with value: 0.9406341529280491 and parameters: {'alpha': 0.03735042587234061}. Best is trial 38 with value: 0.9455224779151777.\u001b[0m\n",
      "\u001b[32m[I 2023-01-25 19:00:57,338]\u001b[0m Trial 54 finished with value: 0.9383871045023847 and parameters: {'alpha': 0.14565226520279845}. Best is trial 38 with value: 0.9455224779151777.\u001b[0m\n",
      "\u001b[32m[I 2023-01-25 19:00:57,398]\u001b[0m Trial 55 finished with value: 0.9383090190117631 and parameters: {'alpha': 0.004018196950648238}. Best is trial 38 with value: 0.9455224779151777.\u001b[0m\n",
      "\u001b[32m[I 2023-01-25 19:00:57,459]\u001b[0m Trial 56 finished with value: 0.9418406429786813 and parameters: {'alpha': 0.002877921120913075}. Best is trial 38 with value: 0.9455224779151777.\u001b[0m\n",
      "\u001b[32m[I 2023-01-25 19:00:57,518]\u001b[0m Trial 57 finished with value: 0.9378045535988632 and parameters: {'alpha': 0.07470052323218597}. Best is trial 38 with value: 0.9455224779151777.\u001b[0m\n",
      "\u001b[32m[I 2023-01-25 19:00:57,578]\u001b[0m Trial 58 finished with value: 0.9416103424665255 and parameters: {'alpha': 0.6564328931918387}. Best is trial 38 with value: 0.9455224779151777.\u001b[0m\n",
      "\u001b[32m[I 2023-01-25 19:00:57,638]\u001b[0m Trial 59 finished with value: 0.9401645538175126 and parameters: {'alpha': 0.01149655312632438}. Best is trial 38 with value: 0.9455224779151777.\u001b[0m\n",
      "\u001b[32m[I 2023-01-25 19:00:57,698]\u001b[0m Trial 60 finished with value: 0.9393866557990875 and parameters: {'alpha': 0.018482516164953583}. Best is trial 38 with value: 0.9455224779151777.\u001b[0m\n",
      "\u001b[32m[I 2023-01-25 19:00:57,760]\u001b[0m Trial 61 finished with value: 0.9390759657676352 and parameters: {'alpha': 0.0019146073937621796}. Best is trial 38 with value: 0.9455224779151777.\u001b[0m\n",
      "\u001b[32m[I 2023-01-25 19:00:57,821]\u001b[0m Trial 62 finished with value: 0.9393099829430737 and parameters: {'alpha': 0.0013017154103008308}. Best is trial 38 with value: 0.9455224779151777.\u001b[0m\n",
      "\u001b[32m[I 2023-01-25 19:00:57,882]\u001b[0m Trial 63 finished with value: 0.9425401290394662 and parameters: {'alpha': 0.9524320840591562}. Best is trial 38 with value: 0.9455224779151777.\u001b[0m\n",
      "\u001b[32m[I 2023-01-25 19:00:57,943]\u001b[0m Trial 64 finished with value: 0.9393968489314298 and parameters: {'alpha': 0.001410184253987229}. Best is trial 38 with value: 0.9455224779151777.\u001b[0m\n",
      "\u001b[32m[I 2023-01-25 19:00:58,009]\u001b[0m Trial 65 finished with value: 0.9426136276018949 and parameters: {'alpha': 0.005936348306274095}. Best is trial 38 with value: 0.9455224779151777.\u001b[0m\n",
      "\u001b[32m[I 2023-01-25 19:00:58,070]\u001b[0m Trial 66 finished with value: 0.9398740811732035 and parameters: {'alpha': 0.0017124652500257276}. Best is trial 38 with value: 0.9455224779151777.\u001b[0m\n",
      "\u001b[32m[I 2023-01-25 19:00:58,130]\u001b[0m Trial 67 finished with value: 0.940061747941465 and parameters: {'alpha': 0.002930150390721815}. Best is trial 38 with value: 0.9455224779151777.\u001b[0m\n",
      "\u001b[32m[I 2023-01-25 19:00:58,191]\u001b[0m Trial 68 finished with value: 0.9399921488146656 and parameters: {'alpha': 0.27292533247233697}. Best is trial 38 with value: 0.9455224779151777.\u001b[0m\n",
      "\u001b[32m[I 2023-01-25 19:00:58,251]\u001b[0m Trial 69 finished with value: 0.9402949990511823 and parameters: {'alpha': 0.0046138730816479324}. Best is trial 38 with value: 0.9455224779151777.\u001b[0m\n",
      "\u001b[32m[I 2023-01-25 19:00:58,314]\u001b[0m Trial 70 finished with value: 0.9425347445430017 and parameters: {'alpha': 0.04230106393769513}. Best is trial 38 with value: 0.9455224779151777.\u001b[0m\n",
      "\u001b[32m[I 2023-01-25 19:00:58,374]\u001b[0m Trial 71 finished with value: 0.9392510334974629 and parameters: {'alpha': 0.002160792001529552}. Best is trial 38 with value: 0.9455224779151777.\u001b[0m\n",
      "\u001b[32m[I 2023-01-25 19:00:58,435]\u001b[0m Trial 72 finished with value: 0.9407741707637236 and parameters: {'alpha': 0.0023590543525521357}. Best is trial 38 with value: 0.9455224779151777.\u001b[0m\n",
      "\u001b[32m[I 2023-01-25 19:00:58,495]\u001b[0m Trial 73 finished with value: 0.9397200215624428 and parameters: {'alpha': 0.003427896464309966}. Best is trial 38 with value: 0.9455224779151777.\u001b[0m\n",
      "\u001b[32m[I 2023-01-25 19:00:58,555]\u001b[0m Trial 74 finished with value: 0.940041861636676 and parameters: {'alpha': 0.02726096179801915}. Best is trial 38 with value: 0.9455224779151777.\u001b[0m\n",
      "\u001b[32m[I 2023-01-25 19:00:58,615]\u001b[0m Trial 75 finished with value: 0.9422609936252357 and parameters: {'alpha': 0.0011518249290800734}. Best is trial 38 with value: 0.9455224779151777.\u001b[0m\n",
      "\u001b[32m[I 2023-01-25 19:00:58,676]\u001b[0m Trial 76 finished with value: 0.9402763019430559 and parameters: {'alpha': 0.0017655250893113786}. Best is trial 38 with value: 0.9455224779151777.\u001b[0m\n",
      "\u001b[32m[I 2023-01-25 19:00:58,737]\u001b[0m Trial 77 finished with value: 0.9404157077658475 and parameters: {'alpha': 0.002829767033499796}. Best is trial 38 with value: 0.9455224779151777.\u001b[0m\n",
      "\u001b[32m[I 2023-01-25 19:00:58,798]\u001b[0m Trial 78 finished with value: 0.9397349972539205 and parameters: {'alpha': 0.0146556190409854}. Best is trial 38 with value: 0.9455224779151777.\u001b[0m\n",
      "\u001b[32m[I 2023-01-25 19:00:58,858]\u001b[0m Trial 79 finished with value: 0.9387629979362607 and parameters: {'alpha': 0.008551522103282125}. Best is trial 38 with value: 0.9455224779151777.\u001b[0m\n",
      "\u001b[32m[I 2023-01-25 19:00:58,919]\u001b[0m Trial 80 finished with value: 0.9418093804732124 and parameters: {'alpha': 0.0010169530193232632}. Best is trial 38 with value: 0.9455224779151777.\u001b[0m\n",
      "\u001b[32m[I 2023-01-25 19:00:58,980]\u001b[0m Trial 81 finished with value: 0.9408382335123047 and parameters: {'alpha': 0.022313475705761712}. Best is trial 38 with value: 0.9455224779151777.\u001b[0m\n",
      "\u001b[32m[I 2023-01-25 19:00:59,040]\u001b[0m Trial 82 finished with value: 0.9423889797981946 and parameters: {'alpha': 0.006703899434975411}. Best is trial 38 with value: 0.9455224779151777.\u001b[0m\n",
      "\u001b[32m[I 2023-01-25 19:00:59,101]\u001b[0m Trial 83 finished with value: 0.9416994326626325 and parameters: {'alpha': 0.01846684055017071}. Best is trial 38 with value: 0.9455224779151777.\u001b[0m\n",
      "\u001b[32m[I 2023-01-25 19:00:59,159]\u001b[0m Trial 84 finished with value: 0.9418322765919427 and parameters: {'alpha': 0.0021613726219496753}. Best is trial 38 with value: 0.9455224779151777.\u001b[0m\n",
      "\u001b[32m[I 2023-01-25 19:00:59,214]\u001b[0m Trial 85 finished with value: 0.9451864355729876 and parameters: {'alpha': 0.010719385283282519}. Best is trial 38 with value: 0.9455224779151777.\u001b[0m\n",
      "\u001b[32m[I 2023-01-25 19:00:59,275]\u001b[0m Trial 86 finished with value: 0.9421680212804395 and parameters: {'alpha': 0.004845151794753259}. Best is trial 38 with value: 0.9455224779151777.\u001b[0m\n",
      "\u001b[32m[I 2023-01-25 19:00:59,335]\u001b[0m Trial 87 finished with value: 0.9403077924931159 and parameters: {'alpha': 0.0014554616332248446}. Best is trial 38 with value: 0.9455224779151777.\u001b[0m\n",
      "\u001b[32m[I 2023-01-25 19:00:59,396]\u001b[0m Trial 88 finished with value: 0.9383349802607537 and parameters: {'alpha': 0.0038574029226905405}. Best is trial 38 with value: 0.9455224779151777.\u001b[0m\n",
      "\u001b[32m[I 2023-01-25 19:00:59,457]\u001b[0m Trial 89 finished with value: 0.942114921560057 and parameters: {'alpha': 0.011081539277607947}. Best is trial 38 with value: 0.9455224779151777.\u001b[0m\n",
      "\u001b[32m[I 2023-01-25 19:00:59,517]\u001b[0m Trial 90 finished with value: 0.9396871127286228 and parameters: {'alpha': 0.002717292156266839}. Best is trial 38 with value: 0.9455224779151777.\u001b[0m\n",
      "\u001b[32m[I 2023-01-25 19:00:59,577]\u001b[0m Trial 91 finished with value: 0.9436116284737874 and parameters: {'alpha': 0.015560071991035396}. Best is trial 38 with value: 0.9455224779151777.\u001b[0m\n",
      "\u001b[32m[I 2023-01-25 19:00:59,636]\u001b[0m Trial 92 finished with value: 0.9411401952481834 and parameters: {'alpha': 0.012527645016638353}. Best is trial 38 with value: 0.9455224779151777.\u001b[0m\n",
      "\u001b[32m[I 2023-01-25 19:00:59,696]\u001b[0m Trial 93 finished with value: 0.9437359790675736 and parameters: {'alpha': 0.015445553788981478}. Best is trial 38 with value: 0.9455224779151777.\u001b[0m\n",
      "\u001b[32m[I 2023-01-25 19:00:59,756]\u001b[0m Trial 94 finished with value: 0.9394911829983723 and parameters: {'alpha': 0.015493738210539645}. Best is trial 38 with value: 0.9455224779151777.\u001b[0m\n",
      "\u001b[32m[I 2023-01-25 19:00:59,818]\u001b[0m Trial 95 finished with value: 0.9422778823620106 and parameters: {'alpha': 0.010405396922660678}. Best is trial 38 with value: 0.9455224779151777.\u001b[0m\n",
      "\u001b[32m[I 2023-01-25 19:00:59,878]\u001b[0m Trial 96 finished with value: 0.9387634629184749 and parameters: {'alpha': 0.007602167745395687}. Best is trial 38 with value: 0.9455224779151777.\u001b[0m\n",
      "\u001b[32m[I 2023-01-25 19:00:59,938]\u001b[0m Trial 97 finished with value: 0.9419720566898253 and parameters: {'alpha': 0.03297033623425719}. Best is trial 38 with value: 0.9455224779151777.\u001b[0m\n",
      "\u001b[32m[I 2023-01-25 19:00:59,998]\u001b[0m Trial 98 finished with value: 0.9432953268713324 and parameters: {'alpha': 0.025338570841163005}. Best is trial 38 with value: 0.9455224779151777.\u001b[0m\n",
      "\u001b[32m[I 2023-01-25 19:01:00,061]\u001b[0m Trial 99 finished with value: 0.9416176888829263 and parameters: {'alpha': 0.017852140896937308}. Best is trial 38 with value: 0.9455224779151777.\u001b[0m\n"
     ]
    },
    {
     "data": {
      "application/vnd.plotly.v1+json": {
       "config": {
        "plotlyServerURL": "https://plot.ly"
       },
       "data": [
        {
         "marker": {
          "color": [
           0,
           1,
           2,
           3,
           4,
           5,
           6,
           7,
           8,
           9,
           10,
           11,
           12,
           13,
           14,
           15,
           16,
           17,
           18,
           19,
           20,
           21,
           22,
           23,
           24,
           25,
           26,
           27,
           28,
           29,
           30,
           31,
           32,
           33,
           34,
           35,
           36,
           37,
           38,
           39,
           40,
           41,
           42,
           43,
           44,
           45,
           46,
           47,
           48,
           49,
           50,
           51,
           52,
           53,
           54,
           55,
           56,
           57,
           58,
           59,
           60,
           61,
           62,
           63,
           64,
           65,
           66,
           67,
           68,
           69,
           70,
           71,
           72,
           73,
           74,
           75,
           76,
           77,
           78,
           79,
           80,
           81,
           82,
           83,
           84,
           85,
           86,
           87,
           88,
           89,
           90,
           91,
           92,
           93,
           94,
           95,
           96,
           97,
           98,
           99
          ],
          "colorbar": {
           "title": {
            "text": "#Trials"
           },
           "x": 1,
           "xpad": 40
          },
          "colorscale": [
           [
            0,
            "rgb(247,251,255)"
           ],
           [
            0.125,
            "rgb(222,235,247)"
           ],
           [
            0.25,
            "rgb(198,219,239)"
           ],
           [
            0.375,
            "rgb(158,202,225)"
           ],
           [
            0.5,
            "rgb(107,174,214)"
           ],
           [
            0.625,
            "rgb(66,146,198)"
           ],
           [
            0.75,
            "rgb(33,113,181)"
           ],
           [
            0.875,
            "rgb(8,81,156)"
           ],
           [
            1,
            "rgb(8,48,107)"
           ]
          ],
          "line": {
           "color": "Grey",
           "width": 0.5
          }
         },
         "mode": "markers",
         "showlegend": false,
         "type": "scatter",
         "x": [
          0.011214308080419724,
          0.7389777189596193,
          0.17687040333247217,
          0.019983484196863275,
          0.001606785190545273,
          0.009900451613257194,
          0.15054730837110905,
          0.003994443275254919,
          0.08620074772759474,
          0.001318067811780588,
          0.004218614956627269,
          0.11747326482250153,
          0.7800107617633179,
          0.04933545342746957,
          0.22567889358078222,
          0.0041417838258429596,
          0.30882097432150196,
          0.037300691801146896,
          0.002441111131991035,
          0.01410553871019028,
          0.39313870551760216,
          0.0053838956046114396,
          0.0039233778531786445,
          0.006748852594025922,
          0.02377600494034466,
          0.002446251107350479,
          0.06360554710915232,
          0.0025032306306135036,
          0.007334876281156505,
          0.0010658772036713365,
          0.012530754733831861,
          0.012860901685702624,
          0.020497096207509554,
          0.009188498564913019,
          0.0033884340903290217,
          0.01623616037143622,
          0.5067473031810166,
          0.03178295933655254,
          0.0016273125667376725,
          0.002139452323740364,
          0.0016589049734477646,
          0.005832543599063986,
          0.0032903904832047976,
          0.009766641751319664,
          0.0015387909777884333,
          0.004776211578229088,
          0.001122597761384242,
          0.20530330446428197,
          0.10388004635363689,
          0.007883114426910622,
          0.0019005964588820576,
          0.029411233519745537,
          0.05735577444885313,
          0.03735042587234061,
          0.14565226520279845,
          0.004018196950648238,
          0.002877921120913075,
          0.07470052323218597,
          0.6564328931918387,
          0.01149655312632438,
          0.018482516164953583,
          0.0019146073937621796,
          0.0013017154103008308,
          0.9524320840591562,
          0.001410184253987229,
          0.005936348306274095,
          0.0017124652500257276,
          0.002930150390721815,
          0.27292533247233697,
          0.0046138730816479324,
          0.04230106393769513,
          0.002160792001529552,
          0.0023590543525521357,
          0.003427896464309966,
          0.02726096179801915,
          0.0011518249290800734,
          0.0017655250893113786,
          0.002829767033499796,
          0.0146556190409854,
          0.008551522103282125,
          0.0010169530193232632,
          0.022313475705761712,
          0.006703899434975411,
          0.01846684055017071,
          0.0021613726219496753,
          0.010719385283282519,
          0.004845151794753259,
          0.0014554616332248446,
          0.0038574029226905405,
          0.011081539277607947,
          0.002717292156266839,
          0.015560071991035396,
          0.012527645016638353,
          0.015445553788981478,
          0.015493738210539645,
          0.010405396922660678,
          0.007602167745395687,
          0.03297033623425719,
          0.025338570841163005,
          0.017852140896937308
         ],
         "y": [
          0.939331622453588,
          0.9401271091689573,
          0.9444870013711478,
          0.9431921056765059,
          0.938782852326311,
          0.9425613180254476,
          0.9426089772666971,
          0.9444872456845683,
          0.9381851346921385,
          0.9396510024744748,
          0.9415173239629044,
          0.9407920849283677,
          0.9392314562005637,
          0.9424846451621864,
          0.9383088463494567,
          0.9439033822989351,
          0.9420791927682197,
          0.940362288927983,
          0.9388668746472852,
          0.939177428999632,
          0.9405441657555633,
          0.9384288243405452,
          0.9387204465887276,
          0.9382523824911202,
          0.9431222047080858,
          0.9394622216669495,
          0.9411004346908814,
          0.9407277715571116,
          0.94162709292491,
          0.941356832657249,
          0.943692398067304,
          0.9417814739527272,
          0.9398649926590998,
          0.9397916942899778,
          0.9403973587881108,
          0.9387155933242421,
          0.9415960317273205,
          0.9434759096187969,
          0.9455224779151777,
          0.943241634402861,
          0.9433654364526689,
          0.940079437942009,
          0.9395980933288408,
          0.9401808049262688,
          0.9411479659854104,
          0.937327086606448,
          0.9415091558867689,
          0.9422226001929946,
          0.9429358550504287,
          0.9403339708391218,
          0.9415590352115611,
          0.9424001045314853,
          0.9412558254421789,
          0.9406341529280491,
          0.9383871045023847,
          0.9383090190117631,
          0.9418406429786813,
          0.9378045535988632,
          0.9416103424665255,
          0.9401645538175126,
          0.9393866557990875,
          0.9390759657676352,
          0.9393099829430737,
          0.9425401290394662,
          0.9393968489314298,
          0.9426136276018949,
          0.9398740811732035,
          0.940061747941465,
          0.9399921488146656,
          0.9402949990511823,
          0.9425347445430017,
          0.9392510334974629,
          0.9407741707637236,
          0.9397200215624428,
          0.940041861636676,
          0.9422609936252357,
          0.9402763019430559,
          0.9404157077658475,
          0.9397349972539205,
          0.9387629979362607,
          0.9418093804732124,
          0.9408382335123047,
          0.9423889797981946,
          0.9416994326626325,
          0.9418322765919427,
          0.9451864355729876,
          0.9421680212804395,
          0.9403077924931159,
          0.9383349802607537,
          0.942114921560057,
          0.9396871127286228,
          0.9436116284737874,
          0.9411401952481834,
          0.9437359790675736,
          0.9394911829983723,
          0.9422778823620106,
          0.9387634629184749,
          0.9419720566898253,
          0.9432953268713324,
          0.9416176888829263
         ]
        }
       ],
       "layout": {
        "template": {
         "data": {
          "bar": [
           {
            "error_x": {
             "color": "#2a3f5f"
            },
            "error_y": {
             "color": "#2a3f5f"
            },
            "marker": {
             "line": {
              "color": "#E5ECF6",
              "width": 0.5
             },
             "pattern": {
              "fillmode": "overlay",
              "size": 10,
              "solidity": 0.2
             }
            },
            "type": "bar"
           }
          ],
          "barpolar": [
           {
            "marker": {
             "line": {
              "color": "#E5ECF6",
              "width": 0.5
             },
             "pattern": {
              "fillmode": "overlay",
              "size": 10,
              "solidity": 0.2
             }
            },
            "type": "barpolar"
           }
          ],
          "carpet": [
           {
            "aaxis": {
             "endlinecolor": "#2a3f5f",
             "gridcolor": "white",
             "linecolor": "white",
             "minorgridcolor": "white",
             "startlinecolor": "#2a3f5f"
            },
            "baxis": {
             "endlinecolor": "#2a3f5f",
             "gridcolor": "white",
             "linecolor": "white",
             "minorgridcolor": "white",
             "startlinecolor": "#2a3f5f"
            },
            "type": "carpet"
           }
          ],
          "choropleth": [
           {
            "colorbar": {
             "outlinewidth": 0,
             "ticks": ""
            },
            "type": "choropleth"
           }
          ],
          "contour": [
           {
            "colorbar": {
             "outlinewidth": 0,
             "ticks": ""
            },
            "colorscale": [
             [
              0,
              "#0d0887"
             ],
             [
              0.1111111111111111,
              "#46039f"
             ],
             [
              0.2222222222222222,
              "#7201a8"
             ],
             [
              0.3333333333333333,
              "#9c179e"
             ],
             [
              0.4444444444444444,
              "#bd3786"
             ],
             [
              0.5555555555555556,
              "#d8576b"
             ],
             [
              0.6666666666666666,
              "#ed7953"
             ],
             [
              0.7777777777777778,
              "#fb9f3a"
             ],
             [
              0.8888888888888888,
              "#fdca26"
             ],
             [
              1,
              "#f0f921"
             ]
            ],
            "type": "contour"
           }
          ],
          "contourcarpet": [
           {
            "colorbar": {
             "outlinewidth": 0,
             "ticks": ""
            },
            "type": "contourcarpet"
           }
          ],
          "heatmap": [
           {
            "colorbar": {
             "outlinewidth": 0,
             "ticks": ""
            },
            "colorscale": [
             [
              0,
              "#0d0887"
             ],
             [
              0.1111111111111111,
              "#46039f"
             ],
             [
              0.2222222222222222,
              "#7201a8"
             ],
             [
              0.3333333333333333,
              "#9c179e"
             ],
             [
              0.4444444444444444,
              "#bd3786"
             ],
             [
              0.5555555555555556,
              "#d8576b"
             ],
             [
              0.6666666666666666,
              "#ed7953"
             ],
             [
              0.7777777777777778,
              "#fb9f3a"
             ],
             [
              0.8888888888888888,
              "#fdca26"
             ],
             [
              1,
              "#f0f921"
             ]
            ],
            "type": "heatmap"
           }
          ],
          "heatmapgl": [
           {
            "colorbar": {
             "outlinewidth": 0,
             "ticks": ""
            },
            "colorscale": [
             [
              0,
              "#0d0887"
             ],
             [
              0.1111111111111111,
              "#46039f"
             ],
             [
              0.2222222222222222,
              "#7201a8"
             ],
             [
              0.3333333333333333,
              "#9c179e"
             ],
             [
              0.4444444444444444,
              "#bd3786"
             ],
             [
              0.5555555555555556,
              "#d8576b"
             ],
             [
              0.6666666666666666,
              "#ed7953"
             ],
             [
              0.7777777777777778,
              "#fb9f3a"
             ],
             [
              0.8888888888888888,
              "#fdca26"
             ],
             [
              1,
              "#f0f921"
             ]
            ],
            "type": "heatmapgl"
           }
          ],
          "histogram": [
           {
            "marker": {
             "pattern": {
              "fillmode": "overlay",
              "size": 10,
              "solidity": 0.2
             }
            },
            "type": "histogram"
           }
          ],
          "histogram2d": [
           {
            "colorbar": {
             "outlinewidth": 0,
             "ticks": ""
            },
            "colorscale": [
             [
              0,
              "#0d0887"
             ],
             [
              0.1111111111111111,
              "#46039f"
             ],
             [
              0.2222222222222222,
              "#7201a8"
             ],
             [
              0.3333333333333333,
              "#9c179e"
             ],
             [
              0.4444444444444444,
              "#bd3786"
             ],
             [
              0.5555555555555556,
              "#d8576b"
             ],
             [
              0.6666666666666666,
              "#ed7953"
             ],
             [
              0.7777777777777778,
              "#fb9f3a"
             ],
             [
              0.8888888888888888,
              "#fdca26"
             ],
             [
              1,
              "#f0f921"
             ]
            ],
            "type": "histogram2d"
           }
          ],
          "histogram2dcontour": [
           {
            "colorbar": {
             "outlinewidth": 0,
             "ticks": ""
            },
            "colorscale": [
             [
              0,
              "#0d0887"
             ],
             [
              0.1111111111111111,
              "#46039f"
             ],
             [
              0.2222222222222222,
              "#7201a8"
             ],
             [
              0.3333333333333333,
              "#9c179e"
             ],
             [
              0.4444444444444444,
              "#bd3786"
             ],
             [
              0.5555555555555556,
              "#d8576b"
             ],
             [
              0.6666666666666666,
              "#ed7953"
             ],
             [
              0.7777777777777778,
              "#fb9f3a"
             ],
             [
              0.8888888888888888,
              "#fdca26"
             ],
             [
              1,
              "#f0f921"
             ]
            ],
            "type": "histogram2dcontour"
           }
          ],
          "mesh3d": [
           {
            "colorbar": {
             "outlinewidth": 0,
             "ticks": ""
            },
            "type": "mesh3d"
           }
          ],
          "parcoords": [
           {
            "line": {
             "colorbar": {
              "outlinewidth": 0,
              "ticks": ""
             }
            },
            "type": "parcoords"
           }
          ],
          "pie": [
           {
            "automargin": true,
            "type": "pie"
           }
          ],
          "scatter": [
           {
            "fillpattern": {
             "fillmode": "overlay",
             "size": 10,
             "solidity": 0.2
            },
            "type": "scatter"
           }
          ],
          "scatter3d": [
           {
            "line": {
             "colorbar": {
              "outlinewidth": 0,
              "ticks": ""
             }
            },
            "marker": {
             "colorbar": {
              "outlinewidth": 0,
              "ticks": ""
             }
            },
            "type": "scatter3d"
           }
          ],
          "scattercarpet": [
           {
            "marker": {
             "colorbar": {
              "outlinewidth": 0,
              "ticks": ""
             }
            },
            "type": "scattercarpet"
           }
          ],
          "scattergeo": [
           {
            "marker": {
             "colorbar": {
              "outlinewidth": 0,
              "ticks": ""
             }
            },
            "type": "scattergeo"
           }
          ],
          "scattergl": [
           {
            "marker": {
             "colorbar": {
              "outlinewidth": 0,
              "ticks": ""
             }
            },
            "type": "scattergl"
           }
          ],
          "scattermapbox": [
           {
            "marker": {
             "colorbar": {
              "outlinewidth": 0,
              "ticks": ""
             }
            },
            "type": "scattermapbox"
           }
          ],
          "scatterpolar": [
           {
            "marker": {
             "colorbar": {
              "outlinewidth": 0,
              "ticks": ""
             }
            },
            "type": "scatterpolar"
           }
          ],
          "scatterpolargl": [
           {
            "marker": {
             "colorbar": {
              "outlinewidth": 0,
              "ticks": ""
             }
            },
            "type": "scatterpolargl"
           }
          ],
          "scatterternary": [
           {
            "marker": {
             "colorbar": {
              "outlinewidth": 0,
              "ticks": ""
             }
            },
            "type": "scatterternary"
           }
          ],
          "surface": [
           {
            "colorbar": {
             "outlinewidth": 0,
             "ticks": ""
            },
            "colorscale": [
             [
              0,
              "#0d0887"
             ],
             [
              0.1111111111111111,
              "#46039f"
             ],
             [
              0.2222222222222222,
              "#7201a8"
             ],
             [
              0.3333333333333333,
              "#9c179e"
             ],
             [
              0.4444444444444444,
              "#bd3786"
             ],
             [
              0.5555555555555556,
              "#d8576b"
             ],
             [
              0.6666666666666666,
              "#ed7953"
             ],
             [
              0.7777777777777778,
              "#fb9f3a"
             ],
             [
              0.8888888888888888,
              "#fdca26"
             ],
             [
              1,
              "#f0f921"
             ]
            ],
            "type": "surface"
           }
          ],
          "table": [
           {
            "cells": {
             "fill": {
              "color": "#EBF0F8"
             },
             "line": {
              "color": "white"
             }
            },
            "header": {
             "fill": {
              "color": "#C8D4E3"
             },
             "line": {
              "color": "white"
             }
            },
            "type": "table"
           }
          ]
         },
         "layout": {
          "annotationdefaults": {
           "arrowcolor": "#2a3f5f",
           "arrowhead": 0,
           "arrowwidth": 1
          },
          "autotypenumbers": "strict",
          "coloraxis": {
           "colorbar": {
            "outlinewidth": 0,
            "ticks": ""
           }
          },
          "colorscale": {
           "diverging": [
            [
             0,
             "#8e0152"
            ],
            [
             0.1,
             "#c51b7d"
            ],
            [
             0.2,
             "#de77ae"
            ],
            [
             0.3,
             "#f1b6da"
            ],
            [
             0.4,
             "#fde0ef"
            ],
            [
             0.5,
             "#f7f7f7"
            ],
            [
             0.6,
             "#e6f5d0"
            ],
            [
             0.7,
             "#b8e186"
            ],
            [
             0.8,
             "#7fbc41"
            ],
            [
             0.9,
             "#4d9221"
            ],
            [
             1,
             "#276419"
            ]
           ],
           "sequential": [
            [
             0,
             "#0d0887"
            ],
            [
             0.1111111111111111,
             "#46039f"
            ],
            [
             0.2222222222222222,
             "#7201a8"
            ],
            [
             0.3333333333333333,
             "#9c179e"
            ],
            [
             0.4444444444444444,
             "#bd3786"
            ],
            [
             0.5555555555555556,
             "#d8576b"
            ],
            [
             0.6666666666666666,
             "#ed7953"
            ],
            [
             0.7777777777777778,
             "#fb9f3a"
            ],
            [
             0.8888888888888888,
             "#fdca26"
            ],
            [
             1,
             "#f0f921"
            ]
           ],
           "sequentialminus": [
            [
             0,
             "#0d0887"
            ],
            [
             0.1111111111111111,
             "#46039f"
            ],
            [
             0.2222222222222222,
             "#7201a8"
            ],
            [
             0.3333333333333333,
             "#9c179e"
            ],
            [
             0.4444444444444444,
             "#bd3786"
            ],
            [
             0.5555555555555556,
             "#d8576b"
            ],
            [
             0.6666666666666666,
             "#ed7953"
            ],
            [
             0.7777777777777778,
             "#fb9f3a"
            ],
            [
             0.8888888888888888,
             "#fdca26"
            ],
            [
             1,
             "#f0f921"
            ]
           ]
          },
          "colorway": [
           "#636efa",
           "#EF553B",
           "#00cc96",
           "#ab63fa",
           "#FFA15A",
           "#19d3f3",
           "#FF6692",
           "#B6E880",
           "#FF97FF",
           "#FECB52"
          ],
          "font": {
           "color": "#2a3f5f"
          },
          "geo": {
           "bgcolor": "white",
           "lakecolor": "white",
           "landcolor": "#E5ECF6",
           "showlakes": true,
           "showland": true,
           "subunitcolor": "white"
          },
          "hoverlabel": {
           "align": "left"
          },
          "hovermode": "closest",
          "mapbox": {
           "style": "light"
          },
          "paper_bgcolor": "white",
          "plot_bgcolor": "#E5ECF6",
          "polar": {
           "angularaxis": {
            "gridcolor": "white",
            "linecolor": "white",
            "ticks": ""
           },
           "bgcolor": "#E5ECF6",
           "radialaxis": {
            "gridcolor": "white",
            "linecolor": "white",
            "ticks": ""
           }
          },
          "scene": {
           "xaxis": {
            "backgroundcolor": "#E5ECF6",
            "gridcolor": "white",
            "gridwidth": 2,
            "linecolor": "white",
            "showbackground": true,
            "ticks": "",
            "zerolinecolor": "white"
           },
           "yaxis": {
            "backgroundcolor": "#E5ECF6",
            "gridcolor": "white",
            "gridwidth": 2,
            "linecolor": "white",
            "showbackground": true,
            "ticks": "",
            "zerolinecolor": "white"
           },
           "zaxis": {
            "backgroundcolor": "#E5ECF6",
            "gridcolor": "white",
            "gridwidth": 2,
            "linecolor": "white",
            "showbackground": true,
            "ticks": "",
            "zerolinecolor": "white"
           }
          },
          "shapedefaults": {
           "line": {
            "color": "#2a3f5f"
           }
          },
          "ternary": {
           "aaxis": {
            "gridcolor": "white",
            "linecolor": "white",
            "ticks": ""
           },
           "baxis": {
            "gridcolor": "white",
            "linecolor": "white",
            "ticks": ""
           },
           "bgcolor": "#E5ECF6",
           "caxis": {
            "gridcolor": "white",
            "linecolor": "white",
            "ticks": ""
           }
          },
          "title": {
           "x": 0.05
          },
          "xaxis": {
           "automargin": true,
           "gridcolor": "white",
           "linecolor": "white",
           "ticks": "",
           "title": {
            "standoff": 15
           },
           "zerolinecolor": "white",
           "zerolinewidth": 2
          },
          "yaxis": {
           "automargin": true,
           "gridcolor": "white",
           "linecolor": "white",
           "ticks": "",
           "title": {
            "standoff": 15
           },
           "zerolinecolor": "white",
           "zerolinewidth": 2
          }
         }
        },
        "title": {
         "text": "Slice Plot"
        },
        "xaxis": {
         "title": {
          "text": "alpha"
         },
         "type": "log"
        },
        "yaxis": {
         "title": {
          "text": "Objective Value"
         }
        }
       }
      },
      "text/html": [
       "<div>                            <div id=\"5e66a52c-66ab-46c1-9545-1810fe90d163\" class=\"plotly-graph-div\" style=\"height:525px; width:100%;\"></div>            <script type=\"text/javascript\">                require([\"plotly\"], function(Plotly) {                    window.PLOTLYENV=window.PLOTLYENV || {};                                    if (document.getElementById(\"5e66a52c-66ab-46c1-9545-1810fe90d163\")) {                    Plotly.newPlot(                        \"5e66a52c-66ab-46c1-9545-1810fe90d163\",                        [{\"marker\":{\"color\":[0,1,2,3,4,5,6,7,8,9,10,11,12,13,14,15,16,17,18,19,20,21,22,23,24,25,26,27,28,29,30,31,32,33,34,35,36,37,38,39,40,41,42,43,44,45,46,47,48,49,50,51,52,53,54,55,56,57,58,59,60,61,62,63,64,65,66,67,68,69,70,71,72,73,74,75,76,77,78,79,80,81,82,83,84,85,86,87,88,89,90,91,92,93,94,95,96,97,98,99],\"colorbar\":{\"title\":{\"text\":\"#Trials\"},\"x\":1.0,\"xpad\":40},\"colorscale\":[[0.0,\"rgb(247,251,255)\"],[0.125,\"rgb(222,235,247)\"],[0.25,\"rgb(198,219,239)\"],[0.375,\"rgb(158,202,225)\"],[0.5,\"rgb(107,174,214)\"],[0.625,\"rgb(66,146,198)\"],[0.75,\"rgb(33,113,181)\"],[0.875,\"rgb(8,81,156)\"],[1.0,\"rgb(8,48,107)\"]],\"line\":{\"color\":\"Grey\",\"width\":0.5}},\"mode\":\"markers\",\"showlegend\":false,\"x\":[0.011214308080419724,0.7389777189596193,0.17687040333247217,0.019983484196863275,0.001606785190545273,0.009900451613257194,0.15054730837110905,0.003994443275254919,0.08620074772759474,0.001318067811780588,0.004218614956627269,0.11747326482250153,0.7800107617633179,0.04933545342746957,0.22567889358078222,0.0041417838258429596,0.30882097432150196,0.037300691801146896,0.002441111131991035,0.01410553871019028,0.39313870551760216,0.0053838956046114396,0.0039233778531786445,0.006748852594025922,0.02377600494034466,0.002446251107350479,0.06360554710915232,0.0025032306306135036,0.007334876281156505,0.0010658772036713365,0.012530754733831861,0.012860901685702624,0.020497096207509554,0.009188498564913019,0.0033884340903290217,0.01623616037143622,0.5067473031810166,0.03178295933655254,0.0016273125667376725,0.002139452323740364,0.0016589049734477646,0.005832543599063986,0.0032903904832047976,0.009766641751319664,0.0015387909777884333,0.004776211578229088,0.001122597761384242,0.20530330446428197,0.10388004635363689,0.007883114426910622,0.0019005964588820576,0.029411233519745537,0.05735577444885313,0.03735042587234061,0.14565226520279845,0.004018196950648238,0.002877921120913075,0.07470052323218597,0.6564328931918387,0.01149655312632438,0.018482516164953583,0.0019146073937621796,0.0013017154103008308,0.9524320840591562,0.001410184253987229,0.005936348306274095,0.0017124652500257276,0.002930150390721815,0.27292533247233697,0.0046138730816479324,0.04230106393769513,0.002160792001529552,0.0023590543525521357,0.003427896464309966,0.02726096179801915,0.0011518249290800734,0.0017655250893113786,0.002829767033499796,0.0146556190409854,0.008551522103282125,0.0010169530193232632,0.022313475705761712,0.006703899434975411,0.01846684055017071,0.0021613726219496753,0.010719385283282519,0.004845151794753259,0.0014554616332248446,0.0038574029226905405,0.011081539277607947,0.002717292156266839,0.015560071991035396,0.012527645016638353,0.015445553788981478,0.015493738210539645,0.010405396922660678,0.007602167745395687,0.03297033623425719,0.025338570841163005,0.017852140896937308],\"y\":[0.939331622453588,0.9401271091689573,0.9444870013711478,0.9431921056765059,0.938782852326311,0.9425613180254476,0.9426089772666971,0.9444872456845683,0.9381851346921385,0.9396510024744748,0.9415173239629044,0.9407920849283677,0.9392314562005637,0.9424846451621864,0.9383088463494567,0.9439033822989351,0.9420791927682197,0.940362288927983,0.9388668746472852,0.939177428999632,0.9405441657555633,0.9384288243405452,0.9387204465887276,0.9382523824911202,0.9431222047080858,0.9394622216669495,0.9411004346908814,0.9407277715571116,0.94162709292491,0.941356832657249,0.943692398067304,0.9417814739527272,0.9398649926590998,0.9397916942899778,0.9403973587881108,0.9387155933242421,0.9415960317273205,0.9434759096187969,0.9455224779151777,0.943241634402861,0.9433654364526689,0.940079437942009,0.9395980933288408,0.9401808049262688,0.9411479659854104,0.937327086606448,0.9415091558867689,0.9422226001929946,0.9429358550504287,0.9403339708391218,0.9415590352115611,0.9424001045314853,0.9412558254421789,0.9406341529280491,0.9383871045023847,0.9383090190117631,0.9418406429786813,0.9378045535988632,0.9416103424665255,0.9401645538175126,0.9393866557990875,0.9390759657676352,0.9393099829430737,0.9425401290394662,0.9393968489314298,0.9426136276018949,0.9398740811732035,0.940061747941465,0.9399921488146656,0.9402949990511823,0.9425347445430017,0.9392510334974629,0.9407741707637236,0.9397200215624428,0.940041861636676,0.9422609936252357,0.9402763019430559,0.9404157077658475,0.9397349972539205,0.9387629979362607,0.9418093804732124,0.9408382335123047,0.9423889797981946,0.9416994326626325,0.9418322765919427,0.9451864355729876,0.9421680212804395,0.9403077924931159,0.9383349802607537,0.942114921560057,0.9396871127286228,0.9436116284737874,0.9411401952481834,0.9437359790675736,0.9394911829983723,0.9422778823620106,0.9387634629184749,0.9419720566898253,0.9432953268713324,0.9416176888829263],\"type\":\"scatter\"}],                        {\"title\":{\"text\":\"Slice Plot\"},\"template\":{\"data\":{\"histogram2dcontour\":[{\"type\":\"histogram2dcontour\",\"colorbar\":{\"outlinewidth\":0,\"ticks\":\"\"},\"colorscale\":[[0.0,\"#0d0887\"],[0.1111111111111111,\"#46039f\"],[0.2222222222222222,\"#7201a8\"],[0.3333333333333333,\"#9c179e\"],[0.4444444444444444,\"#bd3786\"],[0.5555555555555556,\"#d8576b\"],[0.6666666666666666,\"#ed7953\"],[0.7777777777777778,\"#fb9f3a\"],[0.8888888888888888,\"#fdca26\"],[1.0,\"#f0f921\"]]}],\"choropleth\":[{\"type\":\"choropleth\",\"colorbar\":{\"outlinewidth\":0,\"ticks\":\"\"}}],\"histogram2d\":[{\"type\":\"histogram2d\",\"colorbar\":{\"outlinewidth\":0,\"ticks\":\"\"},\"colorscale\":[[0.0,\"#0d0887\"],[0.1111111111111111,\"#46039f\"],[0.2222222222222222,\"#7201a8\"],[0.3333333333333333,\"#9c179e\"],[0.4444444444444444,\"#bd3786\"],[0.5555555555555556,\"#d8576b\"],[0.6666666666666666,\"#ed7953\"],[0.7777777777777778,\"#fb9f3a\"],[0.8888888888888888,\"#fdca26\"],[1.0,\"#f0f921\"]]}],\"heatmap\":[{\"type\":\"heatmap\",\"colorbar\":{\"outlinewidth\":0,\"ticks\":\"\"},\"colorscale\":[[0.0,\"#0d0887\"],[0.1111111111111111,\"#46039f\"],[0.2222222222222222,\"#7201a8\"],[0.3333333333333333,\"#9c179e\"],[0.4444444444444444,\"#bd3786\"],[0.5555555555555556,\"#d8576b\"],[0.6666666666666666,\"#ed7953\"],[0.7777777777777778,\"#fb9f3a\"],[0.8888888888888888,\"#fdca26\"],[1.0,\"#f0f921\"]]}],\"heatmapgl\":[{\"type\":\"heatmapgl\",\"colorbar\":{\"outlinewidth\":0,\"ticks\":\"\"},\"colorscale\":[[0.0,\"#0d0887\"],[0.1111111111111111,\"#46039f\"],[0.2222222222222222,\"#7201a8\"],[0.3333333333333333,\"#9c179e\"],[0.4444444444444444,\"#bd3786\"],[0.5555555555555556,\"#d8576b\"],[0.6666666666666666,\"#ed7953\"],[0.7777777777777778,\"#fb9f3a\"],[0.8888888888888888,\"#fdca26\"],[1.0,\"#f0f921\"]]}],\"contourcarpet\":[{\"type\":\"contourcarpet\",\"colorbar\":{\"outlinewidth\":0,\"ticks\":\"\"}}],\"contour\":[{\"type\":\"contour\",\"colorbar\":{\"outlinewidth\":0,\"ticks\":\"\"},\"colorscale\":[[0.0,\"#0d0887\"],[0.1111111111111111,\"#46039f\"],[0.2222222222222222,\"#7201a8\"],[0.3333333333333333,\"#9c179e\"],[0.4444444444444444,\"#bd3786\"],[0.5555555555555556,\"#d8576b\"],[0.6666666666666666,\"#ed7953\"],[0.7777777777777778,\"#fb9f3a\"],[0.8888888888888888,\"#fdca26\"],[1.0,\"#f0f921\"]]}],\"surface\":[{\"type\":\"surface\",\"colorbar\":{\"outlinewidth\":0,\"ticks\":\"\"},\"colorscale\":[[0.0,\"#0d0887\"],[0.1111111111111111,\"#46039f\"],[0.2222222222222222,\"#7201a8\"],[0.3333333333333333,\"#9c179e\"],[0.4444444444444444,\"#bd3786\"],[0.5555555555555556,\"#d8576b\"],[0.6666666666666666,\"#ed7953\"],[0.7777777777777778,\"#fb9f3a\"],[0.8888888888888888,\"#fdca26\"],[1.0,\"#f0f921\"]]}],\"mesh3d\":[{\"type\":\"mesh3d\",\"colorbar\":{\"outlinewidth\":0,\"ticks\":\"\"}}],\"scatter\":[{\"fillpattern\":{\"fillmode\":\"overlay\",\"size\":10,\"solidity\":0.2},\"type\":\"scatter\"}],\"parcoords\":[{\"type\":\"parcoords\",\"line\":{\"colorbar\":{\"outlinewidth\":0,\"ticks\":\"\"}}}],\"scatterpolargl\":[{\"type\":\"scatterpolargl\",\"marker\":{\"colorbar\":{\"outlinewidth\":0,\"ticks\":\"\"}}}],\"bar\":[{\"error_x\":{\"color\":\"#2a3f5f\"},\"error_y\":{\"color\":\"#2a3f5f\"},\"marker\":{\"line\":{\"color\":\"#E5ECF6\",\"width\":0.5},\"pattern\":{\"fillmode\":\"overlay\",\"size\":10,\"solidity\":0.2}},\"type\":\"bar\"}],\"scattergeo\":[{\"type\":\"scattergeo\",\"marker\":{\"colorbar\":{\"outlinewidth\":0,\"ticks\":\"\"}}}],\"scatterpolar\":[{\"type\":\"scatterpolar\",\"marker\":{\"colorbar\":{\"outlinewidth\":0,\"ticks\":\"\"}}}],\"histogram\":[{\"marker\":{\"pattern\":{\"fillmode\":\"overlay\",\"size\":10,\"solidity\":0.2}},\"type\":\"histogram\"}],\"scattergl\":[{\"type\":\"scattergl\",\"marker\":{\"colorbar\":{\"outlinewidth\":0,\"ticks\":\"\"}}}],\"scatter3d\":[{\"type\":\"scatter3d\",\"line\":{\"colorbar\":{\"outlinewidth\":0,\"ticks\":\"\"}},\"marker\":{\"colorbar\":{\"outlinewidth\":0,\"ticks\":\"\"}}}],\"scattermapbox\":[{\"type\":\"scattermapbox\",\"marker\":{\"colorbar\":{\"outlinewidth\":0,\"ticks\":\"\"}}}],\"scatterternary\":[{\"type\":\"scatterternary\",\"marker\":{\"colorbar\":{\"outlinewidth\":0,\"ticks\":\"\"}}}],\"scattercarpet\":[{\"type\":\"scattercarpet\",\"marker\":{\"colorbar\":{\"outlinewidth\":0,\"ticks\":\"\"}}}],\"carpet\":[{\"aaxis\":{\"endlinecolor\":\"#2a3f5f\",\"gridcolor\":\"white\",\"linecolor\":\"white\",\"minorgridcolor\":\"white\",\"startlinecolor\":\"#2a3f5f\"},\"baxis\":{\"endlinecolor\":\"#2a3f5f\",\"gridcolor\":\"white\",\"linecolor\":\"white\",\"minorgridcolor\":\"white\",\"startlinecolor\":\"#2a3f5f\"},\"type\":\"carpet\"}],\"table\":[{\"cells\":{\"fill\":{\"color\":\"#EBF0F8\"},\"line\":{\"color\":\"white\"}},\"header\":{\"fill\":{\"color\":\"#C8D4E3\"},\"line\":{\"color\":\"white\"}},\"type\":\"table\"}],\"barpolar\":[{\"marker\":{\"line\":{\"color\":\"#E5ECF6\",\"width\":0.5},\"pattern\":{\"fillmode\":\"overlay\",\"size\":10,\"solidity\":0.2}},\"type\":\"barpolar\"}],\"pie\":[{\"automargin\":true,\"type\":\"pie\"}]},\"layout\":{\"autotypenumbers\":\"strict\",\"colorway\":[\"#636efa\",\"#EF553B\",\"#00cc96\",\"#ab63fa\",\"#FFA15A\",\"#19d3f3\",\"#FF6692\",\"#B6E880\",\"#FF97FF\",\"#FECB52\"],\"font\":{\"color\":\"#2a3f5f\"},\"hovermode\":\"closest\",\"hoverlabel\":{\"align\":\"left\"},\"paper_bgcolor\":\"white\",\"plot_bgcolor\":\"#E5ECF6\",\"polar\":{\"bgcolor\":\"#E5ECF6\",\"angularaxis\":{\"gridcolor\":\"white\",\"linecolor\":\"white\",\"ticks\":\"\"},\"radialaxis\":{\"gridcolor\":\"white\",\"linecolor\":\"white\",\"ticks\":\"\"}},\"ternary\":{\"bgcolor\":\"#E5ECF6\",\"aaxis\":{\"gridcolor\":\"white\",\"linecolor\":\"white\",\"ticks\":\"\"},\"baxis\":{\"gridcolor\":\"white\",\"linecolor\":\"white\",\"ticks\":\"\"},\"caxis\":{\"gridcolor\":\"white\",\"linecolor\":\"white\",\"ticks\":\"\"}},\"coloraxis\":{\"colorbar\":{\"outlinewidth\":0,\"ticks\":\"\"}},\"colorscale\":{\"sequential\":[[0.0,\"#0d0887\"],[0.1111111111111111,\"#46039f\"],[0.2222222222222222,\"#7201a8\"],[0.3333333333333333,\"#9c179e\"],[0.4444444444444444,\"#bd3786\"],[0.5555555555555556,\"#d8576b\"],[0.6666666666666666,\"#ed7953\"],[0.7777777777777778,\"#fb9f3a\"],[0.8888888888888888,\"#fdca26\"],[1.0,\"#f0f921\"]],\"sequentialminus\":[[0.0,\"#0d0887\"],[0.1111111111111111,\"#46039f\"],[0.2222222222222222,\"#7201a8\"],[0.3333333333333333,\"#9c179e\"],[0.4444444444444444,\"#bd3786\"],[0.5555555555555556,\"#d8576b\"],[0.6666666666666666,\"#ed7953\"],[0.7777777777777778,\"#fb9f3a\"],[0.8888888888888888,\"#fdca26\"],[1.0,\"#f0f921\"]],\"diverging\":[[0,\"#8e0152\"],[0.1,\"#c51b7d\"],[0.2,\"#de77ae\"],[0.3,\"#f1b6da\"],[0.4,\"#fde0ef\"],[0.5,\"#f7f7f7\"],[0.6,\"#e6f5d0\"],[0.7,\"#b8e186\"],[0.8,\"#7fbc41\"],[0.9,\"#4d9221\"],[1,\"#276419\"]]},\"xaxis\":{\"gridcolor\":\"white\",\"linecolor\":\"white\",\"ticks\":\"\",\"title\":{\"standoff\":15},\"zerolinecolor\":\"white\",\"automargin\":true,\"zerolinewidth\":2},\"yaxis\":{\"gridcolor\":\"white\",\"linecolor\":\"white\",\"ticks\":\"\",\"title\":{\"standoff\":15},\"zerolinecolor\":\"white\",\"automargin\":true,\"zerolinewidth\":2},\"scene\":{\"xaxis\":{\"backgroundcolor\":\"#E5ECF6\",\"gridcolor\":\"white\",\"linecolor\":\"white\",\"showbackground\":true,\"ticks\":\"\",\"zerolinecolor\":\"white\",\"gridwidth\":2},\"yaxis\":{\"backgroundcolor\":\"#E5ECF6\",\"gridcolor\":\"white\",\"linecolor\":\"white\",\"showbackground\":true,\"ticks\":\"\",\"zerolinecolor\":\"white\",\"gridwidth\":2},\"zaxis\":{\"backgroundcolor\":\"#E5ECF6\",\"gridcolor\":\"white\",\"linecolor\":\"white\",\"showbackground\":true,\"ticks\":\"\",\"zerolinecolor\":\"white\",\"gridwidth\":2}},\"shapedefaults\":{\"line\":{\"color\":\"#2a3f5f\"}},\"annotationdefaults\":{\"arrowcolor\":\"#2a3f5f\",\"arrowhead\":0,\"arrowwidth\":1},\"geo\":{\"bgcolor\":\"white\",\"landcolor\":\"#E5ECF6\",\"subunitcolor\":\"white\",\"showland\":true,\"showlakes\":true,\"lakecolor\":\"white\"},\"title\":{\"x\":0.05},\"mapbox\":{\"style\":\"light\"}}},\"xaxis\":{\"title\":{\"text\":\"alpha\"},\"type\":\"log\"},\"yaxis\":{\"title\":{\"text\":\"Objective Value\"}}},                        {\"responsive\": true}                    ).then(function(){\n",
       "                            \n",
       "var gd = document.getElementById('5e66a52c-66ab-46c1-9545-1810fe90d163');\n",
       "var x = new MutationObserver(function (mutations, observer) {{\n",
       "        var display = window.getComputedStyle(gd).display;\n",
       "        if (!display || display === 'none') {{\n",
       "            console.log([gd, 'removed!']);\n",
       "            Plotly.purge(gd);\n",
       "            observer.disconnect();\n",
       "        }}\n",
       "}});\n",
       "\n",
       "// Listen for the removal of the full notebook cells\n",
       "var notebookContainer = gd.closest('#notebook-container');\n",
       "if (notebookContainer) {{\n",
       "    x.observe(notebookContainer, {childList: true});\n",
       "}}\n",
       "\n",
       "// Listen for the clearing of the current output cell\n",
       "var outputEl = gd.closest('.output');\n",
       "if (outputEl) {{\n",
       "    x.observe(outputEl, {childList: true});\n",
       "}}\n",
       "\n",
       "                        })                };                });            </script>        </div>"
      ]
     },
     "metadata": {},
     "output_type": "display_data"
    }
   ],
   "source": [
    "import optuna\n",
    "\n",
    "study = optuna.create_study(direction= 'maximize')\n",
    "\n",
    "\n",
    "def trial(trial):\n",
    "    alpha = trial.suggest_float(\"alpha\", 0.001, 1.0, log = True)\n",
    "    #for i in range(0, 21):\n",
    "    train_X, valid_X, train_y, valid_y = train_test_split(X,y, test_size=0.2)\n",
    "    model = Ridge(alpha = alpha)\n",
    "    model.fit(train_X, train_y)\n",
    "    cvs = cross_val_score(model, train_X, train_y, cv=10, scoring = 'r2').mean()\n",
    "    return cvs\n",
    "\n",
    "study.optimize(trial, n_trials = 100)\n",
    "\n",
    "optuna.visualization.plot_slice(study)"
   ]
  },
  {
   "cell_type": "code",
   "execution_count": 108,
   "id": "371bbfb1",
   "metadata": {},
   "outputs": [
    {
     "data": {
      "application/vnd.plotly.v1+json": {
       "config": {
        "plotlyServerURL": "https://plot.ly"
       },
       "data": [
        {
         "marker": {
          "color": [
           0,
           1,
           2,
           3,
           4,
           5,
           6,
           7,
           8,
           9,
           10,
           11,
           12,
           13,
           14,
           15,
           16,
           17,
           18,
           19,
           20,
           21,
           22,
           23,
           24,
           25,
           26,
           27,
           28,
           29,
           30,
           31,
           32,
           33,
           34,
           35,
           36,
           37,
           38,
           39,
           40,
           41,
           42,
           43,
           44,
           45,
           46,
           47,
           48,
           49,
           50,
           51,
           52,
           53,
           54,
           55,
           56,
           57,
           58,
           59,
           60,
           61,
           62,
           63,
           64,
           65,
           66,
           67,
           68,
           69,
           70,
           71,
           72,
           73,
           74,
           75,
           76,
           77,
           78,
           79,
           80,
           81,
           82,
           83,
           84,
           85,
           86,
           87,
           88,
           89,
           90,
           91,
           92,
           93,
           94,
           95,
           96,
           97,
           98,
           99
          ],
          "colorbar": {
           "title": {
            "text": "#Trials"
           },
           "x": 1,
           "xpad": 40
          },
          "colorscale": [
           [
            0,
            "rgb(247,251,255)"
           ],
           [
            0.125,
            "rgb(222,235,247)"
           ],
           [
            0.25,
            "rgb(198,219,239)"
           ],
           [
            0.375,
            "rgb(158,202,225)"
           ],
           [
            0.5,
            "rgb(107,174,214)"
           ],
           [
            0.625,
            "rgb(66,146,198)"
           ],
           [
            0.75,
            "rgb(33,113,181)"
           ],
           [
            0.875,
            "rgb(8,81,156)"
           ],
           [
            1,
            "rgb(8,48,107)"
           ]
          ],
          "line": {
           "color": "Grey",
           "width": 0.5
          }
         },
         "mode": "markers",
         "showlegend": false,
         "type": "scatter",
         "x": [
          0.011214308080419724,
          0.7389777189596193,
          0.17687040333247217,
          0.019983484196863275,
          0.001606785190545273,
          0.009900451613257194,
          0.15054730837110905,
          0.003994443275254919,
          0.08620074772759474,
          0.001318067811780588,
          0.004218614956627269,
          0.11747326482250153,
          0.7800107617633179,
          0.04933545342746957,
          0.22567889358078222,
          0.0041417838258429596,
          0.30882097432150196,
          0.037300691801146896,
          0.002441111131991035,
          0.01410553871019028,
          0.39313870551760216,
          0.0053838956046114396,
          0.0039233778531786445,
          0.006748852594025922,
          0.02377600494034466,
          0.002446251107350479,
          0.06360554710915232,
          0.0025032306306135036,
          0.007334876281156505,
          0.0010658772036713365,
          0.012530754733831861,
          0.012860901685702624,
          0.020497096207509554,
          0.009188498564913019,
          0.0033884340903290217,
          0.01623616037143622,
          0.5067473031810166,
          0.03178295933655254,
          0.0016273125667376725,
          0.002139452323740364,
          0.0016589049734477646,
          0.005832543599063986,
          0.0032903904832047976,
          0.009766641751319664,
          0.0015387909777884333,
          0.004776211578229088,
          0.001122597761384242,
          0.20530330446428197,
          0.10388004635363689,
          0.007883114426910622,
          0.0019005964588820576,
          0.029411233519745537,
          0.05735577444885313,
          0.03735042587234061,
          0.14565226520279845,
          0.004018196950648238,
          0.002877921120913075,
          0.07470052323218597,
          0.6564328931918387,
          0.01149655312632438,
          0.018482516164953583,
          0.0019146073937621796,
          0.0013017154103008308,
          0.9524320840591562,
          0.001410184253987229,
          0.005936348306274095,
          0.0017124652500257276,
          0.002930150390721815,
          0.27292533247233697,
          0.0046138730816479324,
          0.04230106393769513,
          0.002160792001529552,
          0.0023590543525521357,
          0.003427896464309966,
          0.02726096179801915,
          0.0011518249290800734,
          0.0017655250893113786,
          0.002829767033499796,
          0.0146556190409854,
          0.008551522103282125,
          0.0010169530193232632,
          0.022313475705761712,
          0.006703899434975411,
          0.01846684055017071,
          0.0021613726219496753,
          0.010719385283282519,
          0.004845151794753259,
          0.0014554616332248446,
          0.0038574029226905405,
          0.011081539277607947,
          0.002717292156266839,
          0.015560071991035396,
          0.012527645016638353,
          0.015445553788981478,
          0.015493738210539645,
          0.010405396922660678,
          0.007602167745395687,
          0.03297033623425719,
          0.025338570841163005,
          0.017852140896937308
         ],
         "y": [
          0.939331622453588,
          0.9401271091689573,
          0.9444870013711478,
          0.9431921056765059,
          0.938782852326311,
          0.9425613180254476,
          0.9426089772666971,
          0.9444872456845683,
          0.9381851346921385,
          0.9396510024744748,
          0.9415173239629044,
          0.9407920849283677,
          0.9392314562005637,
          0.9424846451621864,
          0.9383088463494567,
          0.9439033822989351,
          0.9420791927682197,
          0.940362288927983,
          0.9388668746472852,
          0.939177428999632,
          0.9405441657555633,
          0.9384288243405452,
          0.9387204465887276,
          0.9382523824911202,
          0.9431222047080858,
          0.9394622216669495,
          0.9411004346908814,
          0.9407277715571116,
          0.94162709292491,
          0.941356832657249,
          0.943692398067304,
          0.9417814739527272,
          0.9398649926590998,
          0.9397916942899778,
          0.9403973587881108,
          0.9387155933242421,
          0.9415960317273205,
          0.9434759096187969,
          0.9455224779151777,
          0.943241634402861,
          0.9433654364526689,
          0.940079437942009,
          0.9395980933288408,
          0.9401808049262688,
          0.9411479659854104,
          0.937327086606448,
          0.9415091558867689,
          0.9422226001929946,
          0.9429358550504287,
          0.9403339708391218,
          0.9415590352115611,
          0.9424001045314853,
          0.9412558254421789,
          0.9406341529280491,
          0.9383871045023847,
          0.9383090190117631,
          0.9418406429786813,
          0.9378045535988632,
          0.9416103424665255,
          0.9401645538175126,
          0.9393866557990875,
          0.9390759657676352,
          0.9393099829430737,
          0.9425401290394662,
          0.9393968489314298,
          0.9426136276018949,
          0.9398740811732035,
          0.940061747941465,
          0.9399921488146656,
          0.9402949990511823,
          0.9425347445430017,
          0.9392510334974629,
          0.9407741707637236,
          0.9397200215624428,
          0.940041861636676,
          0.9422609936252357,
          0.9402763019430559,
          0.9404157077658475,
          0.9397349972539205,
          0.9387629979362607,
          0.9418093804732124,
          0.9408382335123047,
          0.9423889797981946,
          0.9416994326626325,
          0.9418322765919427,
          0.9451864355729876,
          0.9421680212804395,
          0.9403077924931159,
          0.9383349802607537,
          0.942114921560057,
          0.9396871127286228,
          0.9436116284737874,
          0.9411401952481834,
          0.9437359790675736,
          0.9394911829983723,
          0.9422778823620106,
          0.9387634629184749,
          0.9419720566898253,
          0.9432953268713324,
          0.9416176888829263
         ]
        }
       ],
       "layout": {
        "template": {
         "data": {
          "bar": [
           {
            "error_x": {
             "color": "#2a3f5f"
            },
            "error_y": {
             "color": "#2a3f5f"
            },
            "marker": {
             "line": {
              "color": "#E5ECF6",
              "width": 0.5
             },
             "pattern": {
              "fillmode": "overlay",
              "size": 10,
              "solidity": 0.2
             }
            },
            "type": "bar"
           }
          ],
          "barpolar": [
           {
            "marker": {
             "line": {
              "color": "#E5ECF6",
              "width": 0.5
             },
             "pattern": {
              "fillmode": "overlay",
              "size": 10,
              "solidity": 0.2
             }
            },
            "type": "barpolar"
           }
          ],
          "carpet": [
           {
            "aaxis": {
             "endlinecolor": "#2a3f5f",
             "gridcolor": "white",
             "linecolor": "white",
             "minorgridcolor": "white",
             "startlinecolor": "#2a3f5f"
            },
            "baxis": {
             "endlinecolor": "#2a3f5f",
             "gridcolor": "white",
             "linecolor": "white",
             "minorgridcolor": "white",
             "startlinecolor": "#2a3f5f"
            },
            "type": "carpet"
           }
          ],
          "choropleth": [
           {
            "colorbar": {
             "outlinewidth": 0,
             "ticks": ""
            },
            "type": "choropleth"
           }
          ],
          "contour": [
           {
            "colorbar": {
             "outlinewidth": 0,
             "ticks": ""
            },
            "colorscale": [
             [
              0,
              "#0d0887"
             ],
             [
              0.1111111111111111,
              "#46039f"
             ],
             [
              0.2222222222222222,
              "#7201a8"
             ],
             [
              0.3333333333333333,
              "#9c179e"
             ],
             [
              0.4444444444444444,
              "#bd3786"
             ],
             [
              0.5555555555555556,
              "#d8576b"
             ],
             [
              0.6666666666666666,
              "#ed7953"
             ],
             [
              0.7777777777777778,
              "#fb9f3a"
             ],
             [
              0.8888888888888888,
              "#fdca26"
             ],
             [
              1,
              "#f0f921"
             ]
            ],
            "type": "contour"
           }
          ],
          "contourcarpet": [
           {
            "colorbar": {
             "outlinewidth": 0,
             "ticks": ""
            },
            "type": "contourcarpet"
           }
          ],
          "heatmap": [
           {
            "colorbar": {
             "outlinewidth": 0,
             "ticks": ""
            },
            "colorscale": [
             [
              0,
              "#0d0887"
             ],
             [
              0.1111111111111111,
              "#46039f"
             ],
             [
              0.2222222222222222,
              "#7201a8"
             ],
             [
              0.3333333333333333,
              "#9c179e"
             ],
             [
              0.4444444444444444,
              "#bd3786"
             ],
             [
              0.5555555555555556,
              "#d8576b"
             ],
             [
              0.6666666666666666,
              "#ed7953"
             ],
             [
              0.7777777777777778,
              "#fb9f3a"
             ],
             [
              0.8888888888888888,
              "#fdca26"
             ],
             [
              1,
              "#f0f921"
             ]
            ],
            "type": "heatmap"
           }
          ],
          "heatmapgl": [
           {
            "colorbar": {
             "outlinewidth": 0,
             "ticks": ""
            },
            "colorscale": [
             [
              0,
              "#0d0887"
             ],
             [
              0.1111111111111111,
              "#46039f"
             ],
             [
              0.2222222222222222,
              "#7201a8"
             ],
             [
              0.3333333333333333,
              "#9c179e"
             ],
             [
              0.4444444444444444,
              "#bd3786"
             ],
             [
              0.5555555555555556,
              "#d8576b"
             ],
             [
              0.6666666666666666,
              "#ed7953"
             ],
             [
              0.7777777777777778,
              "#fb9f3a"
             ],
             [
              0.8888888888888888,
              "#fdca26"
             ],
             [
              1,
              "#f0f921"
             ]
            ],
            "type": "heatmapgl"
           }
          ],
          "histogram": [
           {
            "marker": {
             "pattern": {
              "fillmode": "overlay",
              "size": 10,
              "solidity": 0.2
             }
            },
            "type": "histogram"
           }
          ],
          "histogram2d": [
           {
            "colorbar": {
             "outlinewidth": 0,
             "ticks": ""
            },
            "colorscale": [
             [
              0,
              "#0d0887"
             ],
             [
              0.1111111111111111,
              "#46039f"
             ],
             [
              0.2222222222222222,
              "#7201a8"
             ],
             [
              0.3333333333333333,
              "#9c179e"
             ],
             [
              0.4444444444444444,
              "#bd3786"
             ],
             [
              0.5555555555555556,
              "#d8576b"
             ],
             [
              0.6666666666666666,
              "#ed7953"
             ],
             [
              0.7777777777777778,
              "#fb9f3a"
             ],
             [
              0.8888888888888888,
              "#fdca26"
             ],
             [
              1,
              "#f0f921"
             ]
            ],
            "type": "histogram2d"
           }
          ],
          "histogram2dcontour": [
           {
            "colorbar": {
             "outlinewidth": 0,
             "ticks": ""
            },
            "colorscale": [
             [
              0,
              "#0d0887"
             ],
             [
              0.1111111111111111,
              "#46039f"
             ],
             [
              0.2222222222222222,
              "#7201a8"
             ],
             [
              0.3333333333333333,
              "#9c179e"
             ],
             [
              0.4444444444444444,
              "#bd3786"
             ],
             [
              0.5555555555555556,
              "#d8576b"
             ],
             [
              0.6666666666666666,
              "#ed7953"
             ],
             [
              0.7777777777777778,
              "#fb9f3a"
             ],
             [
              0.8888888888888888,
              "#fdca26"
             ],
             [
              1,
              "#f0f921"
             ]
            ],
            "type": "histogram2dcontour"
           }
          ],
          "mesh3d": [
           {
            "colorbar": {
             "outlinewidth": 0,
             "ticks": ""
            },
            "type": "mesh3d"
           }
          ],
          "parcoords": [
           {
            "line": {
             "colorbar": {
              "outlinewidth": 0,
              "ticks": ""
             }
            },
            "type": "parcoords"
           }
          ],
          "pie": [
           {
            "automargin": true,
            "type": "pie"
           }
          ],
          "scatter": [
           {
            "fillpattern": {
             "fillmode": "overlay",
             "size": 10,
             "solidity": 0.2
            },
            "type": "scatter"
           }
          ],
          "scatter3d": [
           {
            "line": {
             "colorbar": {
              "outlinewidth": 0,
              "ticks": ""
             }
            },
            "marker": {
             "colorbar": {
              "outlinewidth": 0,
              "ticks": ""
             }
            },
            "type": "scatter3d"
           }
          ],
          "scattercarpet": [
           {
            "marker": {
             "colorbar": {
              "outlinewidth": 0,
              "ticks": ""
             }
            },
            "type": "scattercarpet"
           }
          ],
          "scattergeo": [
           {
            "marker": {
             "colorbar": {
              "outlinewidth": 0,
              "ticks": ""
             }
            },
            "type": "scattergeo"
           }
          ],
          "scattergl": [
           {
            "marker": {
             "colorbar": {
              "outlinewidth": 0,
              "ticks": ""
             }
            },
            "type": "scattergl"
           }
          ],
          "scattermapbox": [
           {
            "marker": {
             "colorbar": {
              "outlinewidth": 0,
              "ticks": ""
             }
            },
            "type": "scattermapbox"
           }
          ],
          "scatterpolar": [
           {
            "marker": {
             "colorbar": {
              "outlinewidth": 0,
              "ticks": ""
             }
            },
            "type": "scatterpolar"
           }
          ],
          "scatterpolargl": [
           {
            "marker": {
             "colorbar": {
              "outlinewidth": 0,
              "ticks": ""
             }
            },
            "type": "scatterpolargl"
           }
          ],
          "scatterternary": [
           {
            "marker": {
             "colorbar": {
              "outlinewidth": 0,
              "ticks": ""
             }
            },
            "type": "scatterternary"
           }
          ],
          "surface": [
           {
            "colorbar": {
             "outlinewidth": 0,
             "ticks": ""
            },
            "colorscale": [
             [
              0,
              "#0d0887"
             ],
             [
              0.1111111111111111,
              "#46039f"
             ],
             [
              0.2222222222222222,
              "#7201a8"
             ],
             [
              0.3333333333333333,
              "#9c179e"
             ],
             [
              0.4444444444444444,
              "#bd3786"
             ],
             [
              0.5555555555555556,
              "#d8576b"
             ],
             [
              0.6666666666666666,
              "#ed7953"
             ],
             [
              0.7777777777777778,
              "#fb9f3a"
             ],
             [
              0.8888888888888888,
              "#fdca26"
             ],
             [
              1,
              "#f0f921"
             ]
            ],
            "type": "surface"
           }
          ],
          "table": [
           {
            "cells": {
             "fill": {
              "color": "#EBF0F8"
             },
             "line": {
              "color": "white"
             }
            },
            "header": {
             "fill": {
              "color": "#C8D4E3"
             },
             "line": {
              "color": "white"
             }
            },
            "type": "table"
           }
          ]
         },
         "layout": {
          "annotationdefaults": {
           "arrowcolor": "#2a3f5f",
           "arrowhead": 0,
           "arrowwidth": 1
          },
          "autotypenumbers": "strict",
          "coloraxis": {
           "colorbar": {
            "outlinewidth": 0,
            "ticks": ""
           }
          },
          "colorscale": {
           "diverging": [
            [
             0,
             "#8e0152"
            ],
            [
             0.1,
             "#c51b7d"
            ],
            [
             0.2,
             "#de77ae"
            ],
            [
             0.3,
             "#f1b6da"
            ],
            [
             0.4,
             "#fde0ef"
            ],
            [
             0.5,
             "#f7f7f7"
            ],
            [
             0.6,
             "#e6f5d0"
            ],
            [
             0.7,
             "#b8e186"
            ],
            [
             0.8,
             "#7fbc41"
            ],
            [
             0.9,
             "#4d9221"
            ],
            [
             1,
             "#276419"
            ]
           ],
           "sequential": [
            [
             0,
             "#0d0887"
            ],
            [
             0.1111111111111111,
             "#46039f"
            ],
            [
             0.2222222222222222,
             "#7201a8"
            ],
            [
             0.3333333333333333,
             "#9c179e"
            ],
            [
             0.4444444444444444,
             "#bd3786"
            ],
            [
             0.5555555555555556,
             "#d8576b"
            ],
            [
             0.6666666666666666,
             "#ed7953"
            ],
            [
             0.7777777777777778,
             "#fb9f3a"
            ],
            [
             0.8888888888888888,
             "#fdca26"
            ],
            [
             1,
             "#f0f921"
            ]
           ],
           "sequentialminus": [
            [
             0,
             "#0d0887"
            ],
            [
             0.1111111111111111,
             "#46039f"
            ],
            [
             0.2222222222222222,
             "#7201a8"
            ],
            [
             0.3333333333333333,
             "#9c179e"
            ],
            [
             0.4444444444444444,
             "#bd3786"
            ],
            [
             0.5555555555555556,
             "#d8576b"
            ],
            [
             0.6666666666666666,
             "#ed7953"
            ],
            [
             0.7777777777777778,
             "#fb9f3a"
            ],
            [
             0.8888888888888888,
             "#fdca26"
            ],
            [
             1,
             "#f0f921"
            ]
           ]
          },
          "colorway": [
           "#636efa",
           "#EF553B",
           "#00cc96",
           "#ab63fa",
           "#FFA15A",
           "#19d3f3",
           "#FF6692",
           "#B6E880",
           "#FF97FF",
           "#FECB52"
          ],
          "font": {
           "color": "#2a3f5f"
          },
          "geo": {
           "bgcolor": "white",
           "lakecolor": "white",
           "landcolor": "#E5ECF6",
           "showlakes": true,
           "showland": true,
           "subunitcolor": "white"
          },
          "hoverlabel": {
           "align": "left"
          },
          "hovermode": "closest",
          "mapbox": {
           "style": "light"
          },
          "paper_bgcolor": "white",
          "plot_bgcolor": "#E5ECF6",
          "polar": {
           "angularaxis": {
            "gridcolor": "white",
            "linecolor": "white",
            "ticks": ""
           },
           "bgcolor": "#E5ECF6",
           "radialaxis": {
            "gridcolor": "white",
            "linecolor": "white",
            "ticks": ""
           }
          },
          "scene": {
           "xaxis": {
            "backgroundcolor": "#E5ECF6",
            "gridcolor": "white",
            "gridwidth": 2,
            "linecolor": "white",
            "showbackground": true,
            "ticks": "",
            "zerolinecolor": "white"
           },
           "yaxis": {
            "backgroundcolor": "#E5ECF6",
            "gridcolor": "white",
            "gridwidth": 2,
            "linecolor": "white",
            "showbackground": true,
            "ticks": "",
            "zerolinecolor": "white"
           },
           "zaxis": {
            "backgroundcolor": "#E5ECF6",
            "gridcolor": "white",
            "gridwidth": 2,
            "linecolor": "white",
            "showbackground": true,
            "ticks": "",
            "zerolinecolor": "white"
           }
          },
          "shapedefaults": {
           "line": {
            "color": "#2a3f5f"
           }
          },
          "ternary": {
           "aaxis": {
            "gridcolor": "white",
            "linecolor": "white",
            "ticks": ""
           },
           "baxis": {
            "gridcolor": "white",
            "linecolor": "white",
            "ticks": ""
           },
           "bgcolor": "#E5ECF6",
           "caxis": {
            "gridcolor": "white",
            "linecolor": "white",
            "ticks": ""
           }
          },
          "title": {
           "x": 0.05
          },
          "xaxis": {
           "automargin": true,
           "gridcolor": "white",
           "linecolor": "white",
           "ticks": "",
           "title": {
            "standoff": 15
           },
           "zerolinecolor": "white",
           "zerolinewidth": 2
          },
          "yaxis": {
           "automargin": true,
           "gridcolor": "white",
           "linecolor": "white",
           "ticks": "",
           "title": {
            "standoff": 15
           },
           "zerolinecolor": "white",
           "zerolinewidth": 2
          }
         }
        },
        "title": {
         "text": "Slice Plot"
        },
        "xaxis": {
         "title": {
          "text": "alpha"
         },
         "type": "log"
        },
        "yaxis": {
         "title": {
          "text": "Objective Value"
         }
        }
       }
      },
      "text/html": [
       "<div>                            <div id=\"5b357c86-28f4-4924-80a5-73ec7fef75d2\" class=\"plotly-graph-div\" style=\"height:525px; width:100%;\"></div>            <script type=\"text/javascript\">                require([\"plotly\"], function(Plotly) {                    window.PLOTLYENV=window.PLOTLYENV || {};                                    if (document.getElementById(\"5b357c86-28f4-4924-80a5-73ec7fef75d2\")) {                    Plotly.newPlot(                        \"5b357c86-28f4-4924-80a5-73ec7fef75d2\",                        [{\"marker\":{\"color\":[0,1,2,3,4,5,6,7,8,9,10,11,12,13,14,15,16,17,18,19,20,21,22,23,24,25,26,27,28,29,30,31,32,33,34,35,36,37,38,39,40,41,42,43,44,45,46,47,48,49,50,51,52,53,54,55,56,57,58,59,60,61,62,63,64,65,66,67,68,69,70,71,72,73,74,75,76,77,78,79,80,81,82,83,84,85,86,87,88,89,90,91,92,93,94,95,96,97,98,99],\"colorbar\":{\"title\":{\"text\":\"#Trials\"},\"x\":1.0,\"xpad\":40},\"colorscale\":[[0.0,\"rgb(247,251,255)\"],[0.125,\"rgb(222,235,247)\"],[0.25,\"rgb(198,219,239)\"],[0.375,\"rgb(158,202,225)\"],[0.5,\"rgb(107,174,214)\"],[0.625,\"rgb(66,146,198)\"],[0.75,\"rgb(33,113,181)\"],[0.875,\"rgb(8,81,156)\"],[1.0,\"rgb(8,48,107)\"]],\"line\":{\"color\":\"Grey\",\"width\":0.5}},\"mode\":\"markers\",\"showlegend\":false,\"x\":[0.011214308080419724,0.7389777189596193,0.17687040333247217,0.019983484196863275,0.001606785190545273,0.009900451613257194,0.15054730837110905,0.003994443275254919,0.08620074772759474,0.001318067811780588,0.004218614956627269,0.11747326482250153,0.7800107617633179,0.04933545342746957,0.22567889358078222,0.0041417838258429596,0.30882097432150196,0.037300691801146896,0.002441111131991035,0.01410553871019028,0.39313870551760216,0.0053838956046114396,0.0039233778531786445,0.006748852594025922,0.02377600494034466,0.002446251107350479,0.06360554710915232,0.0025032306306135036,0.007334876281156505,0.0010658772036713365,0.012530754733831861,0.012860901685702624,0.020497096207509554,0.009188498564913019,0.0033884340903290217,0.01623616037143622,0.5067473031810166,0.03178295933655254,0.0016273125667376725,0.002139452323740364,0.0016589049734477646,0.005832543599063986,0.0032903904832047976,0.009766641751319664,0.0015387909777884333,0.004776211578229088,0.001122597761384242,0.20530330446428197,0.10388004635363689,0.007883114426910622,0.0019005964588820576,0.029411233519745537,0.05735577444885313,0.03735042587234061,0.14565226520279845,0.004018196950648238,0.002877921120913075,0.07470052323218597,0.6564328931918387,0.01149655312632438,0.018482516164953583,0.0019146073937621796,0.0013017154103008308,0.9524320840591562,0.001410184253987229,0.005936348306274095,0.0017124652500257276,0.002930150390721815,0.27292533247233697,0.0046138730816479324,0.04230106393769513,0.002160792001529552,0.0023590543525521357,0.003427896464309966,0.02726096179801915,0.0011518249290800734,0.0017655250893113786,0.002829767033499796,0.0146556190409854,0.008551522103282125,0.0010169530193232632,0.022313475705761712,0.006703899434975411,0.01846684055017071,0.0021613726219496753,0.010719385283282519,0.004845151794753259,0.0014554616332248446,0.0038574029226905405,0.011081539277607947,0.002717292156266839,0.015560071991035396,0.012527645016638353,0.015445553788981478,0.015493738210539645,0.010405396922660678,0.007602167745395687,0.03297033623425719,0.025338570841163005,0.017852140896937308],\"y\":[0.939331622453588,0.9401271091689573,0.9444870013711478,0.9431921056765059,0.938782852326311,0.9425613180254476,0.9426089772666971,0.9444872456845683,0.9381851346921385,0.9396510024744748,0.9415173239629044,0.9407920849283677,0.9392314562005637,0.9424846451621864,0.9383088463494567,0.9439033822989351,0.9420791927682197,0.940362288927983,0.9388668746472852,0.939177428999632,0.9405441657555633,0.9384288243405452,0.9387204465887276,0.9382523824911202,0.9431222047080858,0.9394622216669495,0.9411004346908814,0.9407277715571116,0.94162709292491,0.941356832657249,0.943692398067304,0.9417814739527272,0.9398649926590998,0.9397916942899778,0.9403973587881108,0.9387155933242421,0.9415960317273205,0.9434759096187969,0.9455224779151777,0.943241634402861,0.9433654364526689,0.940079437942009,0.9395980933288408,0.9401808049262688,0.9411479659854104,0.937327086606448,0.9415091558867689,0.9422226001929946,0.9429358550504287,0.9403339708391218,0.9415590352115611,0.9424001045314853,0.9412558254421789,0.9406341529280491,0.9383871045023847,0.9383090190117631,0.9418406429786813,0.9378045535988632,0.9416103424665255,0.9401645538175126,0.9393866557990875,0.9390759657676352,0.9393099829430737,0.9425401290394662,0.9393968489314298,0.9426136276018949,0.9398740811732035,0.940061747941465,0.9399921488146656,0.9402949990511823,0.9425347445430017,0.9392510334974629,0.9407741707637236,0.9397200215624428,0.940041861636676,0.9422609936252357,0.9402763019430559,0.9404157077658475,0.9397349972539205,0.9387629979362607,0.9418093804732124,0.9408382335123047,0.9423889797981946,0.9416994326626325,0.9418322765919427,0.9451864355729876,0.9421680212804395,0.9403077924931159,0.9383349802607537,0.942114921560057,0.9396871127286228,0.9436116284737874,0.9411401952481834,0.9437359790675736,0.9394911829983723,0.9422778823620106,0.9387634629184749,0.9419720566898253,0.9432953268713324,0.9416176888829263],\"type\":\"scatter\"}],                        {\"title\":{\"text\":\"Slice Plot\"},\"template\":{\"data\":{\"histogram2dcontour\":[{\"type\":\"histogram2dcontour\",\"colorbar\":{\"outlinewidth\":0,\"ticks\":\"\"},\"colorscale\":[[0.0,\"#0d0887\"],[0.1111111111111111,\"#46039f\"],[0.2222222222222222,\"#7201a8\"],[0.3333333333333333,\"#9c179e\"],[0.4444444444444444,\"#bd3786\"],[0.5555555555555556,\"#d8576b\"],[0.6666666666666666,\"#ed7953\"],[0.7777777777777778,\"#fb9f3a\"],[0.8888888888888888,\"#fdca26\"],[1.0,\"#f0f921\"]]}],\"choropleth\":[{\"type\":\"choropleth\",\"colorbar\":{\"outlinewidth\":0,\"ticks\":\"\"}}],\"histogram2d\":[{\"type\":\"histogram2d\",\"colorbar\":{\"outlinewidth\":0,\"ticks\":\"\"},\"colorscale\":[[0.0,\"#0d0887\"],[0.1111111111111111,\"#46039f\"],[0.2222222222222222,\"#7201a8\"],[0.3333333333333333,\"#9c179e\"],[0.4444444444444444,\"#bd3786\"],[0.5555555555555556,\"#d8576b\"],[0.6666666666666666,\"#ed7953\"],[0.7777777777777778,\"#fb9f3a\"],[0.8888888888888888,\"#fdca26\"],[1.0,\"#f0f921\"]]}],\"heatmap\":[{\"type\":\"heatmap\",\"colorbar\":{\"outlinewidth\":0,\"ticks\":\"\"},\"colorscale\":[[0.0,\"#0d0887\"],[0.1111111111111111,\"#46039f\"],[0.2222222222222222,\"#7201a8\"],[0.3333333333333333,\"#9c179e\"],[0.4444444444444444,\"#bd3786\"],[0.5555555555555556,\"#d8576b\"],[0.6666666666666666,\"#ed7953\"],[0.7777777777777778,\"#fb9f3a\"],[0.8888888888888888,\"#fdca26\"],[1.0,\"#f0f921\"]]}],\"heatmapgl\":[{\"type\":\"heatmapgl\",\"colorbar\":{\"outlinewidth\":0,\"ticks\":\"\"},\"colorscale\":[[0.0,\"#0d0887\"],[0.1111111111111111,\"#46039f\"],[0.2222222222222222,\"#7201a8\"],[0.3333333333333333,\"#9c179e\"],[0.4444444444444444,\"#bd3786\"],[0.5555555555555556,\"#d8576b\"],[0.6666666666666666,\"#ed7953\"],[0.7777777777777778,\"#fb9f3a\"],[0.8888888888888888,\"#fdca26\"],[1.0,\"#f0f921\"]]}],\"contourcarpet\":[{\"type\":\"contourcarpet\",\"colorbar\":{\"outlinewidth\":0,\"ticks\":\"\"}}],\"contour\":[{\"type\":\"contour\",\"colorbar\":{\"outlinewidth\":0,\"ticks\":\"\"},\"colorscale\":[[0.0,\"#0d0887\"],[0.1111111111111111,\"#46039f\"],[0.2222222222222222,\"#7201a8\"],[0.3333333333333333,\"#9c179e\"],[0.4444444444444444,\"#bd3786\"],[0.5555555555555556,\"#d8576b\"],[0.6666666666666666,\"#ed7953\"],[0.7777777777777778,\"#fb9f3a\"],[0.8888888888888888,\"#fdca26\"],[1.0,\"#f0f921\"]]}],\"surface\":[{\"type\":\"surface\",\"colorbar\":{\"outlinewidth\":0,\"ticks\":\"\"},\"colorscale\":[[0.0,\"#0d0887\"],[0.1111111111111111,\"#46039f\"],[0.2222222222222222,\"#7201a8\"],[0.3333333333333333,\"#9c179e\"],[0.4444444444444444,\"#bd3786\"],[0.5555555555555556,\"#d8576b\"],[0.6666666666666666,\"#ed7953\"],[0.7777777777777778,\"#fb9f3a\"],[0.8888888888888888,\"#fdca26\"],[1.0,\"#f0f921\"]]}],\"mesh3d\":[{\"type\":\"mesh3d\",\"colorbar\":{\"outlinewidth\":0,\"ticks\":\"\"}}],\"scatter\":[{\"fillpattern\":{\"fillmode\":\"overlay\",\"size\":10,\"solidity\":0.2},\"type\":\"scatter\"}],\"parcoords\":[{\"type\":\"parcoords\",\"line\":{\"colorbar\":{\"outlinewidth\":0,\"ticks\":\"\"}}}],\"scatterpolargl\":[{\"type\":\"scatterpolargl\",\"marker\":{\"colorbar\":{\"outlinewidth\":0,\"ticks\":\"\"}}}],\"bar\":[{\"error_x\":{\"color\":\"#2a3f5f\"},\"error_y\":{\"color\":\"#2a3f5f\"},\"marker\":{\"line\":{\"color\":\"#E5ECF6\",\"width\":0.5},\"pattern\":{\"fillmode\":\"overlay\",\"size\":10,\"solidity\":0.2}},\"type\":\"bar\"}],\"scattergeo\":[{\"type\":\"scattergeo\",\"marker\":{\"colorbar\":{\"outlinewidth\":0,\"ticks\":\"\"}}}],\"scatterpolar\":[{\"type\":\"scatterpolar\",\"marker\":{\"colorbar\":{\"outlinewidth\":0,\"ticks\":\"\"}}}],\"histogram\":[{\"marker\":{\"pattern\":{\"fillmode\":\"overlay\",\"size\":10,\"solidity\":0.2}},\"type\":\"histogram\"}],\"scattergl\":[{\"type\":\"scattergl\",\"marker\":{\"colorbar\":{\"outlinewidth\":0,\"ticks\":\"\"}}}],\"scatter3d\":[{\"type\":\"scatter3d\",\"line\":{\"colorbar\":{\"outlinewidth\":0,\"ticks\":\"\"}},\"marker\":{\"colorbar\":{\"outlinewidth\":0,\"ticks\":\"\"}}}],\"scattermapbox\":[{\"type\":\"scattermapbox\",\"marker\":{\"colorbar\":{\"outlinewidth\":0,\"ticks\":\"\"}}}],\"scatterternary\":[{\"type\":\"scatterternary\",\"marker\":{\"colorbar\":{\"outlinewidth\":0,\"ticks\":\"\"}}}],\"scattercarpet\":[{\"type\":\"scattercarpet\",\"marker\":{\"colorbar\":{\"outlinewidth\":0,\"ticks\":\"\"}}}],\"carpet\":[{\"aaxis\":{\"endlinecolor\":\"#2a3f5f\",\"gridcolor\":\"white\",\"linecolor\":\"white\",\"minorgridcolor\":\"white\",\"startlinecolor\":\"#2a3f5f\"},\"baxis\":{\"endlinecolor\":\"#2a3f5f\",\"gridcolor\":\"white\",\"linecolor\":\"white\",\"minorgridcolor\":\"white\",\"startlinecolor\":\"#2a3f5f\"},\"type\":\"carpet\"}],\"table\":[{\"cells\":{\"fill\":{\"color\":\"#EBF0F8\"},\"line\":{\"color\":\"white\"}},\"header\":{\"fill\":{\"color\":\"#C8D4E3\"},\"line\":{\"color\":\"white\"}},\"type\":\"table\"}],\"barpolar\":[{\"marker\":{\"line\":{\"color\":\"#E5ECF6\",\"width\":0.5},\"pattern\":{\"fillmode\":\"overlay\",\"size\":10,\"solidity\":0.2}},\"type\":\"barpolar\"}],\"pie\":[{\"automargin\":true,\"type\":\"pie\"}]},\"layout\":{\"autotypenumbers\":\"strict\",\"colorway\":[\"#636efa\",\"#EF553B\",\"#00cc96\",\"#ab63fa\",\"#FFA15A\",\"#19d3f3\",\"#FF6692\",\"#B6E880\",\"#FF97FF\",\"#FECB52\"],\"font\":{\"color\":\"#2a3f5f\"},\"hovermode\":\"closest\",\"hoverlabel\":{\"align\":\"left\"},\"paper_bgcolor\":\"white\",\"plot_bgcolor\":\"#E5ECF6\",\"polar\":{\"bgcolor\":\"#E5ECF6\",\"angularaxis\":{\"gridcolor\":\"white\",\"linecolor\":\"white\",\"ticks\":\"\"},\"radialaxis\":{\"gridcolor\":\"white\",\"linecolor\":\"white\",\"ticks\":\"\"}},\"ternary\":{\"bgcolor\":\"#E5ECF6\",\"aaxis\":{\"gridcolor\":\"white\",\"linecolor\":\"white\",\"ticks\":\"\"},\"baxis\":{\"gridcolor\":\"white\",\"linecolor\":\"white\",\"ticks\":\"\"},\"caxis\":{\"gridcolor\":\"white\",\"linecolor\":\"white\",\"ticks\":\"\"}},\"coloraxis\":{\"colorbar\":{\"outlinewidth\":0,\"ticks\":\"\"}},\"colorscale\":{\"sequential\":[[0.0,\"#0d0887\"],[0.1111111111111111,\"#46039f\"],[0.2222222222222222,\"#7201a8\"],[0.3333333333333333,\"#9c179e\"],[0.4444444444444444,\"#bd3786\"],[0.5555555555555556,\"#d8576b\"],[0.6666666666666666,\"#ed7953\"],[0.7777777777777778,\"#fb9f3a\"],[0.8888888888888888,\"#fdca26\"],[1.0,\"#f0f921\"]],\"sequentialminus\":[[0.0,\"#0d0887\"],[0.1111111111111111,\"#46039f\"],[0.2222222222222222,\"#7201a8\"],[0.3333333333333333,\"#9c179e\"],[0.4444444444444444,\"#bd3786\"],[0.5555555555555556,\"#d8576b\"],[0.6666666666666666,\"#ed7953\"],[0.7777777777777778,\"#fb9f3a\"],[0.8888888888888888,\"#fdca26\"],[1.0,\"#f0f921\"]],\"diverging\":[[0,\"#8e0152\"],[0.1,\"#c51b7d\"],[0.2,\"#de77ae\"],[0.3,\"#f1b6da\"],[0.4,\"#fde0ef\"],[0.5,\"#f7f7f7\"],[0.6,\"#e6f5d0\"],[0.7,\"#b8e186\"],[0.8,\"#7fbc41\"],[0.9,\"#4d9221\"],[1,\"#276419\"]]},\"xaxis\":{\"gridcolor\":\"white\",\"linecolor\":\"white\",\"ticks\":\"\",\"title\":{\"standoff\":15},\"zerolinecolor\":\"white\",\"automargin\":true,\"zerolinewidth\":2},\"yaxis\":{\"gridcolor\":\"white\",\"linecolor\":\"white\",\"ticks\":\"\",\"title\":{\"standoff\":15},\"zerolinecolor\":\"white\",\"automargin\":true,\"zerolinewidth\":2},\"scene\":{\"xaxis\":{\"backgroundcolor\":\"#E5ECF6\",\"gridcolor\":\"white\",\"linecolor\":\"white\",\"showbackground\":true,\"ticks\":\"\",\"zerolinecolor\":\"white\",\"gridwidth\":2},\"yaxis\":{\"backgroundcolor\":\"#E5ECF6\",\"gridcolor\":\"white\",\"linecolor\":\"white\",\"showbackground\":true,\"ticks\":\"\",\"zerolinecolor\":\"white\",\"gridwidth\":2},\"zaxis\":{\"backgroundcolor\":\"#E5ECF6\",\"gridcolor\":\"white\",\"linecolor\":\"white\",\"showbackground\":true,\"ticks\":\"\",\"zerolinecolor\":\"white\",\"gridwidth\":2}},\"shapedefaults\":{\"line\":{\"color\":\"#2a3f5f\"}},\"annotationdefaults\":{\"arrowcolor\":\"#2a3f5f\",\"arrowhead\":0,\"arrowwidth\":1},\"geo\":{\"bgcolor\":\"white\",\"landcolor\":\"#E5ECF6\",\"subunitcolor\":\"white\",\"showland\":true,\"showlakes\":true,\"lakecolor\":\"white\"},\"title\":{\"x\":0.05},\"mapbox\":{\"style\":\"light\"}}},\"xaxis\":{\"title\":{\"text\":\"alpha\"},\"type\":\"log\"},\"yaxis\":{\"title\":{\"text\":\"Objective Value\"}}},                        {\"responsive\": true}                    ).then(function(){\n",
       "                            \n",
       "var gd = document.getElementById('5b357c86-28f4-4924-80a5-73ec7fef75d2');\n",
       "var x = new MutationObserver(function (mutations, observer) {{\n",
       "        var display = window.getComputedStyle(gd).display;\n",
       "        if (!display || display === 'none') {{\n",
       "            console.log([gd, 'removed!']);\n",
       "            Plotly.purge(gd);\n",
       "            observer.disconnect();\n",
       "        }}\n",
       "}});\n",
       "\n",
       "// Listen for the removal of the full notebook cells\n",
       "var notebookContainer = gd.closest('#notebook-container');\n",
       "if (notebookContainer) {{\n",
       "    x.observe(notebookContainer, {childList: true});\n",
       "}}\n",
       "\n",
       "// Listen for the clearing of the current output cell\n",
       "var outputEl = gd.closest('.output');\n",
       "if (outputEl) {{\n",
       "    x.observe(outputEl, {childList: true});\n",
       "}}\n",
       "\n",
       "                        })                };                });            </script>        </div>"
      ]
     },
     "metadata": {},
     "output_type": "display_data"
    }
   ],
   "source": [
    "optuna.visualization.plot_slice(study)"
   ]
  },
  {
   "cell_type": "markdown",
   "id": "c73a59e1",
   "metadata": {},
   "source": [
    "### Choice of alpha parameter\n",
    "I Think I will go for an alpha of 0.05, since the point are on averga higher on that point"
   ]
  },
  {
   "cell_type": "markdown",
   "id": "9e5659c5",
   "metadata": {},
   "source": [
    "# Prepair testset"
   ]
  },
  {
   "cell_type": "code",
   "execution_count": 109,
   "id": "3d004ffa",
   "metadata": {},
   "outputs": [
    {
     "data": {
      "text/html": [
       "<div>\n",
       "<style scoped>\n",
       "    .dataframe tbody tr th:only-of-type {\n",
       "        vertical-align: middle;\n",
       "    }\n",
       "\n",
       "    .dataframe tbody tr th {\n",
       "        vertical-align: top;\n",
       "    }\n",
       "\n",
       "    .dataframe thead th {\n",
       "        text-align: right;\n",
       "    }\n",
       "</style>\n",
       "<table border=\"1\" class=\"dataframe\">\n",
       "  <thead>\n",
       "    <tr style=\"text-align: right;\">\n",
       "      <th>nutrition</th>\n",
       "      <th>eiwit</th>\n",
       "      <th>energie</th>\n",
       "      <th>koolhydraten</th>\n",
       "      <th>natrium</th>\n",
       "      <th>vet</th>\n",
       "      <th>vezels</th>\n",
       "      <th>waarvan suikers</th>\n",
       "      <th>waarvan verzadigd</th>\n",
       "      <th>y_pred</th>\n",
       "    </tr>\n",
       "    <tr>\n",
       "      <th>recipe</th>\n",
       "      <th></th>\n",
       "      <th></th>\n",
       "      <th></th>\n",
       "      <th></th>\n",
       "      <th></th>\n",
       "      <th></th>\n",
       "      <th></th>\n",
       "      <th></th>\n",
       "      <th></th>\n",
       "    </tr>\n",
       "  </thead>\n",
       "  <tbody>\n",
       "    <tr>\n",
       "      <th>Vietnamese karamelzalm van Donal Skehan</th>\n",
       "      <td>34.0</td>\n",
       "      <td>490.0</td>\n",
       "      <td>24.0</td>\n",
       "      <td>680.0</td>\n",
       "      <td>28.0</td>\n",
       "      <td>3.0</td>\n",
       "      <td>0.0</td>\n",
       "      <td>4.0</td>\n",
       "      <td>NaN</td>\n",
       "    </tr>\n",
       "    <tr>\n",
       "      <th>Vietnamese komkommer</th>\n",
       "      <td>17.0</td>\n",
       "      <td>335.0</td>\n",
       "      <td>62.0</td>\n",
       "      <td>NaN</td>\n",
       "      <td>1.0</td>\n",
       "      <td>0.0</td>\n",
       "      <td>0.0</td>\n",
       "      <td>0.0</td>\n",
       "      <td>NaN</td>\n",
       "    </tr>\n",
       "    <tr>\n",
       "      <th>Vietnamese loempia's</th>\n",
       "      <td>6.0</td>\n",
       "      <td>160.0</td>\n",
       "      <td>15.0</td>\n",
       "      <td>320.0</td>\n",
       "      <td>8.0</td>\n",
       "      <td>1.0</td>\n",
       "      <td>3.0</td>\n",
       "      <td>2.0</td>\n",
       "      <td>NaN</td>\n",
       "    </tr>\n",
       "    <tr>\n",
       "      <th>Vietnamese loempia's met groente</th>\n",
       "      <td>10.0</td>\n",
       "      <td>500.0</td>\n",
       "      <td>38.0</td>\n",
       "      <td>NaN</td>\n",
       "      <td>33.0</td>\n",
       "      <td>0.0</td>\n",
       "      <td>0.0</td>\n",
       "      <td>0.0</td>\n",
       "      <td>NaN</td>\n",
       "    </tr>\n",
       "    <tr>\n",
       "      <th>Vietnamese noedelsalade met gemarineerde garnalen</th>\n",
       "      <td>22.0</td>\n",
       "      <td>475.0</td>\n",
       "      <td>33.0</td>\n",
       "      <td>580.0</td>\n",
       "      <td>27.0</td>\n",
       "      <td>6.0</td>\n",
       "      <td>0.0</td>\n",
       "      <td>4.0</td>\n",
       "      <td>NaN</td>\n",
       "    </tr>\n",
       "    <tr>\n",
       "      <th>...</th>\n",
       "      <td>...</td>\n",
       "      <td>...</td>\n",
       "      <td>...</td>\n",
       "      <td>...</td>\n",
       "      <td>...</td>\n",
       "      <td>...</td>\n",
       "      <td>...</td>\n",
       "      <td>...</td>\n",
       "      <td>...</td>\n",
       "    </tr>\n",
       "    <tr>\n",
       "      <th>Zweedse gehaktballetjes met room</th>\n",
       "      <td>33.0</td>\n",
       "      <td>640.0</td>\n",
       "      <td>26.0</td>\n",
       "      <td>520.0</td>\n",
       "      <td>45.0</td>\n",
       "      <td>2.0</td>\n",
       "      <td>0.0</td>\n",
       "      <td>22.0</td>\n",
       "      <td>NaN</td>\n",
       "    </tr>\n",
       "    <tr>\n",
       "      <th>Zweedse vegaballetjes met aardappel &amp;amp; broccoli</th>\n",
       "      <td>38.0</td>\n",
       "      <td>770.0</td>\n",
       "      <td>76.0</td>\n",
       "      <td>1320.0</td>\n",
       "      <td>31.0</td>\n",
       "      <td>17.0</td>\n",
       "      <td>0.0</td>\n",
       "      <td>10.0</td>\n",
       "      <td>NaN</td>\n",
       "    </tr>\n",
       "    <tr>\n",
       "      <th>Zwitserse kaasfondue</th>\n",
       "      <td>56.0</td>\n",
       "      <td>850.0</td>\n",
       "      <td>7.0</td>\n",
       "      <td>920.0</td>\n",
       "      <td>63.0</td>\n",
       "      <td>0.0</td>\n",
       "      <td>5.0</td>\n",
       "      <td>38.0</td>\n",
       "      <td>NaN</td>\n",
       "    </tr>\n",
       "    <tr>\n",
       "      <th>Îles flottantes</th>\n",
       "      <td>10.0</td>\n",
       "      <td>290.0</td>\n",
       "      <td>49.0</td>\n",
       "      <td>125.0</td>\n",
       "      <td>6.0</td>\n",
       "      <td>0.0</td>\n",
       "      <td>0.0</td>\n",
       "      <td>3.0</td>\n",
       "      <td>NaN</td>\n",
       "    </tr>\n",
       "    <tr>\n",
       "      <th>‘Nasi’ met Hollandse soepgroente</th>\n",
       "      <td>18.0</td>\n",
       "      <td>500.0</td>\n",
       "      <td>71.0</td>\n",
       "      <td>200.0</td>\n",
       "      <td>14.0</td>\n",
       "      <td>7.0</td>\n",
       "      <td>8.0</td>\n",
       "      <td>3.0</td>\n",
       "      <td>NaN</td>\n",
       "    </tr>\n",
       "  </tbody>\n",
       "</table>\n",
       "<p>706 rows × 9 columns</p>\n",
       "</div>"
      ],
      "text/plain": [
       "nutrition                                           eiwit  energie  \\\n",
       "recipe                                                               \n",
       "Vietnamese karamelzalm van Donal Skehan              34.0    490.0   \n",
       "Vietnamese komkommer                                 17.0    335.0   \n",
       "Vietnamese loempia's                                  6.0    160.0   \n",
       "Vietnamese loempia's met groente                     10.0    500.0   \n",
       "Vietnamese noedelsalade met gemarineerde garnalen    22.0    475.0   \n",
       "...                                                   ...      ...   \n",
       "Zweedse gehaktballetjes met room                     33.0    640.0   \n",
       "Zweedse vegaballetjes met aardappel &amp; broccoli   38.0    770.0   \n",
       "Zwitserse kaasfondue                                 56.0    850.0   \n",
       "Îles flottantes                                      10.0    290.0   \n",
       "‘Nasi’ met Hollandse soepgroente                     18.0    500.0   \n",
       "\n",
       "nutrition                                           koolhydraten  natrium  \\\n",
       "recipe                                                                      \n",
       "Vietnamese karamelzalm van Donal Skehan                     24.0    680.0   \n",
       "Vietnamese komkommer                                        62.0      NaN   \n",
       "Vietnamese loempia's                                        15.0    320.0   \n",
       "Vietnamese loempia's met groente                            38.0      NaN   \n",
       "Vietnamese noedelsalade met gemarineerde garnalen           33.0    580.0   \n",
       "...                                                          ...      ...   \n",
       "Zweedse gehaktballetjes met room                            26.0    520.0   \n",
       "Zweedse vegaballetjes met aardappel &amp; broccoli          76.0   1320.0   \n",
       "Zwitserse kaasfondue                                         7.0    920.0   \n",
       "Îles flottantes                                             49.0    125.0   \n",
       "‘Nasi’ met Hollandse soepgroente                            71.0    200.0   \n",
       "\n",
       "nutrition                                            vet  vezels  \\\n",
       "recipe                                                             \n",
       "Vietnamese karamelzalm van Donal Skehan             28.0     3.0   \n",
       "Vietnamese komkommer                                 1.0     0.0   \n",
       "Vietnamese loempia's                                 8.0     1.0   \n",
       "Vietnamese loempia's met groente                    33.0     0.0   \n",
       "Vietnamese noedelsalade met gemarineerde garnalen   27.0     6.0   \n",
       "...                                                  ...     ...   \n",
       "Zweedse gehaktballetjes met room                    45.0     2.0   \n",
       "Zweedse vegaballetjes met aardappel &amp; broccoli  31.0    17.0   \n",
       "Zwitserse kaasfondue                                63.0     0.0   \n",
       "Îles flottantes                                      6.0     0.0   \n",
       "‘Nasi’ met Hollandse soepgroente                    14.0     7.0   \n",
       "\n",
       "nutrition                                           waarvan suikers  \\\n",
       "recipe                                                                \n",
       "Vietnamese karamelzalm van Donal Skehan                         0.0   \n",
       "Vietnamese komkommer                                            0.0   \n",
       "Vietnamese loempia's                                            3.0   \n",
       "Vietnamese loempia's met groente                                0.0   \n",
       "Vietnamese noedelsalade met gemarineerde garnalen               0.0   \n",
       "...                                                             ...   \n",
       "Zweedse gehaktballetjes met room                                0.0   \n",
       "Zweedse vegaballetjes met aardappel &amp; broccoli              0.0   \n",
       "Zwitserse kaasfondue                                            5.0   \n",
       "Îles flottantes                                                 0.0   \n",
       "‘Nasi’ met Hollandse soepgroente                                8.0   \n",
       "\n",
       "nutrition                                           waarvan verzadigd  y_pred  \n",
       "recipe                                                                         \n",
       "Vietnamese karamelzalm van Donal Skehan                           4.0     NaN  \n",
       "Vietnamese komkommer                                              0.0     NaN  \n",
       "Vietnamese loempia's                                              2.0     NaN  \n",
       "Vietnamese loempia's met groente                                  0.0     NaN  \n",
       "Vietnamese noedelsalade met gemarineerde garnalen                 4.0     NaN  \n",
       "...                                                               ...     ...  \n",
       "Zweedse gehaktballetjes met room                                 22.0     NaN  \n",
       "Zweedse vegaballetjes met aardappel &amp; broccoli               10.0     NaN  \n",
       "Zwitserse kaasfondue                                             38.0     NaN  \n",
       "Îles flottantes                                                   3.0     NaN  \n",
       "‘Nasi’ met Hollandse soepgroente                                  3.0     NaN  \n",
       "\n",
       "[706 rows x 9 columns]"
      ]
     },
     "execution_count": 109,
     "metadata": {},
     "output_type": "execute_result"
    }
   ],
   "source": [
    "df_test"
   ]
  },
  {
   "cell_type": "code",
   "execution_count": 110,
   "id": "befa7764",
   "metadata": {},
   "outputs": [
    {
     "data": {
      "text/html": [
       "<div>\n",
       "<style scoped>\n",
       "    .dataframe tbody tr th:only-of-type {\n",
       "        vertical-align: middle;\n",
       "    }\n",
       "\n",
       "    .dataframe tbody tr th {\n",
       "        vertical-align: top;\n",
       "    }\n",
       "\n",
       "    .dataframe thead th {\n",
       "        text-align: right;\n",
       "    }\n",
       "</style>\n",
       "<table border=\"1\" class=\"dataframe\">\n",
       "  <thead>\n",
       "    <tr style=\"text-align: right;\">\n",
       "      <th>nutrition</th>\n",
       "      <th>eiwit</th>\n",
       "      <th>koolhydraten</th>\n",
       "      <th>vet</th>\n",
       "    </tr>\n",
       "    <tr>\n",
       "      <th>recipe</th>\n",
       "      <th></th>\n",
       "      <th></th>\n",
       "      <th></th>\n",
       "    </tr>\n",
       "  </thead>\n",
       "  <tbody>\n",
       "    <tr>\n",
       "      <th>Pittige Spaanse bonenstoof met braadworst en aubergine</th>\n",
       "      <td>6.633250</td>\n",
       "      <td>4.094345</td>\n",
       "      <td>6.557439</td>\n",
       "    </tr>\n",
       "    <tr>\n",
       "      <th>Pappardelle met ricotta en gepofte snoeptomaten</th>\n",
       "      <td>4.795832</td>\n",
       "      <td>4.382027</td>\n",
       "      <td>5.099020</td>\n",
       "    </tr>\n",
       "    <tr>\n",
       "      <th>Sushi-cake</th>\n",
       "      <td>3.872983</td>\n",
       "      <td>4.382027</td>\n",
       "      <td>3.464102</td>\n",
       "    </tr>\n",
       "    <tr>\n",
       "      <th>Bietencarpaccio</th>\n",
       "      <td>1.732051</td>\n",
       "      <td>2.079442</td>\n",
       "      <td>3.000000</td>\n",
       "    </tr>\n",
       "    <tr>\n",
       "      <th>Kabeljauwfilet met mosselen, wortel en zeekraal</th>\n",
       "      <td>6.164414</td>\n",
       "      <td>2.302585</td>\n",
       "      <td>5.656854</td>\n",
       "    </tr>\n",
       "    <tr>\n",
       "      <th>...</th>\n",
       "      <td>...</td>\n",
       "      <td>...</td>\n",
       "      <td>...</td>\n",
       "    </tr>\n",
       "    <tr>\n",
       "      <th>Aspergepizza</th>\n",
       "      <td>4.898979</td>\n",
       "      <td>3.951244</td>\n",
       "      <td>4.000000</td>\n",
       "    </tr>\n",
       "    <tr>\n",
       "      <th>Rundervink met snijbonen en ovenaardappelen</th>\n",
       "      <td>5.291503</td>\n",
       "      <td>4.174387</td>\n",
       "      <td>5.000000</td>\n",
       "    </tr>\n",
       "    <tr>\n",
       "      <th>Luxe bagel met roomkaas, biefstuk en paddenstoelen</th>\n",
       "      <td>5.567764</td>\n",
       "      <td>4.007333</td>\n",
       "      <td>5.477226</td>\n",
       "    </tr>\n",
       "    <tr>\n",
       "      <th>Aardappelsalade met kappertjes en peterselie</th>\n",
       "      <td>2.000000</td>\n",
       "      <td>3.688879</td>\n",
       "      <td>2.449490</td>\n",
       "    </tr>\n",
       "    <tr>\n",
       "      <th>Macaroni met vegetarische Gehacktballetjes</th>\n",
       "      <td>4.898979</td>\n",
       "      <td>4.262680</td>\n",
       "      <td>4.472136</td>\n",
       "    </tr>\n",
       "  </tbody>\n",
       "</table>\n",
       "<p>6400 rows × 3 columns</p>\n",
       "</div>"
      ],
      "text/plain": [
       "nutrition                                              eiwit  koolhydraten  \\\n",
       "recipe                                                                       \n",
       "Pittige Spaanse bonenstoof met braadworst en au...  6.633250      4.094345   \n",
       "Pappardelle met ricotta en gepofte snoeptomaten     4.795832      4.382027   \n",
       "Sushi-cake                                          3.872983      4.382027   \n",
       "Bietencarpaccio                                     1.732051      2.079442   \n",
       "Kabeljauwfilet met mosselen, wortel en zeekraal     6.164414      2.302585   \n",
       "...                                                      ...           ...   \n",
       "Aspergepizza                                        4.898979      3.951244   \n",
       "Rundervink met snijbonen en ovenaardappelen         5.291503      4.174387   \n",
       "Luxe bagel met roomkaas, biefstuk en paddenstoelen  5.567764      4.007333   \n",
       "Aardappelsalade met kappertjes en peterselie        2.000000      3.688879   \n",
       "Macaroni met vegetarische Gehacktballetjes          4.898979      4.262680   \n",
       "\n",
       "nutrition                                                vet  \n",
       "recipe                                                        \n",
       "Pittige Spaanse bonenstoof met braadworst en au...  6.557439  \n",
       "Pappardelle met ricotta en gepofte snoeptomaten     5.099020  \n",
       "Sushi-cake                                          3.464102  \n",
       "Bietencarpaccio                                     3.000000  \n",
       "Kabeljauwfilet met mosselen, wortel en zeekraal     5.656854  \n",
       "...                                                      ...  \n",
       "Aspergepizza                                        4.000000  \n",
       "Rundervink met snijbonen en ovenaardappelen         5.000000  \n",
       "Luxe bagel met roomkaas, biefstuk en paddenstoelen  5.477226  \n",
       "Aardappelsalade met kappertjes en peterselie        2.449490  \n",
       "Macaroni met vegetarische Gehacktballetjes          4.472136  \n",
       "\n",
       "[6400 rows x 3 columns]"
      ]
     },
     "execution_count": 110,
     "metadata": {},
     "output_type": "execute_result"
    }
   ],
   "source": [
    "train_X"
   ]
  },
  {
   "cell_type": "code",
   "execution_count": 111,
   "id": "8260bc82",
   "metadata": {},
   "outputs": [],
   "source": [
    "test_X = df_test[['eiwit', 'koolhydraten', 'vet']]\n",
    "test_y = df_test['y_pred']"
   ]
  },
  {
   "cell_type": "code",
   "execution_count": 112,
   "id": "a18ee02b",
   "metadata": {},
   "outputs": [
    {
     "data": {
      "text/html": [
       "<div>\n",
       "<style scoped>\n",
       "    .dataframe tbody tr th:only-of-type {\n",
       "        vertical-align: middle;\n",
       "    }\n",
       "\n",
       "    .dataframe tbody tr th {\n",
       "        vertical-align: top;\n",
       "    }\n",
       "\n",
       "    .dataframe thead th {\n",
       "        text-align: right;\n",
       "    }\n",
       "</style>\n",
       "<table border=\"1\" class=\"dataframe\">\n",
       "  <thead>\n",
       "    <tr style=\"text-align: right;\">\n",
       "      <th>nutrition</th>\n",
       "      <th>eiwit</th>\n",
       "      <th>koolhydraten</th>\n",
       "      <th>vet</th>\n",
       "    </tr>\n",
       "    <tr>\n",
       "      <th>recipe</th>\n",
       "      <th></th>\n",
       "      <th></th>\n",
       "      <th></th>\n",
       "    </tr>\n",
       "  </thead>\n",
       "  <tbody>\n",
       "    <tr>\n",
       "      <th>Vietnamese karamelzalm van Donal Skehan</th>\n",
       "      <td>5.830952</td>\n",
       "      <td>3.178054</td>\n",
       "      <td>5.291503</td>\n",
       "    </tr>\n",
       "    <tr>\n",
       "      <th>Vietnamese komkommer</th>\n",
       "      <td>4.123106</td>\n",
       "      <td>4.127134</td>\n",
       "      <td>1.000000</td>\n",
       "    </tr>\n",
       "    <tr>\n",
       "      <th>Vietnamese loempia's</th>\n",
       "      <td>2.449490</td>\n",
       "      <td>2.708050</td>\n",
       "      <td>2.828427</td>\n",
       "    </tr>\n",
       "    <tr>\n",
       "      <th>Vietnamese loempia's met groente</th>\n",
       "      <td>3.162278</td>\n",
       "      <td>3.637586</td>\n",
       "      <td>5.744563</td>\n",
       "    </tr>\n",
       "    <tr>\n",
       "      <th>Vietnamese noedelsalade met gemarineerde garnalen</th>\n",
       "      <td>4.690416</td>\n",
       "      <td>3.496508</td>\n",
       "      <td>5.196152</td>\n",
       "    </tr>\n",
       "    <tr>\n",
       "      <th>...</th>\n",
       "      <td>...</td>\n",
       "      <td>...</td>\n",
       "      <td>...</td>\n",
       "    </tr>\n",
       "    <tr>\n",
       "      <th>Zweedse gehaktballetjes met room</th>\n",
       "      <td>5.744563</td>\n",
       "      <td>3.258097</td>\n",
       "      <td>6.708204</td>\n",
       "    </tr>\n",
       "    <tr>\n",
       "      <th>Zweedse vegaballetjes met aardappel &amp;amp; broccoli</th>\n",
       "      <td>6.164414</td>\n",
       "      <td>4.330733</td>\n",
       "      <td>5.567764</td>\n",
       "    </tr>\n",
       "    <tr>\n",
       "      <th>Zwitserse kaasfondue</th>\n",
       "      <td>7.483315</td>\n",
       "      <td>1.945910</td>\n",
       "      <td>7.937254</td>\n",
       "    </tr>\n",
       "    <tr>\n",
       "      <th>Îles flottantes</th>\n",
       "      <td>3.162278</td>\n",
       "      <td>3.891820</td>\n",
       "      <td>2.449490</td>\n",
       "    </tr>\n",
       "    <tr>\n",
       "      <th>‘Nasi’ met Hollandse soepgroente</th>\n",
       "      <td>4.242641</td>\n",
       "      <td>4.262680</td>\n",
       "      <td>3.741657</td>\n",
       "    </tr>\n",
       "  </tbody>\n",
       "</table>\n",
       "<p>706 rows × 3 columns</p>\n",
       "</div>"
      ],
      "text/plain": [
       "nutrition                                              eiwit  koolhydraten  \\\n",
       "recipe                                                                       \n",
       "Vietnamese karamelzalm van Donal Skehan             5.830952      3.178054   \n",
       "Vietnamese komkommer                                4.123106      4.127134   \n",
       "Vietnamese loempia's                                2.449490      2.708050   \n",
       "Vietnamese loempia's met groente                    3.162278      3.637586   \n",
       "Vietnamese noedelsalade met gemarineerde garnalen   4.690416      3.496508   \n",
       "...                                                      ...           ...   \n",
       "Zweedse gehaktballetjes met room                    5.744563      3.258097   \n",
       "Zweedse vegaballetjes met aardappel &amp; broccoli  6.164414      4.330733   \n",
       "Zwitserse kaasfondue                                7.483315      1.945910   \n",
       "Îles flottantes                                     3.162278      3.891820   \n",
       "‘Nasi’ met Hollandse soepgroente                    4.242641      4.262680   \n",
       "\n",
       "nutrition                                                vet  \n",
       "recipe                                                        \n",
       "Vietnamese karamelzalm van Donal Skehan             5.291503  \n",
       "Vietnamese komkommer                                1.000000  \n",
       "Vietnamese loempia's                                2.828427  \n",
       "Vietnamese loempia's met groente                    5.744563  \n",
       "Vietnamese noedelsalade met gemarineerde garnalen   5.196152  \n",
       "...                                                      ...  \n",
       "Zweedse gehaktballetjes met room                    6.708204  \n",
       "Zweedse vegaballetjes met aardappel &amp; broccoli  5.567764  \n",
       "Zwitserse kaasfondue                                7.937254  \n",
       "Îles flottantes                                     2.449490  \n",
       "‘Nasi’ met Hollandse soepgroente                    3.741657  \n",
       "\n",
       "[706 rows x 3 columns]"
      ]
     },
     "execution_count": 112,
     "metadata": {},
     "output_type": "execute_result"
    }
   ],
   "source": [
    "test_X['eiwit'] = np.sqrt(test_X['eiwit'])\n",
    "test_X['vet'] = np.sqrt(test_X['vet'])\n",
    "test_X['koolhydraten'] = np.log(test_X.koolhydraten[test_X.koolhydraten > 0])\n",
    "test_X['koolhydraten'] = test_X['koolhydraten'].fillna(0)\n",
    "test_X"
   ]
  },
  {
   "cell_type": "markdown",
   "id": "dfad5ded",
   "metadata": {},
   "source": [
    "# Make a prediction using the ridge model"
   ]
  },
  {
   "cell_type": "code",
   "execution_count": 113,
   "id": "68aa7d74",
   "metadata": {},
   "outputs": [],
   "source": [
    "model = Ridge(alpha = 0.05)\n",
    "model.fit(train_X, train_y)\n",
    "y_pred = model.predict(test_X)"
   ]
  },
  {
   "cell_type": "code",
   "execution_count": 114,
   "id": "b234904b",
   "metadata": {},
   "outputs": [],
   "source": [
    "y_pred_good = y_pred**2"
   ]
  },
  {
   "cell_type": "code",
   "execution_count": 115,
   "id": "e9e33b29",
   "metadata": {},
   "outputs": [
    {
     "data": {
      "text/html": [
       "<div>\n",
       "<style scoped>\n",
       "    .dataframe tbody tr th:only-of-type {\n",
       "        vertical-align: middle;\n",
       "    }\n",
       "\n",
       "    .dataframe tbody tr th {\n",
       "        vertical-align: top;\n",
       "    }\n",
       "\n",
       "    .dataframe thead th {\n",
       "        text-align: right;\n",
       "    }\n",
       "</style>\n",
       "<table border=\"1\" class=\"dataframe\">\n",
       "  <thead>\n",
       "    <tr style=\"text-align: right;\">\n",
       "      <th>nutrition</th>\n",
       "      <th>eiwit</th>\n",
       "      <th>energie</th>\n",
       "      <th>koolhydraten</th>\n",
       "      <th>natrium</th>\n",
       "      <th>vet</th>\n",
       "      <th>vezels</th>\n",
       "      <th>waarvan suikers</th>\n",
       "      <th>waarvan verzadigd</th>\n",
       "      <th>y_pred</th>\n",
       "    </tr>\n",
       "    <tr>\n",
       "      <th>recipe</th>\n",
       "      <th></th>\n",
       "      <th></th>\n",
       "      <th></th>\n",
       "      <th></th>\n",
       "      <th></th>\n",
       "      <th></th>\n",
       "      <th></th>\n",
       "      <th></th>\n",
       "      <th></th>\n",
       "    </tr>\n",
       "  </thead>\n",
       "  <tbody>\n",
       "    <tr>\n",
       "      <th>Vietnamese karamelzalm van Donal Skehan</th>\n",
       "      <td>34.0</td>\n",
       "      <td>490.0</td>\n",
       "      <td>24.0</td>\n",
       "      <td>680.0</td>\n",
       "      <td>28.0</td>\n",
       "      <td>3.0</td>\n",
       "      <td>0.0</td>\n",
       "      <td>4.0</td>\n",
       "      <td>542.883119</td>\n",
       "    </tr>\n",
       "    <tr>\n",
       "      <th>Vietnamese komkommer</th>\n",
       "      <td>17.0</td>\n",
       "      <td>335.0</td>\n",
       "      <td>62.0</td>\n",
       "      <td>NaN</td>\n",
       "      <td>1.0</td>\n",
       "      <td>0.0</td>\n",
       "      <td>0.0</td>\n",
       "      <td>0.0</td>\n",
       "      <td>261.752467</td>\n",
       "    </tr>\n",
       "    <tr>\n",
       "      <th>Vietnamese loempia's</th>\n",
       "      <td>6.0</td>\n",
       "      <td>160.0</td>\n",
       "      <td>15.0</td>\n",
       "      <td>320.0</td>\n",
       "      <td>8.0</td>\n",
       "      <td>1.0</td>\n",
       "      <td>3.0</td>\n",
       "      <td>2.0</td>\n",
       "      <td>207.600411</td>\n",
       "    </tr>\n",
       "    <tr>\n",
       "      <th>Vietnamese loempia's met groente</th>\n",
       "      <td>10.0</td>\n",
       "      <td>500.0</td>\n",
       "      <td>38.0</td>\n",
       "      <td>NaN</td>\n",
       "      <td>33.0</td>\n",
       "      <td>0.0</td>\n",
       "      <td>0.0</td>\n",
       "      <td>0.0</td>\n",
       "      <td>510.387935</td>\n",
       "    </tr>\n",
       "    <tr>\n",
       "      <th>Vietnamese noedelsalade met gemarineerde garnalen</th>\n",
       "      <td>22.0</td>\n",
       "      <td>475.0</td>\n",
       "      <td>33.0</td>\n",
       "      <td>580.0</td>\n",
       "      <td>27.0</td>\n",
       "      <td>6.0</td>\n",
       "      <td>0.0</td>\n",
       "      <td>4.0</td>\n",
       "      <td>518.508381</td>\n",
       "    </tr>\n",
       "    <tr>\n",
       "      <th>...</th>\n",
       "      <td>...</td>\n",
       "      <td>...</td>\n",
       "      <td>...</td>\n",
       "      <td>...</td>\n",
       "      <td>...</td>\n",
       "      <td>...</td>\n",
       "      <td>...</td>\n",
       "      <td>...</td>\n",
       "      <td>...</td>\n",
       "    </tr>\n",
       "    <tr>\n",
       "      <th>Zweedse gehaktballetjes met room</th>\n",
       "      <td>33.0</td>\n",
       "      <td>640.0</td>\n",
       "      <td>26.0</td>\n",
       "      <td>520.0</td>\n",
       "      <td>45.0</td>\n",
       "      <td>2.0</td>\n",
       "      <td>0.0</td>\n",
       "      <td>22.0</td>\n",
       "      <td>673.718995</td>\n",
       "    </tr>\n",
       "    <tr>\n",
       "      <th>Zweedse vegaballetjes met aardappel &amp;amp; broccoli</th>\n",
       "      <td>38.0</td>\n",
       "      <td>770.0</td>\n",
       "      <td>76.0</td>\n",
       "      <td>1320.0</td>\n",
       "      <td>31.0</td>\n",
       "      <td>17.0</td>\n",
       "      <td>0.0</td>\n",
       "      <td>10.0</td>\n",
       "      <td>723.430733</td>\n",
       "    </tr>\n",
       "    <tr>\n",
       "      <th>Zwitserse kaasfondue</th>\n",
       "      <td>56.0</td>\n",
       "      <td>850.0</td>\n",
       "      <td>7.0</td>\n",
       "      <td>920.0</td>\n",
       "      <td>63.0</td>\n",
       "      <td>0.0</td>\n",
       "      <td>5.0</td>\n",
       "      <td>38.0</td>\n",
       "      <td>714.212795</td>\n",
       "    </tr>\n",
       "    <tr>\n",
       "      <th>Îles flottantes</th>\n",
       "      <td>10.0</td>\n",
       "      <td>290.0</td>\n",
       "      <td>49.0</td>\n",
       "      <td>125.0</td>\n",
       "      <td>6.0</td>\n",
       "      <td>0.0</td>\n",
       "      <td>0.0</td>\n",
       "      <td>3.0</td>\n",
       "      <td>298.413779</td>\n",
       "    </tr>\n",
       "    <tr>\n",
       "      <th>‘Nasi’ met Hollandse soepgroente</th>\n",
       "      <td>18.0</td>\n",
       "      <td>500.0</td>\n",
       "      <td>71.0</td>\n",
       "      <td>200.0</td>\n",
       "      <td>14.0</td>\n",
       "      <td>7.0</td>\n",
       "      <td>8.0</td>\n",
       "      <td>3.0</td>\n",
       "      <td>464.620439</td>\n",
       "    </tr>\n",
       "  </tbody>\n",
       "</table>\n",
       "<p>706 rows × 9 columns</p>\n",
       "</div>"
      ],
      "text/plain": [
       "nutrition                                           eiwit  energie  \\\n",
       "recipe                                                               \n",
       "Vietnamese karamelzalm van Donal Skehan              34.0    490.0   \n",
       "Vietnamese komkommer                                 17.0    335.0   \n",
       "Vietnamese loempia's                                  6.0    160.0   \n",
       "Vietnamese loempia's met groente                     10.0    500.0   \n",
       "Vietnamese noedelsalade met gemarineerde garnalen    22.0    475.0   \n",
       "...                                                   ...      ...   \n",
       "Zweedse gehaktballetjes met room                     33.0    640.0   \n",
       "Zweedse vegaballetjes met aardappel &amp; broccoli   38.0    770.0   \n",
       "Zwitserse kaasfondue                                 56.0    850.0   \n",
       "Îles flottantes                                      10.0    290.0   \n",
       "‘Nasi’ met Hollandse soepgroente                     18.0    500.0   \n",
       "\n",
       "nutrition                                           koolhydraten  natrium  \\\n",
       "recipe                                                                      \n",
       "Vietnamese karamelzalm van Donal Skehan                     24.0    680.0   \n",
       "Vietnamese komkommer                                        62.0      NaN   \n",
       "Vietnamese loempia's                                        15.0    320.0   \n",
       "Vietnamese loempia's met groente                            38.0      NaN   \n",
       "Vietnamese noedelsalade met gemarineerde garnalen           33.0    580.0   \n",
       "...                                                          ...      ...   \n",
       "Zweedse gehaktballetjes met room                            26.0    520.0   \n",
       "Zweedse vegaballetjes met aardappel &amp; broccoli          76.0   1320.0   \n",
       "Zwitserse kaasfondue                                         7.0    920.0   \n",
       "Îles flottantes                                             49.0    125.0   \n",
       "‘Nasi’ met Hollandse soepgroente                            71.0    200.0   \n",
       "\n",
       "nutrition                                            vet  vezels  \\\n",
       "recipe                                                             \n",
       "Vietnamese karamelzalm van Donal Skehan             28.0     3.0   \n",
       "Vietnamese komkommer                                 1.0     0.0   \n",
       "Vietnamese loempia's                                 8.0     1.0   \n",
       "Vietnamese loempia's met groente                    33.0     0.0   \n",
       "Vietnamese noedelsalade met gemarineerde garnalen   27.0     6.0   \n",
       "...                                                  ...     ...   \n",
       "Zweedse gehaktballetjes met room                    45.0     2.0   \n",
       "Zweedse vegaballetjes met aardappel &amp; broccoli  31.0    17.0   \n",
       "Zwitserse kaasfondue                                63.0     0.0   \n",
       "Îles flottantes                                      6.0     0.0   \n",
       "‘Nasi’ met Hollandse soepgroente                    14.0     7.0   \n",
       "\n",
       "nutrition                                           waarvan suikers  \\\n",
       "recipe                                                                \n",
       "Vietnamese karamelzalm van Donal Skehan                         0.0   \n",
       "Vietnamese komkommer                                            0.0   \n",
       "Vietnamese loempia's                                            3.0   \n",
       "Vietnamese loempia's met groente                                0.0   \n",
       "Vietnamese noedelsalade met gemarineerde garnalen               0.0   \n",
       "...                                                             ...   \n",
       "Zweedse gehaktballetjes met room                                0.0   \n",
       "Zweedse vegaballetjes met aardappel &amp; broccoli              0.0   \n",
       "Zwitserse kaasfondue                                            5.0   \n",
       "Îles flottantes                                                 0.0   \n",
       "‘Nasi’ met Hollandse soepgroente                                8.0   \n",
       "\n",
       "nutrition                                           waarvan verzadigd  \\\n",
       "recipe                                                                  \n",
       "Vietnamese karamelzalm van Donal Skehan                           4.0   \n",
       "Vietnamese komkommer                                              0.0   \n",
       "Vietnamese loempia's                                              2.0   \n",
       "Vietnamese loempia's met groente                                  0.0   \n",
       "Vietnamese noedelsalade met gemarineerde garnalen                 4.0   \n",
       "...                                                               ...   \n",
       "Zweedse gehaktballetjes met room                                 22.0   \n",
       "Zweedse vegaballetjes met aardappel &amp; broccoli               10.0   \n",
       "Zwitserse kaasfondue                                             38.0   \n",
       "Îles flottantes                                                   3.0   \n",
       "‘Nasi’ met Hollandse soepgroente                                  3.0   \n",
       "\n",
       "nutrition                                               y_pred  \n",
       "recipe                                                          \n",
       "Vietnamese karamelzalm van Donal Skehan             542.883119  \n",
       "Vietnamese komkommer                                261.752467  \n",
       "Vietnamese loempia's                                207.600411  \n",
       "Vietnamese loempia's met groente                    510.387935  \n",
       "Vietnamese noedelsalade met gemarineerde garnalen   518.508381  \n",
       "...                                                        ...  \n",
       "Zweedse gehaktballetjes met room                    673.718995  \n",
       "Zweedse vegaballetjes met aardappel &amp; broccoli  723.430733  \n",
       "Zwitserse kaasfondue                                714.212795  \n",
       "Îles flottantes                                     298.413779  \n",
       "‘Nasi’ met Hollandse soepgroente                    464.620439  \n",
       "\n",
       "[706 rows x 9 columns]"
      ]
     },
     "execution_count": 115,
     "metadata": {},
     "output_type": "execute_result"
    }
   ],
   "source": [
    "df_test['y_pred'] = y_pred_good\n",
    "df_test"
   ]
  },
  {
   "cell_type": "markdown",
   "id": "9681caae",
   "metadata": {},
   "source": [
    "# Evaluation"
   ]
  },
  {
   "cell_type": "code",
   "execution_count": 116,
   "id": "e13ae20a",
   "metadata": {},
   "outputs": [
    {
     "data": {
      "text/plain": [
       "0.9064710909031924"
      ]
     },
     "execution_count": 116,
     "metadata": {},
     "output_type": "execute_result"
    }
   ],
   "source": [
    "r2_total = r2_score(df_test['energie'], df_test['y_pred'])\n",
    "r2_total"
   ]
  },
  {
   "cell_type": "markdown",
   "id": "7df42d18",
   "metadata": {},
   "source": [
    "Eventually, the model semmed out te be a good model. With an r2_score of 0.91 (rounded) I think the model would be accurate enough to give a good prediction of the kcal in each meal"
   ]
  },
  {
   "cell_type": "code",
   "execution_count": null,
   "id": "d9416956",
   "metadata": {},
   "outputs": [],
   "source": []
  }
 ],
 "metadata": {
  "kernelspec": {
   "display_name": "Python 3 (ipykernel)",
   "language": "python",
   "name": "python3"
  },
  "language_info": {
   "codemirror_mode": {
    "name": "ipython",
    "version": 3
   },
   "file_extension": ".py",
   "mimetype": "text/x-python",
   "name": "python",
   "nbconvert_exporter": "python",
   "pygments_lexer": "ipython3",
   "version": "3.9.15"
  }
 },
 "nbformat": 4,
 "nbformat_minor": 5
}
